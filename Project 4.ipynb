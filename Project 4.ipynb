{
 "cells": [
  {
   "cell_type": "markdown",
   "metadata": {
    "collapsed": true
   },
   "source": [
    "# Project 4: Web Scraping Job Postings"
   ]
  },
  {
   "cell_type": "markdown",
   "metadata": {},
   "source": [
    "### Forecasting salary ranges for data science jobs in San Francisco using Indeed.com's API to gather job descriptions.\n",
    "# 👨🏻‍💻👩🏻‍💻👨🏼‍💻👩🏼‍💻👨🏽‍💻👩🏽‍💻👨🏾‍💻👩🏾‍💻👨🏿‍💻👩🏿‍💻👨🏻‍💻👩🏻‍💻👨🏼‍💻👩🏼‍💻👨🏽‍💻👩🏽‍💻👨🏾‍💻👩🏾‍💻👨🏿‍💻👩🏿‍💻👨🏻‍💻👩🏻‍💻👨🏼‍💻👩🏼‍💻👨🏽‍💻👩🏽‍💻👨🏾‍💻👩🏾‍💻👨🏿‍💻👩🏿‍💻"
   ]
  },
  {
   "cell_type": "code",
   "execution_count": 4,
   "metadata": {
    "collapsed": true
   },
   "outputs": [],
   "source": [
    "import pprint\n",
    "import requests\n",
    "import json\n",
    "import pandas as pd\n",
    "import urllib2\n",
    "import time\n",
    "import numpy as np\n",
    "from collections import Counter\n",
    "from sklearn.feature_extraction.text import CountVectorizer\n",
    "from sklearn.model_selection import train_test_split, cross_val_score\n",
    "from sklearn.linear_model import LassoCV, RidgeCV, ElasticNetCV, LinearRegression\n",
    "from sklearn.ensemble import RandomForestRegressor\n",
    "from sklearn.neighbors import KNeighborsRegressor\n",
    "import matplotlib\n",
    "import plotly.plotly as py\n",
    "import cufflinks as cf\n",
    "\n",
    "# Using the Indeed API to collect data\n",
    "from indeed import IndeedClient\n",
    "\n",
    "# Shushing the compiler\n",
    "import warnings\n",
    "warnings.simplefilter(action='ignore', category=FutureWarning)\n",
    "pd.set_option('chained_assignment',None)"
   ]
  },
  {
   "cell_type": "code",
   "execution_count": 5,
   "metadata": {
    "collapsed": true
   },
   "outputs": [],
   "source": [
    "# The API requires passing the client's IP.\n",
    "# So, I'll create a function to collect that.\n",
    "\n",
    "def get_ip():\n",
    "    ext_ip = urllib2.urlopen('http://whatismyip.org').read()\n",
    "    return ext_ip"
   ]
  },
  {
   "cell_type": "code",
   "execution_count": 6,
   "metadata": {
    "collapsed": true
   },
   "outputs": [],
   "source": [
    "# Setting my Indeed Developer API Key as a variable\n",
    "\n",
    "client = IndeedClient(publisher = 1295525004807710)"
   ]
  },
  {
   "cell_type": "code",
   "execution_count": 87,
   "metadata": {
    "collapsed": true
   },
   "outputs": [],
   "source": [
    "# The parameter structure for the API request:\n",
    "\n",
    "params = {\n",
    "        'q': \"data+scientist\",\n",
    "        'l': \"any\",                                                      \n",
    "        'start': 0,                                               \n",
    "        'end': 5000,\n",
    "        'limit': 5000,\n",
    "        'userip': get_ip,\n",
    "        'useragent': \"Mozilla/5.0 (Macintosh; Intel Mac OS X 10_8_2)\",\n",
    "        'sort': 'date',\n",
    "        'fromage': 'any',\n",
    "        'co': 'any'\n",
    "}"
   ]
  },
  {
   "cell_type": "code",
   "execution_count": 88,
   "metadata": {
    "collapsed": true
   },
   "outputs": [],
   "source": [
    "indeed = pd.DataFrame()\n",
    "search_response = client.search(**params)\n",
    "indeed = indeed.append(search_response['results'], ignore_index=True) "
   ]
  },
  {
   "cell_type": "code",
   "execution_count": 89,
   "metadata": {},
   "outputs": [
    {
     "data": {
      "text/plain": [
       "(25, 19)"
      ]
     },
     "execution_count": 89,
     "metadata": {},
     "output_type": "execute_result"
    }
   ],
   "source": [
    "indeed = pd.DataFrame(search_response['results'])\n",
    "indeed.shape"
   ]
  },
  {
   "cell_type": "markdown",
   "metadata": {
    "collapsed": true
   },
   "source": [
    "### Uh oh! An API limiting condition!! 😩<br>\n",
    "The API will only pass 25 listings at a time.<br>\n",
    "Even though we passed a limit at 5000 and an end at 5000, the API stops at 25.\n",
    "\n",
    "So, we have to create a range with steps of 24:<br>\n",
    "<ol>\n",
    "    <li>Collect the reponse from Indeed</li>\n",
    "    <li>Append the response to the DataFrame</li>\n",
    "    <li>Increment the parameters passed to the Indeed servers so that we can bypass their API restriction of 25 records</li>\n",
    "</ol>\n",
    "# 🎉🎉🎉🎉🎉🎉🎉🎉🎉🎉🎉🎉🎉🎉🎉🎉🎉🎉🎉🎉🎉🎉🎉🎉🎉🎉🎉🎉"
   ]
  },
  {
   "cell_type": "markdown",
   "metadata": {},
   "source": [
    "ALSO! I did some prodding of the parameters and the formatting of the advanced search feature on Indeed's website.<br> Although undocumented, it is possible to pass salary ranges into our search parameters.<br> Indeed advises these numbers are approximations:<br>"
   ]
  },
  {
   "cell_type": "markdown",
   "metadata": {},
   "source": [
    "<i>How much does a Data Scientist in the United States make?</i><br>\n",
    "\n",
    "The average Data Scientist salary in the United States is approximately 💲130,164.\n",
    "Salary information comes from 36,404 data points collected directly from employees, users, and past and present job advertisements on Indeed in the past 12 months.\n",
    "Please note that all salary figures are approximations based upon third party submissions to Indeed."
   ]
  },
  {
   "cell_type": "code",
   "execution_count": 101,
   "metadata": {},
   "outputs": [
    {
     "ename": "IndexError",
     "evalue": "list index out of range",
     "output_type": "error",
     "traceback": [
      "\u001b[0;31m---------------------------------------------------------------------------\u001b[0m",
      "\u001b[0;31mIndexError\u001b[0m                                Traceback (most recent call last)",
      "\u001b[0;32m<ipython-input-101-b54bb4ace98f>\u001b[0m in \u001b[0;36m<module>\u001b[0;34m()\u001b[0m\n\u001b[1;32m     16\u001b[0m              }\n\u001b[1;32m     17\u001b[0m     \u001b[0msearch_response\u001b[0m \u001b[0;34m=\u001b[0m \u001b[0mclient\u001b[0m\u001b[0;34m.\u001b[0m\u001b[0msearch\u001b[0m\u001b[0;34m(\u001b[0m\u001b[0;34m**\u001b[0m\u001b[0mparams\u001b[0m\u001b[0;34m)\u001b[0m\u001b[0;34m\u001b[0m\u001b[0m\n\u001b[0;32m---> 18\u001b[0;31m     \u001b[0mindeed275k\u001b[0m \u001b[0;34m=\u001b[0m \u001b[0mindeed275k\u001b[0m\u001b[0;34m.\u001b[0m\u001b[0mappend\u001b[0m\u001b[0;34m(\u001b[0m\u001b[0msearch_response\u001b[0m\u001b[0;34m[\u001b[0m\u001b[0;34m'results'\u001b[0m\u001b[0;34m]\u001b[0m\u001b[0;34m,\u001b[0m \u001b[0mignore_index\u001b[0m\u001b[0;34m=\u001b[0m\u001b[0mTrue\u001b[0m\u001b[0;34m)\u001b[0m\u001b[0;34m\u001b[0m\u001b[0m\n\u001b[0m\u001b[1;32m     19\u001b[0m \u001b[0;34m\u001b[0m\u001b[0m\n\u001b[1;32m     20\u001b[0m \u001b[0mindeed275k\u001b[0m\u001b[0;34m.\u001b[0m\u001b[0mshape\u001b[0m\u001b[0;34m\u001b[0m\u001b[0m\n",
      "\u001b[0;32m/Users/noun/anaconda/lib/python2.7/site-packages/pandas/core/frame.pyc\u001b[0m in \u001b[0;36mappend\u001b[0;34m(self, other, ignore_index, verify_integrity)\u001b[0m\n\u001b[1;32m   4632\u001b[0m             \u001b[0;32mif\u001b[0m \u001b[0;32mnot\u001b[0m \u001b[0mself\u001b[0m\u001b[0;34m.\u001b[0m\u001b[0mcolumns\u001b[0m\u001b[0;34m.\u001b[0m\u001b[0mequals\u001b[0m\u001b[0;34m(\u001b[0m\u001b[0mcombined_columns\u001b[0m\u001b[0;34m)\u001b[0m\u001b[0;34m:\u001b[0m\u001b[0;34m\u001b[0m\u001b[0m\n\u001b[1;32m   4633\u001b[0m                 \u001b[0mself\u001b[0m \u001b[0;34m=\u001b[0m \u001b[0mself\u001b[0m\u001b[0;34m.\u001b[0m\u001b[0mreindex\u001b[0m\u001b[0;34m(\u001b[0m\u001b[0mcolumns\u001b[0m\u001b[0;34m=\u001b[0m\u001b[0mcombined_columns\u001b[0m\u001b[0;34m)\u001b[0m\u001b[0;34m\u001b[0m\u001b[0m\n\u001b[0;32m-> 4634\u001b[0;31m         \u001b[0;32melif\u001b[0m \u001b[0misinstance\u001b[0m\u001b[0;34m(\u001b[0m\u001b[0mother\u001b[0m\u001b[0;34m,\u001b[0m \u001b[0mlist\u001b[0m\u001b[0;34m)\u001b[0m \u001b[0;32mand\u001b[0m \u001b[0;32mnot\u001b[0m \u001b[0misinstance\u001b[0m\u001b[0;34m(\u001b[0m\u001b[0mother\u001b[0m\u001b[0;34m[\u001b[0m\u001b[0;36m0\u001b[0m\u001b[0;34m]\u001b[0m\u001b[0;34m,\u001b[0m \u001b[0mDataFrame\u001b[0m\u001b[0;34m)\u001b[0m\u001b[0;34m:\u001b[0m\u001b[0;34m\u001b[0m\u001b[0m\n\u001b[0m\u001b[1;32m   4635\u001b[0m             \u001b[0mother\u001b[0m \u001b[0;34m=\u001b[0m \u001b[0mDataFrame\u001b[0m\u001b[0;34m(\u001b[0m\u001b[0mother\u001b[0m\u001b[0;34m)\u001b[0m\u001b[0;34m\u001b[0m\u001b[0m\n\u001b[1;32m   4636\u001b[0m             \u001b[0;32mif\u001b[0m \u001b[0;34m(\u001b[0m\u001b[0mself\u001b[0m\u001b[0;34m.\u001b[0m\u001b[0mcolumns\u001b[0m\u001b[0;34m.\u001b[0m\u001b[0mget_indexer\u001b[0m\u001b[0;34m(\u001b[0m\u001b[0mother\u001b[0m\u001b[0;34m.\u001b[0m\u001b[0mcolumns\u001b[0m\u001b[0;34m)\u001b[0m \u001b[0;34m>=\u001b[0m \u001b[0;36m0\u001b[0m\u001b[0;34m)\u001b[0m\u001b[0;34m.\u001b[0m\u001b[0mall\u001b[0m\u001b[0;34m(\u001b[0m\u001b[0;34m)\u001b[0m\u001b[0;34m:\u001b[0m\u001b[0;34m\u001b[0m\u001b[0m\n",
      "\u001b[0;31mIndexError\u001b[0m: list index out of range"
     ]
    }
   ],
   "source": [
    "indeed275k = pd.DataFrame()\n",
    "\n",
    "for i in np.arange(0, 2000, 24):                                                                                                                                                                                            \n",
    "    params = {                                                                \n",
    "                'q': \"data+scientist\",\n",
    "                'salary': '$265k-275k',\n",
    "                'l': \"san francisco\",                                                      \n",
    "                'start': 0 + i,                                               \n",
    "                'end': 24 + i,\n",
    "                'limit': 25,\n",
    "                'userip': get_ip,\n",
    "                'useragent': \"Mozilla/5.0 (Macintosh; Intel Mac OS X 10_8_2)\",\n",
    "                'sort': 'date',\n",
    "                'fromage': 'any',\n",
    "                'co': 'any'\n",
    "             }\n",
    "    search_response = client.search(**params)\n",
    "    indeed275k = indeed275k.append(search_response['results'], ignore_index=True)   \n",
    "                                                                                  \n",
    "indeed275k.shape"
   ]
  },
  {
   "cell_type": "markdown",
   "metadata": {},
   "source": [
    "#### Looks like we hit a wall for salaries above 💲265,000.\n",
    "But, realistically... who's getting more than $265k?? 😳"
   ]
  },
  {
   "cell_type": "code",
   "execution_count": 102,
   "metadata": {},
   "outputs": [
    {
     "name": "stdout",
     "output_type": "stream",
     "text": [
      "Indeed $0k - $65k:  (644, 19)\n",
      "Indeed $65k - $85k:  (1370, 19)\n",
      "Indeed $85k - $105k:  (728, 19)\n",
      "Indeed $105k - $125k:  (1821, 19)\n",
      "Indeed $125k - $145k:  (903, 19)\n",
      "Indeed $145k - $165k:  (1021, 19)\n",
      "Indeed $165k - $185k:  (720, 19)\n",
      "Indeed $185k - $205k:  (167, 19)\n",
      "Indeed $205k - $225k:  (84, 19)\n",
      "Indeed $225k - $245k:  (84, 19)\n",
      "Indeed $245k - $265k:  (84, 19)\n"
     ]
    }
   ],
   "source": [
    "# DataFrame Shapes\n",
    "print 'Indeed $0k - $65k: ', indeed65k.shape\n",
    "print 'Indeed $65k - $85k: ', indeed85k.shape\n",
    "print 'Indeed $85k - $105k: ', indeed105k.shape\n",
    "print 'Indeed $105k - $125k: ', indeed125k.shape\n",
    "print 'Indeed $125k - $145k: ', indeed145k.shape\n",
    "print 'Indeed $145k - $165k: ', indeed165k.shape\n",
    "print 'Indeed $165k - $185k: ', indeed185k.shape\n",
    "print 'Indeed $185k - $205k: ', indeed205k.shape\n",
    "print 'Indeed $205k - $225k: ', indeed225k.shape\n",
    "print 'Indeed $225k - $245k: ', indeed245k.shape\n",
    "print 'Indeed $245k - $265k: ', indeed265k.shape"
   ]
  },
  {
   "cell_type": "markdown",
   "metadata": {},
   "source": [
    "## Let's take a look at some of these DataFrames. 🔍"
   ]
  },
  {
   "cell_type": "code",
   "execution_count": 103,
   "metadata": {},
   "outputs": [
    {
     "data": {
      "text/plain": [
       "Workbridge Associates       393\n",
       "Harnham                     163\n",
       "Elevate Recruiting Group     83\n",
       "Jobspring Partners           81\n",
       "Name: company, dtype: int64"
      ]
     },
     "execution_count": 103,
     "metadata": {},
     "output_type": "execute_result"
    }
   ],
   "source": [
    "indeed185k.company.value_counts()"
   ]
  },
  {
   "cell_type": "code",
   "execution_count": 104,
   "metadata": {},
   "outputs": [
    {
     "data": {
      "text/plain": [
       "Workbridge Associates    167\n",
       "Name: company, dtype: int64"
      ]
     },
     "execution_count": 104,
     "metadata": {},
     "output_type": "execute_result"
    }
   ],
   "source": [
    "indeed205k.company.value_counts()"
   ]
  },
  {
   "cell_type": "code",
   "execution_count": 105,
   "metadata": {},
   "outputs": [
    {
     "data": {
      "text/plain": [
       "Harnham    84\n",
       "Name: company, dtype: int64"
      ]
     },
     "execution_count": 105,
     "metadata": {},
     "output_type": "execute_result"
    }
   ],
   "source": [
    "indeed225k.company.value_counts()"
   ]
  },
  {
   "cell_type": "code",
   "execution_count": 106,
   "metadata": {},
   "outputs": [
    {
     "data": {
      "text/plain": [
       "Averity    84\n",
       "Name: company, dtype: int64"
      ]
     },
     "execution_count": 106,
     "metadata": {},
     "output_type": "execute_result"
    }
   ],
   "source": [
    "indeed245k.company.value_counts()"
   ]
  },
  {
   "cell_type": "code",
   "execution_count": 107,
   "metadata": {},
   "outputs": [
    {
     "data": {
      "text/plain": [
       "Workbridge Associates    84\n",
       "Name: company, dtype: int64"
      ]
     },
     "execution_count": 107,
     "metadata": {},
     "output_type": "execute_result"
    }
   ],
   "source": [
    "indeed265k.company.value_counts()"
   ]
  },
  {
   "cell_type": "markdown",
   "metadata": {},
   "source": [
    "### There doesn't seem to be much value in any of the $205k+ DataFrames."
   ]
  },
  {
   "cell_type": "markdown",
   "metadata": {},
   "source": [
    "#### Having these salary ranges allows me to create salary targets within each DataFrame.\n",
    "# 💲🤑💲🤑💲🤑💲🤑💲🤑💲🤑💲🤑💲🤑💲🤑💲🤑💲🤑💲🤑💲🤑💲"
   ]
  },
  {
   "cell_type": "code",
   "execution_count": 108,
   "metadata": {
    "collapsed": true
   },
   "outputs": [],
   "source": [
    "indeed65k['salary'] = 65000\n",
    "indeed85k['salary'] = 85000\n",
    "indeed105k['salary'] = 105000\n",
    "indeed125k['salary'] = 125000\n",
    "indeed145k['salary'] = 145000\n",
    "indeed165k['salary'] = 165000\n",
    "indeed185k['salary'] = 185000"
   ]
  },
  {
   "cell_type": "markdown",
   "metadata": {},
   "source": [
    "Let's put these all together into one DataFrame for cleaning and analysis."
   ]
  },
  {
   "cell_type": "code",
   "execution_count": 109,
   "metadata": {
    "collapsed": true
   },
   "outputs": [],
   "source": [
    "yes_indeedy = [indeed85k, indeed105k, indeed125k, indeed145k, indeed165k, \\\n",
    "               indeed185k]\n",
    "\n",
    "indeed = indeed65k.append(yes_indeedy)"
   ]
  },
  {
   "cell_type": "code",
   "execution_count": 110,
   "metadata": {},
   "outputs": [
    {
     "data": {
      "text/plain": [
       "(7207, 20)"
      ]
     },
     "execution_count": 110,
     "metadata": {},
     "output_type": "execute_result"
    }
   ],
   "source": [
    "indeed.shape"
   ]
  },
  {
   "cell_type": "markdown",
   "metadata": {},
   "source": [
    "Let's check for duplicate job listings and take those out."
   ]
  },
  {
   "cell_type": "code",
   "execution_count": 111,
   "metadata": {
    "scrolled": false
   },
   "outputs": [
    {
     "data": {
      "text/plain": [
       "city                     124\n",
       "company                  124\n",
       "country                  124\n",
       "date                     124\n",
       "expired                  124\n",
       "formattedLocation        124\n",
       "formattedLocationFull    124\n",
       "formattedRelativeTime    124\n",
       "indeedApply              124\n",
       "jobkey                   124\n",
       "jobtitle                 124\n",
       "language                 124\n",
       "onmousedown              124\n",
       "snippet                  124\n",
       "source                   124\n",
       "sponsored                124\n",
       "state                    124\n",
       "stations                 124\n",
       "url                      124\n",
       "salary                   124\n",
       "dtype: int64"
      ]
     },
     "execution_count": 111,
     "metadata": {},
     "output_type": "execute_result"
    }
   ],
   "source": [
    "indeed[indeed.duplicated('jobkey', keep=False) == False].count()"
   ]
  },
  {
   "cell_type": "markdown",
   "metadata": {},
   "source": [
    "Rut-roh! Looks like there are several duplicates!<br>\n",
    "Let's nuke 'em!\n",
    "# 💥💥💥💥💥💥💥💥💥💥💥💥💥💥💥💥💥💥💥💥💥💥💥💥💥💥💥"
   ]
  },
  {
   "cell_type": "code",
   "execution_count": 112,
   "metadata": {
    "collapsed": true
   },
   "outputs": [],
   "source": [
    "indeed = indeed[indeed.duplicated('jobkey', keep=False) == True]\n",
    "indeed.reset_index(drop=True, inplace=True)"
   ]
  },
  {
   "cell_type": "markdown",
   "metadata": {},
   "source": [
    "I'm turning this DataFrame into a .CSV file to make a checkpoint of my work."
   ]
  },
  {
   "cell_type": "code",
   "execution_count": 2,
   "metadata": {},
   "outputs": [
    {
     "ename": "NameError",
     "evalue": "name 'indeed' is not defined",
     "output_type": "error",
     "traceback": [
      "\u001b[0;31m---------------------------------------------------------------------------\u001b[0m",
      "\u001b[0;31mNameError\u001b[0m                                 Traceback (most recent call last)",
      "\u001b[0;32m<ipython-input-2-10ca8849e804>\u001b[0m in \u001b[0;36m<module>\u001b[0;34m()\u001b[0m\n\u001b[0;32m----> 1\u001b[0;31m \u001b[0mindeed\u001b[0m\u001b[0;34m.\u001b[0m\u001b[0mto_csv\u001b[0m\u001b[0;34m(\u001b[0m\u001b[0;34m'indeed_collection.csv'\u001b[0m\u001b[0;34m,\u001b[0m \u001b[0msep\u001b[0m\u001b[0;34m=\u001b[0m\u001b[0;34m','\u001b[0m\u001b[0;34m,\u001b[0m \u001b[0mencoding\u001b[0m\u001b[0;34m=\u001b[0m\u001b[0;34m'utf-8'\u001b[0m\u001b[0;34m)\u001b[0m\u001b[0;34m\u001b[0m\u001b[0m\n\u001b[0m",
      "\u001b[0;31mNameError\u001b[0m: name 'indeed' is not defined"
     ]
    }
   ],
   "source": [
    "indeed.to_csv('indeed_collection.csv', sep=',', encoding='utf-8')"
   ]
  },
  {
   "cell_type": "code",
   "execution_count": 7,
   "metadata": {},
   "outputs": [],
   "source": [
    "# indeed = pd.read_csv('./indeed_collection.csv')"
   ]
  },
  {
   "cell_type": "code",
   "execution_count": 8,
   "metadata": {},
   "outputs": [
    {
     "data": {
      "text/plain": [
       "(7083, 21)"
      ]
     },
     "execution_count": 8,
     "metadata": {},
     "output_type": "execute_result"
    }
   ],
   "source": [
    "indeed.shape"
   ]
  },
  {
   "cell_type": "markdown",
   "metadata": {},
   "source": [
    "Around 7000 rows isn't very meaty, and my intial impulse is to widen the location net.<br> We have to consider that the Bay Area likely pays at a disproportionate rate compared to other regions.<br> So, for the time being, we'll work from here."
   ]
  },
  {
   "cell_type": "markdown",
   "metadata": {},
   "source": [
    "How tidy is the rest of the DataFrame?"
   ]
  },
  {
   "cell_type": "code",
   "execution_count": 9,
   "metadata": {},
   "outputs": [
    {
     "data": {
      "text/plain": [
       "Unnamed: 0                 int64\n",
       "city                      object\n",
       "company                   object\n",
       "country                   object\n",
       "date                      object\n",
       "expired                     bool\n",
       "formattedLocation         object\n",
       "formattedLocationFull     object\n",
       "formattedRelativeTime     object\n",
       "indeedApply                 bool\n",
       "jobkey                    object\n",
       "jobtitle                  object\n",
       "language                  object\n",
       "onmousedown               object\n",
       "snippet                   object\n",
       "source                    object\n",
       "sponsored                   bool\n",
       "state                     object\n",
       "stations                 float64\n",
       "url                       object\n",
       "salary                     int64\n",
       "dtype: object"
      ]
     },
     "execution_count": 9,
     "metadata": {},
     "output_type": "execute_result"
    }
   ],
   "source": [
    "indeed.dtypes"
   ]
  },
  {
   "cell_type": "code",
   "execution_count": 10,
   "metadata": {},
   "outputs": [
    {
     "data": {
      "text/html": [
       "<div>\n",
       "<style>\n",
       "    .dataframe thead tr:only-child th {\n",
       "        text-align: right;\n",
       "    }\n",
       "\n",
       "    .dataframe thead th {\n",
       "        text-align: left;\n",
       "    }\n",
       "\n",
       "    .dataframe tbody tr th {\n",
       "        vertical-align: top;\n",
       "    }\n",
       "</style>\n",
       "<table border=\"1\" class=\"dataframe\">\n",
       "  <thead>\n",
       "    <tr style=\"text-align: right;\">\n",
       "      <th></th>\n",
       "      <th>Unnamed: 0</th>\n",
       "      <th>city</th>\n",
       "      <th>company</th>\n",
       "      <th>country</th>\n",
       "      <th>date</th>\n",
       "      <th>expired</th>\n",
       "      <th>formattedLocation</th>\n",
       "      <th>formattedLocationFull</th>\n",
       "      <th>formattedRelativeTime</th>\n",
       "      <th>indeedApply</th>\n",
       "      <th>...</th>\n",
       "      <th>jobtitle</th>\n",
       "      <th>language</th>\n",
       "      <th>onmousedown</th>\n",
       "      <th>snippet</th>\n",
       "      <th>source</th>\n",
       "      <th>sponsored</th>\n",
       "      <th>state</th>\n",
       "      <th>stations</th>\n",
       "      <th>url</th>\n",
       "      <th>salary</th>\n",
       "    </tr>\n",
       "  </thead>\n",
       "  <tbody>\n",
       "    <tr>\n",
       "      <th>0</th>\n",
       "      <td>0</td>\n",
       "      <td>San Francisco</td>\n",
       "      <td>IBM</td>\n",
       "      <td>US</td>\n",
       "      <td>Mon, 15 May 2017 21:28:22 GMT</td>\n",
       "      <td>False</td>\n",
       "      <td>San Francisco, CA</td>\n",
       "      <td>San Francisco, CA</td>\n",
       "      <td>3 days ago</td>\n",
       "      <td>False</td>\n",
       "      <td>...</td>\n",
       "      <td>Data Science Community Manager</td>\n",
       "      <td>en</td>\n",
       "      <td>indeed_clk(this,'4723');</td>\n",
       "      <td>&lt;b&gt;Data&lt;/b&gt; &lt;b&gt;Scientist&lt;/b&gt; Community Manager...</td>\n",
       "      <td>IBM</td>\n",
       "      <td>False</td>\n",
       "      <td>CA</td>\n",
       "      <td>NaN</td>\n",
       "      <td>http://www.indeed.com/viewjob?jk=c33fae3f8ce6b...</td>\n",
       "      <td>65000</td>\n",
       "    </tr>\n",
       "  </tbody>\n",
       "</table>\n",
       "<p>1 rows × 21 columns</p>\n",
       "</div>"
      ],
      "text/plain": [
       "   Unnamed: 0           city company country                           date  \\\n",
       "0           0  San Francisco     IBM      US  Mon, 15 May 2017 21:28:22 GMT   \n",
       "\n",
       "   expired  formattedLocation formattedLocationFull formattedRelativeTime  \\\n",
       "0    False  San Francisco, CA     San Francisco, CA            3 days ago   \n",
       "\n",
       "   indeedApply  ...                          jobtitle language  \\\n",
       "0        False  ...    Data Science Community Manager       en   \n",
       "\n",
       "                onmousedown  \\\n",
       "0  indeed_clk(this,'4723');   \n",
       "\n",
       "                                             snippet source sponsored  state  \\\n",
       "0  <b>Data</b> <b>Scientist</b> Community Manager...    IBM     False     CA   \n",
       "\n",
       "  stations                                                url salary  \n",
       "0      NaN  http://www.indeed.com/viewjob?jk=c33fae3f8ce6b...  65000  \n",
       "\n",
       "[1 rows x 21 columns]"
      ]
     },
     "execution_count": 10,
     "metadata": {},
     "output_type": "execute_result"
    }
   ],
   "source": [
    "indeed.head(1)"
   ]
  },
  {
   "cell_type": "markdown",
   "metadata": {},
   "source": [
    "#### Looks like we have a few wonky columns to drop.\n",
    "We will drop the <i>Country</i>, <i>State</i>, <i>Stations</i>, <i>Sponsored</i>, <i>Language</i>, and <i>Expired</i> columns, because they are uniform.<br>\n",
    "We also don't have a need for the individual job listing <i>URL</i>s or the <i>On Mouse Down</i> actions column.<br> The <i>Company</i> and <i>Source</i> features have matching data, so we only need one.<br>The <i>Formatted Location</i> and <i>Formatted Location Full</i> columns also tell us little, so they can go.<br>Also, we no longer need the <i>JobKey</i> feature, because we have so far used it to remove any duplicates.\n",
    "<br><br> There may be salary differences within the Bay Area, but we don't have a need for this combined detail considering that there is a <i>City</i> column provided."
   ]
  },
  {
   "cell_type": "code",
   "execution_count": 11,
   "metadata": {
    "collapsed": true
   },
   "outputs": [],
   "source": [
    "indeed.drop(['city', 'country', 'state', 'stations', 'sponsored', 'language', 'expired', \\\n",
    "             'formattedLocation', 'source', 'formattedLocationFull', 'url', 'onmousedown', \\\n",
    "             'jobkey'],\n",
    "             axis=1, inplace=True)\n",
    "\n",
    "indeed.reset_index(drop=True, inplace=True)"
   ]
  },
  {
   "cell_type": "markdown",
   "metadata": {},
   "source": [
    "Let's convert the date column to DateTime."
   ]
  },
  {
   "cell_type": "code",
   "execution_count": 12,
   "metadata": {
    "collapsed": true
   },
   "outputs": [],
   "source": [
    "indeed['date'] = pd.to_datetime(indeed['date'], infer_datetime_format=True)"
   ]
  },
  {
   "cell_type": "markdown",
   "metadata": {},
   "source": [
    "Let's see if we can do something with the <i>Formatted Relative Time</i> column."
   ]
  },
  {
   "cell_type": "code",
   "execution_count": 13,
   "metadata": {},
   "outputs": [
    {
     "data": {
      "text/plain": [
       "30+ days ago    5753\n",
       "2 days ago       170\n",
       "20 days ago      163\n",
       "21 days ago      159\n",
       "23 days ago       96\n",
       "7 days ago        96\n",
       "6 days ago        94\n",
       "17 days ago       93\n",
       "15 days ago       93\n",
       "8 days ago        91\n",
       "3 days ago        87\n",
       "10 days ago       83\n",
       "28 days ago       48\n",
       "27 days ago       21\n",
       "26 days ago       17\n",
       "12 days ago       11\n",
       "5 days ago         4\n",
       "29 days ago        2\n",
       "24 days ago        2\n",
       "Name: formattedRelativeTime, dtype: int64"
      ]
     },
     "execution_count": 13,
     "metadata": {},
     "output_type": "execute_result"
    }
   ],
   "source": [
    "indeed.formattedRelativeTime.value_counts()"
   ]
  },
  {
   "cell_type": "code",
   "execution_count": 14,
   "metadata": {},
   "outputs": [
    {
     "data": {
      "text/plain": [
       "Unnamed: 0                        int64\n",
       "company                          object\n",
       "date                     datetime64[ns]\n",
       "formattedRelativeTime            object\n",
       "indeedApply                        bool\n",
       "jobtitle                         object\n",
       "snippet                          object\n",
       "salary                            int64\n",
       "dtype: object"
      ]
     },
     "execution_count": 14,
     "metadata": {},
     "output_type": "execute_result"
    }
   ],
   "source": [
    "indeed.dtypes"
   ]
  },
  {
   "cell_type": "markdown",
   "metadata": {},
   "source": [
    "### Woof. That's no fun. 🤢\n",
    "I'll need to convert the 'hours ago' listings to 1 day, and then I'll have to extract the integers from the 'day ago' strings.<br> Then, I'll drop the <i>Formatted Relative Time</i> column."
   ]
  },
  {
   "cell_type": "code",
   "execution_count": 15,
   "metadata": {
    "collapsed": true,
    "scrolled": true
   },
   "outputs": [],
   "source": [
    "indeed['daysAgo'] = indeed['formattedRelativeTime'].str.extract('(\\d+)').astype(int)\n",
    "indeed['daysAgo'][indeed['formattedRelativeTime'].str.contains('hours')] = 1\n",
    "indeed.drop('formattedRelativeTime', axis=1, inplace=True)"
   ]
  },
  {
   "cell_type": "code",
   "execution_count": 16,
   "metadata": {},
   "outputs": [
    {
     "data": {
      "text/html": [
       "<div>\n",
       "<style>\n",
       "    .dataframe thead tr:only-child th {\n",
       "        text-align: right;\n",
       "    }\n",
       "\n",
       "    .dataframe thead th {\n",
       "        text-align: left;\n",
       "    }\n",
       "\n",
       "    .dataframe tbody tr th {\n",
       "        vertical-align: top;\n",
       "    }\n",
       "</style>\n",
       "<table border=\"1\" class=\"dataframe\">\n",
       "  <thead>\n",
       "    <tr style=\"text-align: right;\">\n",
       "      <th></th>\n",
       "      <th>Unnamed: 0</th>\n",
       "      <th>company</th>\n",
       "      <th>date</th>\n",
       "      <th>indeedApply</th>\n",
       "      <th>jobtitle</th>\n",
       "      <th>snippet</th>\n",
       "      <th>salary</th>\n",
       "      <th>daysAgo</th>\n",
       "    </tr>\n",
       "  </thead>\n",
       "  <tbody>\n",
       "    <tr>\n",
       "      <th>0</th>\n",
       "      <td>0</td>\n",
       "      <td>IBM</td>\n",
       "      <td>2017-05-15 21:28:22</td>\n",
       "      <td>False</td>\n",
       "      <td>Data Science Community Manager</td>\n",
       "      <td>&lt;b&gt;Data&lt;/b&gt; &lt;b&gt;Scientist&lt;/b&gt; Community Manager...</td>\n",
       "      <td>65000</td>\n",
       "      <td>3</td>\n",
       "    </tr>\n",
       "    <tr>\n",
       "      <th>1</th>\n",
       "      <td>1</td>\n",
       "      <td>LiveRamp</td>\n",
       "      <td>2017-04-27 18:03:49</td>\n",
       "      <td>True</td>\n",
       "      <td>Senior Technical Recruiter</td>\n",
       "      <td>Successful track record and high level of expe...</td>\n",
       "      <td>65000</td>\n",
       "      <td>21</td>\n",
       "    </tr>\n",
       "    <tr>\n",
       "      <th>2</th>\n",
       "      <td>2</td>\n",
       "      <td>Upstart</td>\n",
       "      <td>2017-03-21 05:52:04</td>\n",
       "      <td>False</td>\n",
       "      <td>Data Scientist (Internship)</td>\n",
       "      <td>We're looking for someone to join our &lt;b&gt;data&lt;...</td>\n",
       "      <td>65000</td>\n",
       "      <td>30</td>\n",
       "    </tr>\n",
       "  </tbody>\n",
       "</table>\n",
       "</div>"
      ],
      "text/plain": [
       "   Unnamed: 0   company                date  indeedApply  \\\n",
       "0           0       IBM 2017-05-15 21:28:22        False   \n",
       "1           1  LiveRamp 2017-04-27 18:03:49         True   \n",
       "2           2   Upstart 2017-03-21 05:52:04        False   \n",
       "\n",
       "                         jobtitle  \\\n",
       "0  Data Science Community Manager   \n",
       "1      Senior Technical Recruiter   \n",
       "2     Data Scientist (Internship)   \n",
       "\n",
       "                                             snippet  salary  daysAgo  \n",
       "0  <b>Data</b> <b>Scientist</b> Community Manager...   65000        3  \n",
       "1  Successful track record and high level of expe...   65000       21  \n",
       "2  We're looking for someone to join our <b>data<...   65000       30  "
      ]
     },
     "execution_count": 16,
     "metadata": {},
     "output_type": "execute_result"
    }
   ],
   "source": [
    "indeed.head(3)"
   ]
  },
  {
   "cell_type": "markdown",
   "metadata": {},
   "source": [
    "### Are they really all data scientist jobs?"
   ]
  },
  {
   "cell_type": "code",
   "execution_count": 17,
   "metadata": {
    "scrolled": true
   },
   "outputs": [
    {
     "data": {
      "text/plain": [
       "array(['Data Science Community Manager', 'Senior Technical Recruiter',\n",
       "       'Data Scientist (Internship)',\n",
       "       'Data Scientist Intern - Summer 2017', 'Data Scientist',\n",
       "       'Market Research Analyst - Analyst Development Program',\n",
       "       'Client Support Specialist', 'Analytic Consultant 1',\n",
       "       'SAFETY AND INSURANCE DATA SCIENTIST',\n",
       "       'Statistician/Predictive Modeler/Data Scientist',\n",
       "       'Lead Data Science Instructor', 'BioMedical Data Scientist',\n",
       "       'Database Analsyt', 'Statistically Significant Data Scientist',\n",
       "       'Data Scientist - Economics & Legal', 'Data Scientist, CDHI',\n",
       "       'Connect - Director, Advertising, Media & Technology Research',\n",
       "       'Data Scientist - Yammer',\n",
       "       'Data Scientist Internship (Summer 2017)',\n",
       "       'Firmware Data Scientist', 'Data Scientist - Uber for Business',\n",
       "       'Website Designer and Manager', 'Clinical Data Scientist (Manager)',\n",
       "       'Data Scientist II',\n",
       "       'Sr. Data Scientist (Operations Research Scientist)',\n",
       "       'Senior Data Scientist', 'DATA SCIENTIST',\n",
       "       'Data Scientist, ATG Finance', 'Sr. Data Scientist',\n",
       "       'Data Scientist, Product Operations Advanced Analytics',\n",
       "       'gU Faculty, Principal Data Scientist',\n",
       "       'Data Scientist, Natural Language Processing',\n",
       "       'Quantitative Developer / Data Scientist',\n",
       "       'CRM Data Scientist Intern (W Shen)', 'Lead Data Scientist',\n",
       "       'Lead Instructor, Principal Data Scientist', 'Data Analyst',\n",
       "       'Business / Sales Development Representative',\n",
       "       'Policy Data Scientist',\n",
       "       'Hiring! Data Scientist in San francisco, CA #datascientist #python #machinelearning #apply now:',\n",
       "       'Hiring! Data Scientist in SF Bay Area #datascientist #machinelearning #python #applynow:',\n",
       "       'Connect - Senior Research Analyst',\n",
       "       'Solutions Data Scientist - Fast Growth Tech',\n",
       "       'Data Scientist - (Summer Internship)',\n",
       "       'Data Scientist- Financial Technology',\n",
       "       'Principal Product Strategy Analyst', 'Senior Data Engineer',\n",
       "       'Staff Data Scientist', 'Python/R Engineer (Data Science) Contract',\n",
       "       'Data scientist', 'Machine Learning Engineer - Ads Prediction',\n",
       "       'Senior/Principal Data Scientist',\n",
       "       'Data Scientist (Python/R) Contract',\n",
       "       'Regional Sales Director - SF/Bay', 'Associate Data Scientist',\n",
       "       'Principal Data Scientist', 'Computational Biologist',\n",
       "       'Mass Spectrometry Data Scientist', 'Bioinformatics Scientist',\n",
       "       'Growth Data Scientist', 'Data Scientist (All Levels)',\n",
       "       'Hiring!Data Scientist in San Francisco, CA #datasciencejobs #applynow:',\n",
       "       '\\xe2\\x80\\x8bData Engineer',\n",
       "       'UX Content Designer, Small Business Design',\n",
       "       'Data Scientist - Community Operations',\n",
       "       'Senior Data Scientist - Marketplace and pricing optimization',\n",
       "       'Senior Product Manager', 'Software Engineer - Relevance',\n",
       "       'Senior Manager- Data Science (Digital)',\n",
       "       'Senior Data Scientist- Mobile Solutions',\n",
       "       'Manager, Machine Learning Modeler / Data Scientist',\n",
       "       'Data Scientist: Mapping Technologies',\n",
       "       'Machine Learning Data Scientist \\xe2\\x80\\x93 Algorithm Development',\n",
       "       'Principal Engineer', 'Data Scientist, Analytics',\n",
       "       'Data Scientist, Platform Analytics',\n",
       "       'Data Scientist, Predictive Analytics, Medical Diag, Recent Grad',\n",
       "       'Sr Data Scientist',\n",
       "       'All Levels Data Scientist & Data Engineer Opportunity',\n",
       "       'Senior Data Scientist, Search and Local',\n",
       "       'Predictive Analytics Manager', 'Risk Data Scientist',\n",
       "       'Data Scientist- Digital', 'Data Scientist - Mobile Startup',\n",
       "       'Senior Data Scientist - Virtual and Augmented Reality',\n",
       "       'Senior Data Scientist - AdTech', 'Director of Data Science',\n",
       "       'Lead Data Scientist, Card Machine Learning',\n",
       "       'Software Engineer - Structured Streaming',\n",
       "       'Senior Data Scientist, NLP', 'Data Scientist (Machine Learning)',\n",
       "       'Data Scientist (Natural Language Processing)',\n",
       "       'Senior Data Scientist (Personalization)',\n",
       "       'Data Scientist, Product',\n",
       "       'Senior Data Scientist: Modeling/Forecasting',\n",
       "       'Senior Data Scientist - Relevance Platform',\n",
       "       'Data Scientist - Senior Consultant',\n",
       "       'Senior Product Manager - Data Products',\n",
       "       'DATA SCIENTIST-OPTIMIZATION/AI',\n",
       "       'Data Scientist Manager, eCommerce', 'Director, Data Science',\n",
       "       'Chief Data Scientist',\n",
       "       'Vice President of Data Science & Machine Learning',\n",
       "       'Senior Data Scientist - Security Experience is Huge',\n",
       "       'Principal Data Scientist (Personalization)',\n",
       "       'Data Scientist (Contract)', 'Mid-Level NLP Data Scientist',\n",
       "       'Data Scientist (Python)', 'Senior Data Scientist (Python)',\n",
       "       'Senior Research Engineer (Machine Learning)'], dtype=object)"
      ]
     },
     "execution_count": 17,
     "metadata": {},
     "output_type": "execute_result"
    }
   ],
   "source": [
    "indeed.jobtitle.unique()"
   ]
  },
  {
   "cell_type": "markdown",
   "metadata": {},
   "source": [
    "#### We don't need no stinkin' Technical Recruiters or UX Content Designers muddying up our stats!\n",
    "<i>(No offense to Technical Recruiters or UX Content Designers.)</i> 😅"
   ]
  },
  {
   "cell_type": "code",
   "execution_count": 18,
   "metadata": {
    "collapsed": true
   },
   "outputs": [],
   "source": [
    "ignore_these = ['UX', 'Recruiter', 'Sales', 'Bioinformatics', 'Connect', 'Biologist', \\\n",
    "                'Client']\n",
    "\n",
    "indeed = indeed[~indeed['jobtitle'].str.contains('|'.join(ignore_these))]\n",
    "\n",
    "indeed.reset_index(drop=True, inplace=True)"
   ]
  },
  {
   "cell_type": "markdown",
   "metadata": {},
   "source": [
    "## Let's clean up and cosolidate these job types. 🛀🏼"
   ]
  },
  {
   "cell_type": "code",
   "execution_count": 19,
   "metadata": {
    "collapsed": true
   },
   "outputs": [],
   "source": [
    "indeed.jobtitle = indeed.jobtitle.str.lower()\n",
    "indeed.jobtitle = indeed.jobtitle.map(lambda x: 'manager' if 'mgr' in x else x)\n",
    "indeed.jobtitle = indeed.jobtitle.map(lambda x: 'senior' if 'sr' in x else x)\n",
    "indeed.jobtitle = indeed.jobtitle.map(lambda x: 'senior' if 'senior' in x else x)\n",
    "indeed.jobtitle = indeed.jobtitle.map(lambda x: 'head' if 'head' in x else x)\n",
    "indeed.jobtitle = indeed.jobtitle.map(lambda x: 'manager' if 'manager' in x else x)\n",
    "indeed.jobtitle = indeed.jobtitle.map(lambda x: 'senior' if 'principle' in x else x)\n",
    "indeed.jobtitle = indeed.jobtitle.map(lambda x: 'senior' if 'principal' in x else x)\n",
    "indeed.jobtitle = indeed.jobtitle.map(lambda x: 'senior' if 'ii' in x else x)\n",
    "indeed.jobtitle = indeed.jobtitle.map(lambda x: 'engineer' if 'engineer' in x else x)\n",
    "indeed.jobtitle = indeed.jobtitle.map(lambda x: 'senior' if 'lead' in x else x)\n",
    "indeed.jobtitle = indeed.jobtitle.map(lambda x: 'nlp' if 'nlp' in x else x)\n",
    "indeed.jobtitle = indeed.jobtitle.map(lambda x: 'intern' if 'internship' in x else x)\n",
    "indeed.jobtitle = indeed.jobtitle.map(lambda x: 'intern' if 'intern' in x else x)\n",
    "indeed.jobtitle = indeed.jobtitle.map(lambda x: 'contract' if 'contract' in x else x)\n",
    "indeed.jobtitle = indeed.jobtitle.map(lambda x: 'analyst' if 'analyst' in x else x)\n",
    "indeed.jobtitle = indeed.jobtitle.map(lambda x: 'analyst' if 'analytic' in x else x)\n",
    "indeed.jobtitle = indeed.jobtitle.map(lambda x: 'nlp' if 'natural' in x else x)\n",
    "indeed.jobtitle = indeed.jobtitle.map(lambda x: 'analyst' if 'analsyt' in x else x)\n",
    "indeed.jobtitle = indeed.jobtitle.map(lambda x: 'data scientist' if 'data scientist' in x else x)\n",
    "indeed.jobtitle = indeed.jobtitle.map(lambda x: 'director' if 'director' in x else x)\n",
    "indeed.jobtitle = indeed.jobtitle.map(lambda x: 'director' if 'vice' in x else x)"
   ]
  },
  {
   "cell_type": "code",
   "execution_count": 20,
   "metadata": {},
   "outputs": [
    {
     "data": {
      "text/plain": [
       "array(['manager', 'intern', 'data scientist', 'analyst', 'senior', 'nlp',\n",
       "       'engineer', 'contract', 'director'], dtype=object)"
      ]
     },
     "execution_count": 20,
     "metadata": {},
     "output_type": "execute_result"
    }
   ],
   "source": [
    "indeed.jobtitle.unique()"
   ]
  },
  {
   "cell_type": "markdown",
   "metadata": {},
   "source": [
    "## Lookin' good!\n",
    "Now, we can dig into the job descriptions in the <i>Snippet</i> column."
   ]
  },
  {
   "cell_type": "markdown",
   "metadata": {},
   "source": [
    "#### First step: getting a good idea of the special words in the job snippets."
   ]
  },
  {
   "cell_type": "markdown",
   "metadata": {},
   "source": [
    "Cleaning up the <i>Snippets</i> and <i>JobTitle</i> features."
   ]
  },
  {
   "cell_type": "code",
   "execution_count": 21,
   "metadata": {
    "collapsed": true
   },
   "outputs": [],
   "source": [
    "indeed['snippet'] = indeed['snippet'].str.replace('<b>', '')\n",
    "indeed['snippet'] = indeed['snippet'].str.replace('</b>', '')\n",
    "indeed['snippet'] = indeed['snippet'].str.replace('.', '')\n",
    "indeed['snippet'] = indeed['snippet'].str.replace(',', '')\n",
    "indeed['snippet'] = indeed['snippet'].str.lower()"
   ]
  },
  {
   "cell_type": "code",
   "execution_count": 22,
   "metadata": {
    "collapsed": true
   },
   "outputs": [],
   "source": [
    "snippets = indeed.snippet.to_string()"
   ]
  },
  {
   "cell_type": "code",
   "execution_count": 23,
   "metadata": {},
   "outputs": [
    {
     "data": {
      "text/plain": [
       "<6537x808 sparse matrix of type '<type 'numpy.int64'>'\n",
       "\twith 86587 stored elements in Compressed Sparse Row format>"
      ]
     },
     "execution_count": 23,
     "metadata": {},
     "output_type": "execute_result"
    }
   ],
   "source": [
    "vect = CountVectorizer(stop_words='english')\n",
    "vect.fit_transform(indeed.snippet)"
   ]
  },
  {
   "cell_type": "code",
   "execution_count": 24,
   "metadata": {
    "collapsed": true
   },
   "outputs": [],
   "source": [
    "vocab_dict = vect.vocabulary_\n",
    "vocab = [[k,v] for k,v in vocab_dict.items()]"
   ]
  },
  {
   "cell_type": "code",
   "execution_count": 25,
   "metadata": {},
   "outputs": [
    {
     "name": "stdout",
     "output_type": "stream",
     "text": [
      "                 word  count\n",
      "666              yume    807\n",
      "387            yodlee    806\n",
      "430             years    805\n",
      "216           writing    804\n",
      "29            wrangle    803\n",
      "696             world    802\n",
      "109           working    801\n",
      "762              work    800\n",
      "744              wish    799\n",
      "467              wide    798\n",
      "613               web    797\n",
      "691           weaving    796\n",
      "727               way    795\n",
      "775         warehouse    794\n",
      "516             wants    793\n",
      "148              want    792\n",
      "549                vp    791\n",
      "736            volume    790\n",
      "22        visualizing    789\n",
      "586    visualizations    788\n",
      "471     visualization    787\n",
      "370         visionary    786\n",
      "101           visible    785\n",
      "769           virtual    784\n",
      "443              view    783\n",
      "626        vertically    782\n",
      "157            verify    781\n",
      "465           various    780\n",
      "766           variety    779\n",
      "537             value    778\n",
      "583          validate    777\n",
      "204           utilize    776\n",
      "607             using    775\n",
      "783             users    774\n",
      "581              user    773\n",
      "574              used    772\n",
      "108               use    771\n",
      "622             usage    770\n",
      "522           upstart    769\n",
      "186      unstructured    768\n",
      "544        unlabelled    767\n",
      "637            unique    766\n",
      "44         unexpected    765\n",
      "71      understanding    764\n",
      "528        understand    763\n",
      "196          ultimate    762\n",
      "752              uber    761\n",
      "185             types    760\n",
      "656           twitter    759\n",
      "16                 tv    758\n",
      "270           turning    757\n",
      "241             truth    756\n",
      "642          trillion    755\n",
      "87              trial    754\n",
      "512            triage    753\n",
      "644        translates    752\n",
      "728         translate    751\n",
      "173      transforming    750\n",
      "623    transformation    749\n",
      "353     transactional    748\n",
      "103           trained    747\n",
      "124             train    746\n",
      "517          toolsets    745\n",
      "105             tools    744\n",
      "321              tool    743\n",
      "380          tomorrow    742\n",
      "117             today    741\n",
      "18                 tn    740\n",
      "287             times    739\n",
      "31             timely    738\n",
      "314              time    737\n",
      "298              tier    736\n",
      "793         ticketfly    735\n",
      "415         thousands    734\n",
      "349        thoughtful    733\n",
      "723           textual    732\n",
      "456    textaudiovideo    731\n",
      "447           testing    730\n",
      "14              terms    729\n",
      "466              tens    728\n",
      "28            telling    727\n",
      "554        technology    726\n",
      "504      technologist    725\n",
      "737      technologies    724\n",
      "455        techniques    723\n",
      "82          technical    722\n",
      "253             teams    721\n",
      "40               team    720\n",
      "276             teach    719\n",
      "596         targeting    718\n",
      "81             talent    717\n",
      "221           systems    716\n",
      "765        supportive    715\n",
      "67         supporting    714\n",
      "721           support    713\n",
      "93            studies    712\n",
      "801          students    711\n",
      "315        structures    710\n",
      "331        structured    709\n",
      "76             strong    708\n",
      "489           streams    707\n",
      "658         streaming    706\n",
      "296         strategic    705\n",
      "341      storytelling    704\n",
      "598            stores    703\n",
      "768           storage    702\n",
      "792            stocks    701\n",
      "159       stewardship    700\n",
      "278          steering    699\n",
      "717        statistics    698\n",
      "686      statistician    697\n",
      "208       statistical    696\n",
      "464             state    695\n",
      "448           startup    694\n",
      "725             start    693\n",
      "65              staff    692\n",
      "585             stack    691\n",
      "189                sr    690\n",
      "790               sql    689\n",
      "203      spreadsheets    688\n",
      "523          spotfire    687\n",
      "611             speed    686\n",
      "750      spectrometry    685\n",
      "774           spatial    684\n",
      "481             spark    683\n",
      "151          spanning    682\n",
      "604           sources    681\n",
      "794            source    680\n",
      "177    sophistication    679\n",
      "735     sophisticated    678\n",
      "215           solving    677\n",
      "301           solvers    676\n",
      "238            solver    675\n",
      "591             solve    674\n",
      "401         solutions    673\n",
      "36           solution    672\n",
      "534             solid    671\n",
      "705          software    670\n",
      "90             social    669\n",
      "41              small    668\n",
      "35             skills    667\n",
      "609             skill    666\n",
      "190               sit    665\n",
      "501            simply    664\n",
      "48               sign    663\n",
      "704           showpad    662\n",
      "72            shouldn    661\n",
      "703             shiny    660\n",
      "432           shaping    659\n",
      "198                sf    658\n",
      "592              sets    657\n",
      "376          services    656\n",
      "283           service    655\n",
      "265            sensor    654\n",
      "149             sense    653\n",
      "391            senior    652\n",
      "66              seeks    651\n",
      "227           seeking    650\n",
      "348              seek    649\n",
      "649          security    648\n",
      "521           sectors    647\n",
      "396            sector    646\n",
      "524            search    645\n",
      "709           scripts    644\n",
      "140         scripting    643\n",
      "473            screen    642\n",
      "114             scope    641\n",
      "63         scientists    640\n",
      "206         scientist    639\n",
      "683        scientific    638\n",
      "358          sciences    637\n",
      "132           science    636\n",
      "667             scale    635\n",
      "347               sas    634\n",
      "340               san    633\n",
      "1               sales    632\n",
      "330             roles    631\n",
      "773              role    630\n",
      "599            rocket    629\n",
      "373             rigor    628\n",
      "713             right    627\n",
      "412              rich    626\n",
      "280     revolutionary    625\n",
      "461            review    624\n",
      "294           revenue    623\n",
      "11          retention    622\n",
      "25            results    621\n",
      "354       responsible    620\n",
      "364    responsibility    619\n",
      "163  responsibilities    618\n",
      "573         responses    617\n",
      "484           resides    616\n",
      "260          research    615\n",
      "97          requiring    614\n",
      "181      requirements    613\n",
      "799          required    612\n",
      "325      representing    611\n",
      "449         reporting    610\n",
      "429            report    609\n",
      "64           relocate    608\n",
      "536          reliable    607\n",
      "494          relevant    606\n",
      "527         relevance    605\n",
      "428        relational    604\n",
      "468         relatable    603\n",
      "608        regardless    602\n",
      "381        refreshing    601\n",
      "767           redwood    600\n",
      "643           reduces    599\n",
      "333           recruit    598\n",
      "731        recommends    597\n",
      "441   recommendations    596\n",
      "663    recommendation    595\n",
      "754         recognize    594\n",
      "469          recently    593\n",
      "770           reality    592\n",
      "624              real    591\n",
      "552             ready    590\n",
      "212           rapidly    589\n",
      "417           ranking    588\n",
      "156              quot    587\n",
      "313            quirks    586\n",
      "606         questions    585\n",
      "722          question    584\n",
      "232          querying    583\n",
      "9               query    582\n",
      "182           queries    581\n",
      "395          quantity    580\n",
      "327      quantitative    579\n",
      "259           quality    578\n",
      "228            python    577\n",
      "26            puzzles    576\n",
      "142       proprietary    575\n",
      "634         propeller    574\n",
      "638          projects    573\n",
      "286       programming    572\n",
      "20            program    571\n",
      "167           profile    570\n",
      "326     professionals    569\n",
      "390      professional    568\n",
      "88           products    567\n",
      "219        production    566\n",
      "169           product    565\n",
      "687        processing    564\n",
      "433         processes    563\n",
      "145           process    562\n",
      "786          problems    561\n",
      "749           problem    560\n",
      "474             prior    559\n",
      "405         principal    558\n",
      "714         primarily    557\n",
      "139        presenting    556\n",
      "719           prepare    555\n",
      "422         preferred    554\n",
      "55        preferences    553\n",
      "444        predictive    552\n",
      "476        prediction    551\n",
      "59          practices    550\n",
      "700         practical    549\n",
      "508           powered    548\n",
      "771             power    547\n",
      "360         potential    546\n",
      "375          position    545\n",
      "222            policy    544\n",
      "165              plus    543\n",
      "366              play    542\n",
      "743         platforms    541\n",
      "218          platform    540\n",
      "400          planning    539\n",
      "374              plan    538\n",
      "361           pivotal    537\n",
      "318         pipelines    536\n",
      "676           pioneer    535\n",
      "648           pinners    534\n",
      "310            pinner    533\n",
      "243            person    532\n",
      "633       performance    531\n",
      "561           perform    530\n",
      "655            people    529\n",
      "33                pbs    528\n",
      "647          payments    527\n",
      "589          patterns    526\n",
      "334          patients    525\n",
      "567           patient    524\n",
      "650        passionate    523\n",
      "678           passion    522\n",
      "96         partnering    521\n",
      "553           partner    520\n",
      "671   parallelization    519\n",
      "435         pagerduty    518\n",
      "806             paced    517\n",
      "404             owler    516\n",
      "174           overall    515\n",
      "357          oriented    514\n",
      "593      organization    513\n",
      "491      organisation    512\n",
      "385             order    511\n",
      "118        optimizing    510\n",
      "694          optimize    509\n",
      "540      optimization    508\n",
      "584       opportunity    507\n",
      "200        operations    506\n",
      "410       operational    505\n",
      "559              open    504\n",
      "363            online    503\n",
      "264           offline    502\n",
      "511            offers    501\n",
      "211     observational    500\n",
      "138           nurture    499\n",
      "57               nuna    498\n",
      "269         numerical    497\n",
      "369            normal    496\n",
      "548               non    495\n",
      "781              node    494\n",
      "397               nlp    493\n",
      "525               new    492\n",
      "175             needs    491\n",
      "550              need    490\n",
      "335            nature    489\n",
      "187           natural    488\n",
      "293        narratives    487\n",
      "368          multiple    486\n",
      "580            moving    485\n",
      "224         motivated    484\n",
      "707          motivate    483\n",
      "213           monitor    482\n",
      "784            models    481\n",
      "789         modelling    480\n",
      "503          modeling    479\n",
      "595           modeler    478\n",
      "382            mobile    477\n",
      "578                ml    476\n",
      "423           mission    475\n",
      "317            mining    474\n",
      "27             minded    473\n",
      "110               mid    472\n",
      "654           methods    471\n",
      "796     methodologies    470\n",
      "8               messy    469\n",
      "89             mentor    468\n",
      "800          memcache    467\n",
      "274           members    466\n",
      "565            member    465\n",
      "436            meetme    464\n",
      "562             media    463\n",
      "378             medal    462\n",
      "418             means    461\n",
      "787           meaning    460\n",
      "172          maturing    459\n",
      "776       mathematics    458\n",
      "236     mathematician    457\n",
      "652      mathematical    456\n",
      "531             mateo    455\n",
      "645           mastery    454\n",
      "235           masters    453\n",
      "291           massive    452\n",
      "715              mass    451\n",
      "616          marrying    450\n",
      "685         marketing    449\n",
      "106            market    448\n",
      "249         mapreduce    447\n",
      "52       manipulating    446\n",
      "708          managers    445\n",
      "5             manager    444\n",
      "308        management    443\n",
      "99             manage    442\n",
      "137            making    441\n",
      "563              make    440\n",
      "273         maintains    439\n",
      "194          maintain    438\n",
      "161           machine    437\n",
      "94               love    436\n",
      "459              lots    435\n",
      "319               lot    434\n",
      "12            looking    433\n",
      "162           located    432\n",
      "214                ll    431\n",
      "804             lives    430\n",
      "505          liveramp    429\n",
      "393         liquidity    428\n",
      "188            liquid    427\n",
      "271            linear    426\n",
      "307              line    425\n",
      "641              like    424\n",
      "518              life    423\n",
      "69         leveraging    422\n",
      "309          leverage    421\n",
      "34              level    420\n",
      "98            lending    419\n",
      "502          learning    418\n",
      "311           leading    417\n",
      "680            leader    416\n",
      "669              lead    415\n",
      "51             lawyer    414\n",
      "332           largely    413\n",
      "38              large    412\n",
      "284          language    411\n",
      "134           labeled    410\n",
      "252              kpmg    409\n",
      "150              kpis    408\n",
      "408         knowledge    407\n",
      "631              know    406\n",
      "479               key    405\n",
      "802             karma    404\n",
      "738            junior    403\n",
      "130              join    402\n",
      "478               job    401\n",
      "778               jmp    400\n",
      "587              java    399\n",
      "56          iterating    398\n",
      "113                ip    397\n",
      "372         involving    396\n",
      "83           involved    395\n",
      "262     investigation    394\n",
      "438       investigate    393\n",
      "798            invest    392\n",
      "199      interpreting    391\n",
      "619          internal    390\n",
      "659            intern    389\n",
      "490       interactive    388\n",
      "166       intelligent    387\n",
      "446      intelligence    386\n",
      "266        integrated    385\n",
      "413         integrate    384\n",
      "710          integral    383\n",
      "255         insurance    382\n",
      "628       instructors    381\n",
      "127          insights    380\n",
      "316        insightful    379\n",
      "202           insight    378\n",
      "209        innovative    377\n",
      "499       innovations    376\n",
      "322          innovate    375\n",
      "452    infrastructure    374\n",
      "152       information    373\n",
      "192            inform    372\n",
      "697          industry    371\n",
      "329        industrial    370\n",
      "646       individuals    369\n",
      "630         increases    368\n",
      "261          increase    367\n",
      "394        incomplete    366\n",
      "207         including    365\n",
      "23            include    364\n",
      "180         improving    363\n",
      "488          improves    362\n",
      "299      improvements    361\n",
      "483           improve    360\n",
      "788         important    359\n",
      "92          implement    358\n",
      "406            impact    357\n",
      "530         immersive    356\n",
      "605          identify    355\n",
      "239        identified    354\n",
      "603             ideas    353\n",
      "359             ideal    352\n",
      "191        hypotheses    351\n",
      "320               hub    350\n",
      "734                hq    349\n",
      "131              hour    348\n",
      "37               hive    347\n",
      "205            hiring    346\n",
      "739              hire    345\n",
      "100            highly    344\n",
      "147              high    343\n",
      "21              helps    342\n",
      "201              help    341\n",
      "197        healthcare    340\n",
      "263            health    339\n",
      "730              head    338\n",
      "805            having    337\n",
      "402           harnham    336\n",
      "231             hands    335\n",
      "277              hand    334\n",
      "602              half    333\n",
      "594            hadoop    332\n",
      "543             guide    331\n",
      "414          guardant    330\n",
      "660            growth    329\n",
      "136           growing    328\n",
      "184              grow    327\n",
      "480             group    326\n",
      "582    groundbreaking    325\n",
      "168              grok    324\n",
      "79              great    323\n",
      "17              graph    322\n",
      "610          graduate    321\n",
      "653            google    320\n",
      "155              goal    319\n",
      "2              global    318\n",
      "747         glassdoor    317\n",
      "39         geospatial    316\n",
      "431               geo    315\n",
      "453           genomic    314\n",
      "668          genetics    313\n",
      "247        generation    312\n",
      "699         generated    311\n",
      "526               gap    310\n",
      "547            funded    309\n",
      "764         functions    308\n",
      "612      functionally    307\n",
      "729          function    306\n",
      "237             fully    305\n",
      "706           freeing    304\n",
      "740             fraud    303\n",
      "782         francisco    302\n",
      "542           formats    301\n",
      "639            formal    300\n",
      "732              form    299\n",
      "493       forecasting    298\n",
      "324          focusing    297\n",
      "3               focus    296\n",
      "761            fitbit    295\n",
      "506           fintech    294\n",
      "45           findings    293\n",
      "245         financial    292\n",
      "225           finance    291\n",
      "588          fighting    290\n",
      "615             field    289\n",
      "295              feel    288\n",
      "15            feedzai    287\n",
      "49        feasibility    286\n",
      "426           fastest    285\n",
      "300              fast    284\n",
      "571          fanatics    283\n",
      "463       familiarity    282\n",
      "179           faculty    281\n",
      "337        extracting    280\n",
      "254           extract    279\n",
      "170          explores    278\n",
      "485           explore    277\n",
      "350       exploratory    276\n",
      "746       exploration    275\n",
      "551           experts    274\n",
      "759         expertise    273\n",
      "458            expert    272\n",
      "439       experiments    271\n",
      "492      experimental    270\n",
      "367       experienced    269\n",
      "86         experience    268\n",
      "690         expansion    267\n",
      "4            existing    266\n",
      "693          exciting    265\n",
      "538           excited    264\n",
      "158       exceptional    263\n",
      "125         excellent    262\n",
      "601             excel    261\n",
      "541        evaluating    260\n",
      "627          evaluate    259\n",
      "672         establish    258\n",
      "651         essential    257\n",
      "107       environment    256\n",
      "539   entrepreneurial    255\n",
      "32             entire    254\n",
      "389        enterprise    253\n",
      "701            ensure    252\n",
      "546         enriching    251\n",
      "42            enhance    250\n",
      "507           engines    249\n",
      "545         engineers    248\n",
      "757       engineering    247\n",
      "305          engineer    246\n",
      "312        engagement    245\n",
      "80             engage    244\n",
      "154               end    243\n",
      "487          enabling    242\n",
      "519            enable    241\n",
      "716           embrace    240\n",
      "742          embedded    239\n",
      "535        eloquently    238\n",
      "303        electronic    237\n",
      "702           efforts    236\n",
      "352         efficient    235\n",
      "153       educational    234\n",
      "557         education    233\n",
      "68          editorial    232\n",
      "472              edge    231\n",
      "84          economics    230\n",
      "304         ecommerce    229\n",
      "258           driving    228\n",
      "577            drives    227\n",
      "281            driven    226\n",
      "384             drive    225\n",
      "434             draws    224\n",
      "122          downtown    223\n",
      "91            domains    222\n",
      "244            domain    221\n",
      "756             doesn    220\n",
      "758           diverse    219\n",
      "409       distributed    218\n",
      "123       discovering    217\n",
      "323          discover    216\n",
      "579          director    215\n",
      "248         directing    214\n",
      "47             direct    213\n",
      "13     dimensionality    212\n",
      "500       dimensional    211\n",
      "568           digital    210\n",
      "556         different    209\n",
      "745           devices    208\n",
      "234          develops    207\n",
      "572       development    206\n",
      "533        developing    205\n",
      "210         developer    204\n",
      "558           develop    203\n",
      "246         determine    202\n",
      "450         detection    201\n",
      "223           designs    200\n",
      "420         designing    199\n",
      "50             design    198\n",
      "171       description    197\n",
      "454         deploying    196\n",
      "674            deploy    195\n",
      "351         depending    194\n",
      "482        delivering    193\n",
      "73       deliverables    192\n",
      "475           deliver    191\n",
      "711         delighted    190\n",
      "424            define    189\n",
      "529              deep    188\n",
      "141         dedicated    187\n",
      "10          decisions    186\n",
      "673          decision    185\n",
      "126           debtors    184\n",
      "425          datasets    183\n",
      "785         databases    182\n",
      "183              data    181\n",
      "229        dashboards    180\n",
      "46                 d3    179\n",
      "230           cutting    178\n",
      "625         customers    177\n",
      "128          customer    176\n",
      "724            custom    175\n",
      "462         currently    174\n",
      "664           curious    173\n",
      "564             cross    172\n",
      "677          critical    171\n",
      "290  creditworthiness    170\n",
      "560            credit    169\n",
      "268          creating    168\n",
      "288           creates    167\n",
      "285           created    166\n",
      "510            create    165\n",
      "681              core    164\n",
      "289      conversation    163\n",
      "486          contract    162\n",
      "748      continuously    161\n",
      "679           content    160\n",
      "111          contains    159\n",
      "779        contacting    158\n",
      "392          consumer    157\n",
      "495           consume    156\n",
      "419       connections    155\n",
      "250           connect    154\n",
      "135          concepts    153\n",
      "7         computation    152\n",
      "233         comprised    151\n",
      "356        complexity    150\n",
      "566           complex    149\n",
      "220        compelling    148\n",
      "120           company    147\n",
      "498         community    146\n",
      "688       communicate    145\n",
      "440            common    144\n",
      "70         commercial    143\n",
      "755           command    142\n",
      "345       comfortable    141\n",
      "251         combining    140\n",
      "689          combines    139\n",
      "620           combine    138\n",
      "226       combination    137\n",
      "176        collection    136\n",
      "514         collected    135\n",
      "670           collect    134\n",
      "24        collaborate    133\n",
      "144        coimbatore    132\n",
      "0                code    131\n",
      "6               coach    130\n",
      "427           closely    129\n",
      "726          clinical    128\n",
      "133           clients    127\n",
      "590            client    126\n",
      "53              click    125\n",
      "383             clear    124\n",
      "160         cleansing    123\n",
      "388             clean    122\n",
      "95     classification    121\n",
      "379             class    120\n",
      "302           clarity    119\n",
      "306              city    118\n",
      "662          choosing    117\n",
      "193             chief    116\n",
      "763             check    115\n",
      "398           chariot    114\n",
      "19             charge    113\n",
      "297          channels    112\n",
      "78             change    111\n",
      "520          champion    110\n",
      "143       challenging    109\n",
      "695           central    108\n",
      "257          category    107\n",
      "242            carlos    106\n",
      "279              card    105\n",
      "555           capture    104\n",
      "457          capacity    103\n",
      "240        capability    102\n",
      "617      capabilities    101\n",
      "614         candidate    100\n",
      "496            cancer     99\n",
      "497                ca     98\n",
      "684          business     97\n",
      "795          building     96\n",
      "362             build     95\n",
      "600          brisbane     94\n",
      "119            brings     93\n",
      "30           bringing     92\n",
      "399             bring     91\n",
      "339            bridge     90\n",
      "791            brands     89\n",
      "733             brand     88\n",
      "61            bonuses     87\n",
      "575             bonus     86\n",
      "636               bit     85\n",
      "421            biopsy     84\n",
      "515        biomedical     83\n",
      "569               big     82\n",
      "217            better     81\n",
      "675              best     80\n",
      "282          benefits     79\n",
      "338         behaviors     78\n",
      "803        behavioral     77\n",
      "760          behavior     76\n",
      "437               bay     75\n",
      "698             basis     74\n",
      "513             basic     73\n",
      "407             based     72\n",
      "632        background     71\n",
      "275            backed     70\n",
      "77                b2b     69\n",
      "403      availability     68\n",
      "112          automate     67\n",
      "807         augmented     66\n",
      "62          attitudes     65\n",
      "272         associate     64\n",
      "576            assist     63\n",
      "115        assessment     62\n",
      "377          assessed     61\n",
      "597        assembling     60\n",
      "121            artcom     59\n",
      "445               art     58\n",
      "344          argument     57\n",
      "720              area     56\n",
      "267      architecture     55\n",
      "712       appropriate     54\n",
      "741          applying     53\n",
      "104             apply     52\n",
      "532           applied     51\n",
      "178      applications     50\n",
      "772       application     49\n",
      "164            answer     48\n",
      "102         analyzing     47\n",
      "460           analyze     46\n",
      "451         analytics     45\n",
      "442        analytical     44\n",
      "411          analytic     43\n",
      "371           analyst     42\n",
      "346          analysis     41\n",
      "692          analyses     40\n",
      "635               amp     39\n",
      "343         alongside     38\n",
      "85             allows     37\n",
      "657             alive     36\n",
      "195        algorithms     35\n",
      "682       algorithmic     34\n",
      "797         algorithm     33\n",
      "753                ai     32\n",
      "629       aggregation     31\n",
      "43           advocate     30\n",
      "570            advise     29\n",
      "621          advanced     28\n",
      "116            adtech     27\n",
      "477             adept     26\n",
      "74            address     25\n",
      "718        additional     24\n",
      "509          addition     23\n",
      "665            adadyn     22\n",
      "342           actuary     21\n",
      "75             active     20\n",
      "386        actionable     19\n",
      "336       acquisition     18\n",
      "416           achieve     17\n",
      "365          accuracy     16\n",
      "129           account     15\n",
      "60             access     14\n",
      "355              able     13\n",
      "58                abl     12\n",
      "470           ability     11\n",
      "256                85     10\n",
      "751            6sense      9\n",
      "640                60      8\n",
      "54               500m      7\n",
      "618             40000      6\n",
      "146             21955      5\n",
      "777              180k      4\n",
      "328                15      3\n",
      "661               110      2\n",
      "292              1000      1\n",
      "780                10      0\n"
     ]
    }
   ],
   "source": [
    "indeed_vocab = pd.DataFrame(vocab)\n",
    "indeed_vocab.columns = ['word', 'count']\n",
    "print indeed_vocab.sort_values('count', ascending=False).to_string()"
   ]
  },
  {
   "cell_type": "markdown",
   "metadata": {},
   "source": [
    "#### Splitting up the the values of the Snippet feature for comparison."
   ]
  },
  {
   "cell_type": "code",
   "execution_count": 26,
   "metadata": {
    "collapsed": true
   },
   "outputs": [],
   "source": [
    "indeed['snippet'] = indeed['snippet'].str.split()\n",
    "indeed['split_jobtitle'] = indeed['jobtitle'].str.split()"
   ]
  },
  {
   "cell_type": "markdown",
   "metadata": {},
   "source": [
    "#### I used the vocabulary to compile three lists of values based on areas of expertise. <br>\n",
    "This I turn into a set for comparison with the JobTitle and Snippet features."
   ]
  },
  {
   "cell_type": "code",
   "execution_count": 27,
   "metadata": {
    "collapsed": true
   },
   "outputs": [],
   "source": [
    "computering_skills = ['scala', 'python', 'r', 'hadoop', 'sql', 'nosql', 'mongodb', 'tableau', \\\n",
    "                      'spark', 'go', 'julia', 'd3', 'javascript', 'html', 'css', 'zoomdata', \\\n",
    "                      'insight', 've', 'spotfire', 'sas', 'pagerduty', 'owler', 'meetme', \\\n",
    "                      'mattermark', 'liveramp', 'java', 'hive', 'harnham', 'excel', \\\n",
    "                      'adadyn', 'yume', 'yodlee', 'google']\n",
    "\n",
    "technical_skills = ['statistics', 'machine learning', 'algorithm', 'algorithms', \\\n",
    "                    'deep learning', 'ai', 'visualize', 'visualization', 'visualizations', \\\n",
    "                    'writing', 'wrangle', 'wrangling', 'triage', 'train', 'training', \\\n",
    "                    'testing', 'teach', 'teaching', 'security', 'parallelization', \\\n",
    "                    'nlp', 'model', 'modeling', 'modelling', 'ml', 'mining', \\\n",
    "                    'mentor', 'mathematician', 'mathematics', 'mathematical', \\\n",
    "                    'marketing', 'forecasting', 'algorithmic', 'aggregation', \\\n",
    "                    'storytelling']\n",
    "\n",
    "experience_skills = ['manager', 'intern', 'data scientist', 'analyst', 'masters', \n",
    "                     'phd', 'senior', 'nlp', 'engineer', 'contract', \n",
    "                     'head', 'director']\n",
    "\n",
    "combined_skills = set(computering_skills +  \\\n",
    "                      technical_skills + \\\n",
    "                      experience_skills)"
   ]
  },
  {
   "cell_type": "markdown",
   "metadata": {},
   "source": [
    "## Creating a cumulative number for all skills."
   ]
  },
  {
   "cell_type": "code",
   "execution_count": 28,
   "metadata": {
    "collapsed": true
   },
   "outputs": [],
   "source": [
    "indeed['skill_count'] = 0\n",
    "indeed['title_count'] = 0\n",
    "\n",
    "for idx in indeed.index:\n",
    "    intersect = list(set(indeed['snippet'][idx]).intersection(combined_skills))\n",
    "    indeed['skill_count'][idx] = len(intersect)\n",
    "    \n",
    "for idx in indeed.index:\n",
    "    intersect = list(set(indeed['jobtitle'][idx]).intersection(combined_skills))\n",
    "    indeed['title_count'][idx] = len(intersect)\n",
    "    \n",
    "indeed['total_skills'] = indeed['skill_count'] + indeed['title_count']\n",
    "indeed.drop('skill_count', axis=1, inplace=True)\n",
    "indeed.drop('title_count', axis=1, inplace=True)"
   ]
  },
  {
   "cell_type": "code",
   "execution_count": 29,
   "metadata": {},
   "outputs": [
    {
     "data": {
      "text/html": [
       "<div>\n",
       "<style>\n",
       "    .dataframe thead tr:only-child th {\n",
       "        text-align: right;\n",
       "    }\n",
       "\n",
       "    .dataframe thead th {\n",
       "        text-align: left;\n",
       "    }\n",
       "\n",
       "    .dataframe tbody tr th {\n",
       "        vertical-align: top;\n",
       "    }\n",
       "</style>\n",
       "<table border=\"1\" class=\"dataframe\">\n",
       "  <thead>\n",
       "    <tr style=\"text-align: right;\">\n",
       "      <th></th>\n",
       "      <th>Unnamed: 0</th>\n",
       "      <th>company</th>\n",
       "      <th>date</th>\n",
       "      <th>indeedApply</th>\n",
       "      <th>jobtitle</th>\n",
       "      <th>snippet</th>\n",
       "      <th>salary</th>\n",
       "      <th>daysAgo</th>\n",
       "      <th>split_jobtitle</th>\n",
       "      <th>total_skills</th>\n",
       "    </tr>\n",
       "  </thead>\n",
       "  <tbody>\n",
       "    <tr>\n",
       "      <th>0</th>\n",
       "      <td>0</td>\n",
       "      <td>IBM</td>\n",
       "      <td>2017-05-15 21:28:22</td>\n",
       "      <td>False</td>\n",
       "      <td>manager</td>\n",
       "      <td>[data, scientist, community, manager, responsi...</td>\n",
       "      <td>65000</td>\n",
       "      <td>3</td>\n",
       "      <td>[manager]</td>\n",
       "      <td>2</td>\n",
       "    </tr>\n",
       "    <tr>\n",
       "      <th>1</th>\n",
       "      <td>2</td>\n",
       "      <td>Upstart</td>\n",
       "      <td>2017-03-21 05:52:04</td>\n",
       "      <td>False</td>\n",
       "      <td>intern</td>\n",
       "      <td>[we're, looking, for, someone, to, join, our, ...</td>\n",
       "      <td>65000</td>\n",
       "      <td>30</td>\n",
       "      <td>[intern]</td>\n",
       "      <td>2</td>\n",
       "    </tr>\n",
       "    <tr>\n",
       "      <th>2</th>\n",
       "      <td>3</td>\n",
       "      <td>Walmart eCommerce</td>\n",
       "      <td>2017-03-11 08:46:28</td>\n",
       "      <td>False</td>\n",
       "      <td>intern</td>\n",
       "      <td>[experience, with, statistical, analysis, data...</td>\n",
       "      <td>65000</td>\n",
       "      <td>30</td>\n",
       "      <td>[intern]</td>\n",
       "      <td>3</td>\n",
       "    </tr>\n",
       "    <tr>\n",
       "      <th>3</th>\n",
       "      <td>4</td>\n",
       "      <td>Payette Group</td>\n",
       "      <td>2017-03-14 06:06:07</td>\n",
       "      <td>False</td>\n",
       "      <td>data scientist</td>\n",
       "      <td>[having, tens, of, thousands, of, debtors, and...</td>\n",
       "      <td>65000</td>\n",
       "      <td>30</td>\n",
       "      <td>[data, scientist]</td>\n",
       "      <td>0</td>\n",
       "    </tr>\n",
       "    <tr>\n",
       "      <th>4</th>\n",
       "      <td>5</td>\n",
       "      <td>Ipsos North America</td>\n",
       "      <td>2017-02-27 07:10:07</td>\n",
       "      <td>False</td>\n",
       "      <td>analyst</td>\n",
       "      <td>[love, data, consumer, decision-making, and, p...</td>\n",
       "      <td>65000</td>\n",
       "      <td>30</td>\n",
       "      <td>[analyst]</td>\n",
       "      <td>0</td>\n",
       "    </tr>\n",
       "    <tr>\n",
       "      <th>5</th>\n",
       "      <td>7</td>\n",
       "      <td>Gametime United, Inc.</td>\n",
       "      <td>2017-01-30 23:06:46</td>\n",
       "      <td>False</td>\n",
       "      <td>data scientist</td>\n",
       "      <td>[process, clean, and, verify, data, used, for,...</td>\n",
       "      <td>65000</td>\n",
       "      <td>30</td>\n",
       "      <td>[data, scientist]</td>\n",
       "      <td>1</td>\n",
       "    </tr>\n",
       "    <tr>\n",
       "      <th>6</th>\n",
       "      <td>8</td>\n",
       "      <td>IBM</td>\n",
       "      <td>2017-05-15 21:28:22</td>\n",
       "      <td>False</td>\n",
       "      <td>manager</td>\n",
       "      <td>[data, scientist, community, manager, responsi...</td>\n",
       "      <td>65000</td>\n",
       "      <td>3</td>\n",
       "      <td>[manager]</td>\n",
       "      <td>2</td>\n",
       "    </tr>\n",
       "    <tr>\n",
       "      <th>7</th>\n",
       "      <td>10</td>\n",
       "      <td>Upstart</td>\n",
       "      <td>2017-03-21 05:52:04</td>\n",
       "      <td>False</td>\n",
       "      <td>intern</td>\n",
       "      <td>[we're, looking, for, someone, to, join, our, ...</td>\n",
       "      <td>65000</td>\n",
       "      <td>30</td>\n",
       "      <td>[intern]</td>\n",
       "      <td>2</td>\n",
       "    </tr>\n",
       "    <tr>\n",
       "      <th>8</th>\n",
       "      <td>11</td>\n",
       "      <td>Walmart eCommerce</td>\n",
       "      <td>2017-03-11 08:46:28</td>\n",
       "      <td>False</td>\n",
       "      <td>intern</td>\n",
       "      <td>[experience, with, statistical, analysis, data...</td>\n",
       "      <td>65000</td>\n",
       "      <td>30</td>\n",
       "      <td>[intern]</td>\n",
       "      <td>3</td>\n",
       "    </tr>\n",
       "    <tr>\n",
       "      <th>9</th>\n",
       "      <td>12</td>\n",
       "      <td>Payette Group</td>\n",
       "      <td>2017-03-14 06:06:07</td>\n",
       "      <td>False</td>\n",
       "      <td>data scientist</td>\n",
       "      <td>[having, tens, of, thousands, of, debtors, and...</td>\n",
       "      <td>65000</td>\n",
       "      <td>30</td>\n",
       "      <td>[data, scientist]</td>\n",
       "      <td>0</td>\n",
       "    </tr>\n",
       "    <tr>\n",
       "      <th>10</th>\n",
       "      <td>13</td>\n",
       "      <td>Ipsos North America</td>\n",
       "      <td>2017-02-27 07:10:07</td>\n",
       "      <td>False</td>\n",
       "      <td>analyst</td>\n",
       "      <td>[love, data, consumer, decision-making, and, p...</td>\n",
       "      <td>65000</td>\n",
       "      <td>30</td>\n",
       "      <td>[analyst]</td>\n",
       "      <td>0</td>\n",
       "    </tr>\n",
       "    <tr>\n",
       "      <th>11</th>\n",
       "      <td>15</td>\n",
       "      <td>Gametime United, Inc.</td>\n",
       "      <td>2017-01-30 23:06:46</td>\n",
       "      <td>False</td>\n",
       "      <td>data scientist</td>\n",
       "      <td>[process, clean, and, verify, data, used, for,...</td>\n",
       "      <td>65000</td>\n",
       "      <td>30</td>\n",
       "      <td>[data, scientist]</td>\n",
       "      <td>1</td>\n",
       "    </tr>\n",
       "    <tr>\n",
       "      <th>12</th>\n",
       "      <td>16</td>\n",
       "      <td>IBM</td>\n",
       "      <td>2017-05-15 21:28:22</td>\n",
       "      <td>False</td>\n",
       "      <td>manager</td>\n",
       "      <td>[data, scientist, community, manager, responsi...</td>\n",
       "      <td>65000</td>\n",
       "      <td>3</td>\n",
       "      <td>[manager]</td>\n",
       "      <td>2</td>\n",
       "    </tr>\n",
       "    <tr>\n",
       "      <th>13</th>\n",
       "      <td>18</td>\n",
       "      <td>Upstart</td>\n",
       "      <td>2017-03-21 05:52:04</td>\n",
       "      <td>False</td>\n",
       "      <td>intern</td>\n",
       "      <td>[we're, looking, for, someone, to, join, our, ...</td>\n",
       "      <td>65000</td>\n",
       "      <td>30</td>\n",
       "      <td>[intern]</td>\n",
       "      <td>2</td>\n",
       "    </tr>\n",
       "    <tr>\n",
       "      <th>14</th>\n",
       "      <td>19</td>\n",
       "      <td>Walmart eCommerce</td>\n",
       "      <td>2017-03-11 08:46:28</td>\n",
       "      <td>False</td>\n",
       "      <td>intern</td>\n",
       "      <td>[experience, with, statistical, analysis, data...</td>\n",
       "      <td>65000</td>\n",
       "      <td>30</td>\n",
       "      <td>[intern]</td>\n",
       "      <td>3</td>\n",
       "    </tr>\n",
       "    <tr>\n",
       "      <th>15</th>\n",
       "      <td>20</td>\n",
       "      <td>Payette Group</td>\n",
       "      <td>2017-03-14 06:06:07</td>\n",
       "      <td>False</td>\n",
       "      <td>data scientist</td>\n",
       "      <td>[having, tens, of, thousands, of, debtors, and...</td>\n",
       "      <td>65000</td>\n",
       "      <td>30</td>\n",
       "      <td>[data, scientist]</td>\n",
       "      <td>0</td>\n",
       "    </tr>\n",
       "    <tr>\n",
       "      <th>16</th>\n",
       "      <td>21</td>\n",
       "      <td>Ipsos North America</td>\n",
       "      <td>2017-02-27 07:10:07</td>\n",
       "      <td>False</td>\n",
       "      <td>analyst</td>\n",
       "      <td>[love, data, consumer, decision-making, and, p...</td>\n",
       "      <td>65000</td>\n",
       "      <td>30</td>\n",
       "      <td>[analyst]</td>\n",
       "      <td>0</td>\n",
       "    </tr>\n",
       "    <tr>\n",
       "      <th>17</th>\n",
       "      <td>23</td>\n",
       "      <td>Gametime United, Inc.</td>\n",
       "      <td>2017-01-30 23:06:46</td>\n",
       "      <td>False</td>\n",
       "      <td>data scientist</td>\n",
       "      <td>[process, clean, and, verify, data, used, for,...</td>\n",
       "      <td>65000</td>\n",
       "      <td>30</td>\n",
       "      <td>[data, scientist]</td>\n",
       "      <td>1</td>\n",
       "    </tr>\n",
       "    <tr>\n",
       "      <th>18</th>\n",
       "      <td>24</td>\n",
       "      <td>IBM</td>\n",
       "      <td>2017-05-15 21:28:22</td>\n",
       "      <td>False</td>\n",
       "      <td>manager</td>\n",
       "      <td>[data, scientist, community, manager, responsi...</td>\n",
       "      <td>65000</td>\n",
       "      <td>3</td>\n",
       "      <td>[manager]</td>\n",
       "      <td>2</td>\n",
       "    </tr>\n",
       "    <tr>\n",
       "      <th>19</th>\n",
       "      <td>26</td>\n",
       "      <td>Upstart</td>\n",
       "      <td>2017-03-21 05:52:04</td>\n",
       "      <td>False</td>\n",
       "      <td>intern</td>\n",
       "      <td>[we're, looking, for, someone, to, join, our, ...</td>\n",
       "      <td>65000</td>\n",
       "      <td>30</td>\n",
       "      <td>[intern]</td>\n",
       "      <td>2</td>\n",
       "    </tr>\n",
       "    <tr>\n",
       "      <th>20</th>\n",
       "      <td>27</td>\n",
       "      <td>Walmart eCommerce</td>\n",
       "      <td>2017-03-11 08:46:28</td>\n",
       "      <td>False</td>\n",
       "      <td>intern</td>\n",
       "      <td>[experience, with, statistical, analysis, data...</td>\n",
       "      <td>65000</td>\n",
       "      <td>30</td>\n",
       "      <td>[intern]</td>\n",
       "      <td>3</td>\n",
       "    </tr>\n",
       "    <tr>\n",
       "      <th>21</th>\n",
       "      <td>28</td>\n",
       "      <td>Payette Group</td>\n",
       "      <td>2017-03-14 06:06:07</td>\n",
       "      <td>False</td>\n",
       "      <td>data scientist</td>\n",
       "      <td>[having, tens, of, thousands, of, debtors, and...</td>\n",
       "      <td>65000</td>\n",
       "      <td>30</td>\n",
       "      <td>[data, scientist]</td>\n",
       "      <td>0</td>\n",
       "    </tr>\n",
       "    <tr>\n",
       "      <th>22</th>\n",
       "      <td>29</td>\n",
       "      <td>Ipsos North America</td>\n",
       "      <td>2017-02-27 07:10:07</td>\n",
       "      <td>False</td>\n",
       "      <td>analyst</td>\n",
       "      <td>[love, data, consumer, decision-making, and, p...</td>\n",
       "      <td>65000</td>\n",
       "      <td>30</td>\n",
       "      <td>[analyst]</td>\n",
       "      <td>0</td>\n",
       "    </tr>\n",
       "    <tr>\n",
       "      <th>23</th>\n",
       "      <td>31</td>\n",
       "      <td>Gametime United, Inc.</td>\n",
       "      <td>2017-01-30 23:06:46</td>\n",
       "      <td>False</td>\n",
       "      <td>data scientist</td>\n",
       "      <td>[process, clean, and, verify, data, used, for,...</td>\n",
       "      <td>65000</td>\n",
       "      <td>30</td>\n",
       "      <td>[data, scientist]</td>\n",
       "      <td>1</td>\n",
       "    </tr>\n",
       "    <tr>\n",
       "      <th>24</th>\n",
       "      <td>32</td>\n",
       "      <td>IBM</td>\n",
       "      <td>2017-05-15 21:28:22</td>\n",
       "      <td>False</td>\n",
       "      <td>manager</td>\n",
       "      <td>[data, scientist, community, manager, responsi...</td>\n",
       "      <td>65000</td>\n",
       "      <td>3</td>\n",
       "      <td>[manager]</td>\n",
       "      <td>2</td>\n",
       "    </tr>\n",
       "    <tr>\n",
       "      <th>25</th>\n",
       "      <td>34</td>\n",
       "      <td>Upstart</td>\n",
       "      <td>2017-03-21 05:52:04</td>\n",
       "      <td>False</td>\n",
       "      <td>intern</td>\n",
       "      <td>[we're, looking, for, someone, to, join, our, ...</td>\n",
       "      <td>65000</td>\n",
       "      <td>30</td>\n",
       "      <td>[intern]</td>\n",
       "      <td>2</td>\n",
       "    </tr>\n",
       "    <tr>\n",
       "      <th>26</th>\n",
       "      <td>35</td>\n",
       "      <td>Walmart eCommerce</td>\n",
       "      <td>2017-03-11 08:46:28</td>\n",
       "      <td>False</td>\n",
       "      <td>intern</td>\n",
       "      <td>[experience, with, statistical, analysis, data...</td>\n",
       "      <td>65000</td>\n",
       "      <td>30</td>\n",
       "      <td>[intern]</td>\n",
       "      <td>3</td>\n",
       "    </tr>\n",
       "    <tr>\n",
       "      <th>27</th>\n",
       "      <td>36</td>\n",
       "      <td>Payette Group</td>\n",
       "      <td>2017-03-14 06:06:07</td>\n",
       "      <td>False</td>\n",
       "      <td>data scientist</td>\n",
       "      <td>[having, tens, of, thousands, of, debtors, and...</td>\n",
       "      <td>65000</td>\n",
       "      <td>30</td>\n",
       "      <td>[data, scientist]</td>\n",
       "      <td>0</td>\n",
       "    </tr>\n",
       "    <tr>\n",
       "      <th>28</th>\n",
       "      <td>37</td>\n",
       "      <td>Ipsos North America</td>\n",
       "      <td>2017-02-27 07:10:07</td>\n",
       "      <td>False</td>\n",
       "      <td>analyst</td>\n",
       "      <td>[love, data, consumer, decision-making, and, p...</td>\n",
       "      <td>65000</td>\n",
       "      <td>30</td>\n",
       "      <td>[analyst]</td>\n",
       "      <td>0</td>\n",
       "    </tr>\n",
       "    <tr>\n",
       "      <th>29</th>\n",
       "      <td>39</td>\n",
       "      <td>Gametime United, Inc.</td>\n",
       "      <td>2017-01-30 23:06:46</td>\n",
       "      <td>False</td>\n",
       "      <td>data scientist</td>\n",
       "      <td>[process, clean, and, verify, data, used, for,...</td>\n",
       "      <td>65000</td>\n",
       "      <td>30</td>\n",
       "      <td>[data, scientist]</td>\n",
       "      <td>1</td>\n",
       "    </tr>\n",
       "    <tr>\n",
       "      <th>...</th>\n",
       "      <td>...</td>\n",
       "      <td>...</td>\n",
       "      <td>...</td>\n",
       "      <td>...</td>\n",
       "      <td>...</td>\n",
       "      <td>...</td>\n",
       "      <td>...</td>\n",
       "      <td>...</td>\n",
       "      <td>...</td>\n",
       "      <td>...</td>\n",
       "    </tr>\n",
       "    <tr>\n",
       "      <th>6507</th>\n",
       "      <td>7053</td>\n",
       "      <td>Workbridge Associates</td>\n",
       "      <td>2017-03-23 20:16:18</td>\n",
       "      <td>True</td>\n",
       "      <td>data scientist</td>\n",
       "      <td>[experience, with, big, data, technologies, sp...</td>\n",
       "      <td>185000</td>\n",
       "      <td>30</td>\n",
       "      <td>[data, scientist]</td>\n",
       "      <td>1</td>\n",
       "    </tr>\n",
       "    <tr>\n",
       "      <th>6508</th>\n",
       "      <td>7054</td>\n",
       "      <td>Workbridge Associates</td>\n",
       "      <td>2017-03-07 01:16:02</td>\n",
       "      <td>True</td>\n",
       "      <td>senior</td>\n",
       "      <td>[experience, with, big, data, technologies, sp...</td>\n",
       "      <td>185000</td>\n",
       "      <td>30</td>\n",
       "      <td>[senior]</td>\n",
       "      <td>2</td>\n",
       "    </tr>\n",
       "    <tr>\n",
       "      <th>6509</th>\n",
       "      <td>7055</td>\n",
       "      <td>Workbridge Associates</td>\n",
       "      <td>2017-03-07 21:16:30</td>\n",
       "      <td>True</td>\n",
       "      <td>senior</td>\n",
       "      <td>[experience, working, closely, with, data, eng...</td>\n",
       "      <td>185000</td>\n",
       "      <td>30</td>\n",
       "      <td>[senior]</td>\n",
       "      <td>3</td>\n",
       "    </tr>\n",
       "    <tr>\n",
       "      <th>6510</th>\n",
       "      <td>7056</td>\n",
       "      <td>Harnham</td>\n",
       "      <td>2017-05-16 22:06:56</td>\n",
       "      <td>False</td>\n",
       "      <td>director</td>\n",
       "      <td>[data, science, data, scientist, director, hea...</td>\n",
       "      <td>185000</td>\n",
       "      <td>2</td>\n",
       "      <td>[director]</td>\n",
       "      <td>10</td>\n",
       "    </tr>\n",
       "    <tr>\n",
       "      <th>6511</th>\n",
       "      <td>7057</td>\n",
       "      <td>Elevate Recruiting Group</td>\n",
       "      <td>2017-05-12 06:23:18</td>\n",
       "      <td>False</td>\n",
       "      <td>senior</td>\n",
       "      <td>[through, the, our, clients, pivotal, world-vi...</td>\n",
       "      <td>185000</td>\n",
       "      <td>6</td>\n",
       "      <td>[senior]</td>\n",
       "      <td>2</td>\n",
       "    </tr>\n",
       "    <tr>\n",
       "      <th>6512</th>\n",
       "      <td>7058</td>\n",
       "      <td>Workbridge Associates</td>\n",
       "      <td>2017-04-28 21:43:41</td>\n",
       "      <td>False</td>\n",
       "      <td>senior</td>\n",
       "      <td>[a, recently, funded, san, francisco, based, m...</td>\n",
       "      <td>185000</td>\n",
       "      <td>20</td>\n",
       "      <td>[senior]</td>\n",
       "      <td>2</td>\n",
       "    </tr>\n",
       "    <tr>\n",
       "      <th>6513</th>\n",
       "      <td>7059</td>\n",
       "      <td>Jobspring Partners</td>\n",
       "      <td>2017-03-25 00:18:23</td>\n",
       "      <td>True</td>\n",
       "      <td>contract</td>\n",
       "      <td>[a, cutting-edge, software, solutions, company...</td>\n",
       "      <td>185000</td>\n",
       "      <td>30</td>\n",
       "      <td>[contract]</td>\n",
       "      <td>2</td>\n",
       "    </tr>\n",
       "    <tr>\n",
       "      <th>6514</th>\n",
       "      <td>7060</td>\n",
       "      <td>Workbridge Associates</td>\n",
       "      <td>2017-03-28 00:14:57</td>\n",
       "      <td>True</td>\n",
       "      <td>nlp</td>\n",
       "      <td>[you, will, be, working, on, a, small, team, o...</td>\n",
       "      <td>185000</td>\n",
       "      <td>30</td>\n",
       "      <td>[nlp]</td>\n",
       "      <td>2</td>\n",
       "    </tr>\n",
       "    <tr>\n",
       "      <th>6515</th>\n",
       "      <td>7061</td>\n",
       "      <td>Harnham</td>\n",
       "      <td>2017-03-21 00:52:19</td>\n",
       "      <td>False</td>\n",
       "      <td>senior</td>\n",
       "      <td>[senior, data, scientist, your, role, as, seni...</td>\n",
       "      <td>185000</td>\n",
       "      <td>30</td>\n",
       "      <td>[senior]</td>\n",
       "      <td>3</td>\n",
       "    </tr>\n",
       "    <tr>\n",
       "      <th>6516</th>\n",
       "      <td>7062</td>\n",
       "      <td>Workbridge Associates</td>\n",
       "      <td>2017-03-23 20:16:18</td>\n",
       "      <td>True</td>\n",
       "      <td>data scientist</td>\n",
       "      <td>[experience, with, big, data, technologies, sp...</td>\n",
       "      <td>185000</td>\n",
       "      <td>30</td>\n",
       "      <td>[data, scientist]</td>\n",
       "      <td>1</td>\n",
       "    </tr>\n",
       "    <tr>\n",
       "      <th>6517</th>\n",
       "      <td>7063</td>\n",
       "      <td>Workbridge Associates</td>\n",
       "      <td>2017-03-07 01:16:02</td>\n",
       "      <td>True</td>\n",
       "      <td>senior</td>\n",
       "      <td>[experience, with, big, data, technologies, sp...</td>\n",
       "      <td>185000</td>\n",
       "      <td>30</td>\n",
       "      <td>[senior]</td>\n",
       "      <td>2</td>\n",
       "    </tr>\n",
       "    <tr>\n",
       "      <th>6518</th>\n",
       "      <td>7064</td>\n",
       "      <td>Workbridge Associates</td>\n",
       "      <td>2017-03-07 21:16:30</td>\n",
       "      <td>True</td>\n",
       "      <td>senior</td>\n",
       "      <td>[experience, working, closely, with, data, eng...</td>\n",
       "      <td>185000</td>\n",
       "      <td>30</td>\n",
       "      <td>[senior]</td>\n",
       "      <td>3</td>\n",
       "    </tr>\n",
       "    <tr>\n",
       "      <th>6519</th>\n",
       "      <td>7065</td>\n",
       "      <td>Harnham</td>\n",
       "      <td>2017-05-16 22:06:56</td>\n",
       "      <td>False</td>\n",
       "      <td>director</td>\n",
       "      <td>[data, science, data, scientist, director, hea...</td>\n",
       "      <td>185000</td>\n",
       "      <td>2</td>\n",
       "      <td>[director]</td>\n",
       "      <td>10</td>\n",
       "    </tr>\n",
       "    <tr>\n",
       "      <th>6520</th>\n",
       "      <td>7066</td>\n",
       "      <td>Elevate Recruiting Group</td>\n",
       "      <td>2017-05-12 06:23:18</td>\n",
       "      <td>False</td>\n",
       "      <td>senior</td>\n",
       "      <td>[through, the, our, clients, pivotal, world-vi...</td>\n",
       "      <td>185000</td>\n",
       "      <td>6</td>\n",
       "      <td>[senior]</td>\n",
       "      <td>2</td>\n",
       "    </tr>\n",
       "    <tr>\n",
       "      <th>6521</th>\n",
       "      <td>7067</td>\n",
       "      <td>Workbridge Associates</td>\n",
       "      <td>2017-04-28 21:43:41</td>\n",
       "      <td>False</td>\n",
       "      <td>senior</td>\n",
       "      <td>[a, recently, funded, san, francisco, based, m...</td>\n",
       "      <td>185000</td>\n",
       "      <td>20</td>\n",
       "      <td>[senior]</td>\n",
       "      <td>2</td>\n",
       "    </tr>\n",
       "    <tr>\n",
       "      <th>6522</th>\n",
       "      <td>7068</td>\n",
       "      <td>Jobspring Partners</td>\n",
       "      <td>2017-03-25 00:18:23</td>\n",
       "      <td>True</td>\n",
       "      <td>contract</td>\n",
       "      <td>[a, cutting-edge, software, solutions, company...</td>\n",
       "      <td>185000</td>\n",
       "      <td>30</td>\n",
       "      <td>[contract]</td>\n",
       "      <td>2</td>\n",
       "    </tr>\n",
       "    <tr>\n",
       "      <th>6523</th>\n",
       "      <td>7069</td>\n",
       "      <td>Workbridge Associates</td>\n",
       "      <td>2017-03-28 00:14:57</td>\n",
       "      <td>True</td>\n",
       "      <td>nlp</td>\n",
       "      <td>[you, will, be, working, on, a, small, team, o...</td>\n",
       "      <td>185000</td>\n",
       "      <td>30</td>\n",
       "      <td>[nlp]</td>\n",
       "      <td>2</td>\n",
       "    </tr>\n",
       "    <tr>\n",
       "      <th>6524</th>\n",
       "      <td>7070</td>\n",
       "      <td>Harnham</td>\n",
       "      <td>2017-03-21 00:52:19</td>\n",
       "      <td>False</td>\n",
       "      <td>senior</td>\n",
       "      <td>[senior, data, scientist, your, role, as, seni...</td>\n",
       "      <td>185000</td>\n",
       "      <td>30</td>\n",
       "      <td>[senior]</td>\n",
       "      <td>3</td>\n",
       "    </tr>\n",
       "    <tr>\n",
       "      <th>6525</th>\n",
       "      <td>7071</td>\n",
       "      <td>Workbridge Associates</td>\n",
       "      <td>2017-03-23 20:16:18</td>\n",
       "      <td>True</td>\n",
       "      <td>data scientist</td>\n",
       "      <td>[experience, with, big, data, technologies, sp...</td>\n",
       "      <td>185000</td>\n",
       "      <td>30</td>\n",
       "      <td>[data, scientist]</td>\n",
       "      <td>1</td>\n",
       "    </tr>\n",
       "    <tr>\n",
       "      <th>6526</th>\n",
       "      <td>7072</td>\n",
       "      <td>Workbridge Associates</td>\n",
       "      <td>2017-03-07 01:16:02</td>\n",
       "      <td>True</td>\n",
       "      <td>senior</td>\n",
       "      <td>[experience, with, big, data, technologies, sp...</td>\n",
       "      <td>185000</td>\n",
       "      <td>30</td>\n",
       "      <td>[senior]</td>\n",
       "      <td>2</td>\n",
       "    </tr>\n",
       "    <tr>\n",
       "      <th>6527</th>\n",
       "      <td>7073</td>\n",
       "      <td>Workbridge Associates</td>\n",
       "      <td>2017-03-07 21:16:30</td>\n",
       "      <td>True</td>\n",
       "      <td>senior</td>\n",
       "      <td>[experience, working, closely, with, data, eng...</td>\n",
       "      <td>185000</td>\n",
       "      <td>30</td>\n",
       "      <td>[senior]</td>\n",
       "      <td>3</td>\n",
       "    </tr>\n",
       "    <tr>\n",
       "      <th>6528</th>\n",
       "      <td>7074</td>\n",
       "      <td>Harnham</td>\n",
       "      <td>2017-05-16 22:06:56</td>\n",
       "      <td>False</td>\n",
       "      <td>director</td>\n",
       "      <td>[data, science, data, scientist, director, hea...</td>\n",
       "      <td>185000</td>\n",
       "      <td>2</td>\n",
       "      <td>[director]</td>\n",
       "      <td>10</td>\n",
       "    </tr>\n",
       "    <tr>\n",
       "      <th>6529</th>\n",
       "      <td>7075</td>\n",
       "      <td>Elevate Recruiting Group</td>\n",
       "      <td>2017-05-12 06:23:18</td>\n",
       "      <td>False</td>\n",
       "      <td>senior</td>\n",
       "      <td>[through, the, our, clients, pivotal, world-vi...</td>\n",
       "      <td>185000</td>\n",
       "      <td>6</td>\n",
       "      <td>[senior]</td>\n",
       "      <td>2</td>\n",
       "    </tr>\n",
       "    <tr>\n",
       "      <th>6530</th>\n",
       "      <td>7076</td>\n",
       "      <td>Workbridge Associates</td>\n",
       "      <td>2017-04-28 21:43:41</td>\n",
       "      <td>False</td>\n",
       "      <td>senior</td>\n",
       "      <td>[a, recently, funded, san, francisco, based, m...</td>\n",
       "      <td>185000</td>\n",
       "      <td>20</td>\n",
       "      <td>[senior]</td>\n",
       "      <td>2</td>\n",
       "    </tr>\n",
       "    <tr>\n",
       "      <th>6531</th>\n",
       "      <td>7077</td>\n",
       "      <td>Jobspring Partners</td>\n",
       "      <td>2017-03-25 00:18:23</td>\n",
       "      <td>True</td>\n",
       "      <td>contract</td>\n",
       "      <td>[a, cutting-edge, software, solutions, company...</td>\n",
       "      <td>185000</td>\n",
       "      <td>30</td>\n",
       "      <td>[contract]</td>\n",
       "      <td>2</td>\n",
       "    </tr>\n",
       "    <tr>\n",
       "      <th>6532</th>\n",
       "      <td>7078</td>\n",
       "      <td>Workbridge Associates</td>\n",
       "      <td>2017-03-28 00:14:57</td>\n",
       "      <td>True</td>\n",
       "      <td>nlp</td>\n",
       "      <td>[you, will, be, working, on, a, small, team, o...</td>\n",
       "      <td>185000</td>\n",
       "      <td>30</td>\n",
       "      <td>[nlp]</td>\n",
       "      <td>2</td>\n",
       "    </tr>\n",
       "    <tr>\n",
       "      <th>6533</th>\n",
       "      <td>7079</td>\n",
       "      <td>Harnham</td>\n",
       "      <td>2017-03-21 00:52:19</td>\n",
       "      <td>False</td>\n",
       "      <td>senior</td>\n",
       "      <td>[senior, data, scientist, your, role, as, seni...</td>\n",
       "      <td>185000</td>\n",
       "      <td>30</td>\n",
       "      <td>[senior]</td>\n",
       "      <td>3</td>\n",
       "    </tr>\n",
       "    <tr>\n",
       "      <th>6534</th>\n",
       "      <td>7080</td>\n",
       "      <td>Workbridge Associates</td>\n",
       "      <td>2017-03-23 20:16:18</td>\n",
       "      <td>True</td>\n",
       "      <td>data scientist</td>\n",
       "      <td>[experience, with, big, data, technologies, sp...</td>\n",
       "      <td>185000</td>\n",
       "      <td>30</td>\n",
       "      <td>[data, scientist]</td>\n",
       "      <td>1</td>\n",
       "    </tr>\n",
       "    <tr>\n",
       "      <th>6535</th>\n",
       "      <td>7081</td>\n",
       "      <td>Workbridge Associates</td>\n",
       "      <td>2017-03-07 01:16:02</td>\n",
       "      <td>True</td>\n",
       "      <td>senior</td>\n",
       "      <td>[experience, with, big, data, technologies, sp...</td>\n",
       "      <td>185000</td>\n",
       "      <td>30</td>\n",
       "      <td>[senior]</td>\n",
       "      <td>2</td>\n",
       "    </tr>\n",
       "    <tr>\n",
       "      <th>6536</th>\n",
       "      <td>7082</td>\n",
       "      <td>Workbridge Associates</td>\n",
       "      <td>2017-03-07 21:16:30</td>\n",
       "      <td>True</td>\n",
       "      <td>senior</td>\n",
       "      <td>[experience, working, closely, with, data, eng...</td>\n",
       "      <td>185000</td>\n",
       "      <td>30</td>\n",
       "      <td>[senior]</td>\n",
       "      <td>3</td>\n",
       "    </tr>\n",
       "  </tbody>\n",
       "</table>\n",
       "<p>6537 rows × 10 columns</p>\n",
       "</div>"
      ],
      "text/plain": [
       "      Unnamed: 0                   company                date  indeedApply  \\\n",
       "0              0                       IBM 2017-05-15 21:28:22        False   \n",
       "1              2                   Upstart 2017-03-21 05:52:04        False   \n",
       "2              3         Walmart eCommerce 2017-03-11 08:46:28        False   \n",
       "3              4             Payette Group 2017-03-14 06:06:07        False   \n",
       "4              5       Ipsos North America 2017-02-27 07:10:07        False   \n",
       "5              7     Gametime United, Inc. 2017-01-30 23:06:46        False   \n",
       "6              8                       IBM 2017-05-15 21:28:22        False   \n",
       "7             10                   Upstart 2017-03-21 05:52:04        False   \n",
       "8             11         Walmart eCommerce 2017-03-11 08:46:28        False   \n",
       "9             12             Payette Group 2017-03-14 06:06:07        False   \n",
       "10            13       Ipsos North America 2017-02-27 07:10:07        False   \n",
       "11            15     Gametime United, Inc. 2017-01-30 23:06:46        False   \n",
       "12            16                       IBM 2017-05-15 21:28:22        False   \n",
       "13            18                   Upstart 2017-03-21 05:52:04        False   \n",
       "14            19         Walmart eCommerce 2017-03-11 08:46:28        False   \n",
       "15            20             Payette Group 2017-03-14 06:06:07        False   \n",
       "16            21       Ipsos North America 2017-02-27 07:10:07        False   \n",
       "17            23     Gametime United, Inc. 2017-01-30 23:06:46        False   \n",
       "18            24                       IBM 2017-05-15 21:28:22        False   \n",
       "19            26                   Upstart 2017-03-21 05:52:04        False   \n",
       "20            27         Walmart eCommerce 2017-03-11 08:46:28        False   \n",
       "21            28             Payette Group 2017-03-14 06:06:07        False   \n",
       "22            29       Ipsos North America 2017-02-27 07:10:07        False   \n",
       "23            31     Gametime United, Inc. 2017-01-30 23:06:46        False   \n",
       "24            32                       IBM 2017-05-15 21:28:22        False   \n",
       "25            34                   Upstart 2017-03-21 05:52:04        False   \n",
       "26            35         Walmart eCommerce 2017-03-11 08:46:28        False   \n",
       "27            36             Payette Group 2017-03-14 06:06:07        False   \n",
       "28            37       Ipsos North America 2017-02-27 07:10:07        False   \n",
       "29            39     Gametime United, Inc. 2017-01-30 23:06:46        False   \n",
       "...          ...                       ...                 ...          ...   \n",
       "6507        7053     Workbridge Associates 2017-03-23 20:16:18         True   \n",
       "6508        7054     Workbridge Associates 2017-03-07 01:16:02         True   \n",
       "6509        7055     Workbridge Associates 2017-03-07 21:16:30         True   \n",
       "6510        7056                   Harnham 2017-05-16 22:06:56        False   \n",
       "6511        7057  Elevate Recruiting Group 2017-05-12 06:23:18        False   \n",
       "6512        7058     Workbridge Associates 2017-04-28 21:43:41        False   \n",
       "6513        7059        Jobspring Partners 2017-03-25 00:18:23         True   \n",
       "6514        7060     Workbridge Associates 2017-03-28 00:14:57         True   \n",
       "6515        7061                   Harnham 2017-03-21 00:52:19        False   \n",
       "6516        7062     Workbridge Associates 2017-03-23 20:16:18         True   \n",
       "6517        7063     Workbridge Associates 2017-03-07 01:16:02         True   \n",
       "6518        7064     Workbridge Associates 2017-03-07 21:16:30         True   \n",
       "6519        7065                   Harnham 2017-05-16 22:06:56        False   \n",
       "6520        7066  Elevate Recruiting Group 2017-05-12 06:23:18        False   \n",
       "6521        7067     Workbridge Associates 2017-04-28 21:43:41        False   \n",
       "6522        7068        Jobspring Partners 2017-03-25 00:18:23         True   \n",
       "6523        7069     Workbridge Associates 2017-03-28 00:14:57         True   \n",
       "6524        7070                   Harnham 2017-03-21 00:52:19        False   \n",
       "6525        7071     Workbridge Associates 2017-03-23 20:16:18         True   \n",
       "6526        7072     Workbridge Associates 2017-03-07 01:16:02         True   \n",
       "6527        7073     Workbridge Associates 2017-03-07 21:16:30         True   \n",
       "6528        7074                   Harnham 2017-05-16 22:06:56        False   \n",
       "6529        7075  Elevate Recruiting Group 2017-05-12 06:23:18        False   \n",
       "6530        7076     Workbridge Associates 2017-04-28 21:43:41        False   \n",
       "6531        7077        Jobspring Partners 2017-03-25 00:18:23         True   \n",
       "6532        7078     Workbridge Associates 2017-03-28 00:14:57         True   \n",
       "6533        7079                   Harnham 2017-03-21 00:52:19        False   \n",
       "6534        7080     Workbridge Associates 2017-03-23 20:16:18         True   \n",
       "6535        7081     Workbridge Associates 2017-03-07 01:16:02         True   \n",
       "6536        7082     Workbridge Associates 2017-03-07 21:16:30         True   \n",
       "\n",
       "            jobtitle                                            snippet  \\\n",
       "0            manager  [data, scientist, community, manager, responsi...   \n",
       "1             intern  [we're, looking, for, someone, to, join, our, ...   \n",
       "2             intern  [experience, with, statistical, analysis, data...   \n",
       "3     data scientist  [having, tens, of, thousands, of, debtors, and...   \n",
       "4            analyst  [love, data, consumer, decision-making, and, p...   \n",
       "5     data scientist  [process, clean, and, verify, data, used, for,...   \n",
       "6            manager  [data, scientist, community, manager, responsi...   \n",
       "7             intern  [we're, looking, for, someone, to, join, our, ...   \n",
       "8             intern  [experience, with, statistical, analysis, data...   \n",
       "9     data scientist  [having, tens, of, thousands, of, debtors, and...   \n",
       "10           analyst  [love, data, consumer, decision-making, and, p...   \n",
       "11    data scientist  [process, clean, and, verify, data, used, for,...   \n",
       "12           manager  [data, scientist, community, manager, responsi...   \n",
       "13            intern  [we're, looking, for, someone, to, join, our, ...   \n",
       "14            intern  [experience, with, statistical, analysis, data...   \n",
       "15    data scientist  [having, tens, of, thousands, of, debtors, and...   \n",
       "16           analyst  [love, data, consumer, decision-making, and, p...   \n",
       "17    data scientist  [process, clean, and, verify, data, used, for,...   \n",
       "18           manager  [data, scientist, community, manager, responsi...   \n",
       "19            intern  [we're, looking, for, someone, to, join, our, ...   \n",
       "20            intern  [experience, with, statistical, analysis, data...   \n",
       "21    data scientist  [having, tens, of, thousands, of, debtors, and...   \n",
       "22           analyst  [love, data, consumer, decision-making, and, p...   \n",
       "23    data scientist  [process, clean, and, verify, data, used, for,...   \n",
       "24           manager  [data, scientist, community, manager, responsi...   \n",
       "25            intern  [we're, looking, for, someone, to, join, our, ...   \n",
       "26            intern  [experience, with, statistical, analysis, data...   \n",
       "27    data scientist  [having, tens, of, thousands, of, debtors, and...   \n",
       "28           analyst  [love, data, consumer, decision-making, and, p...   \n",
       "29    data scientist  [process, clean, and, verify, data, used, for,...   \n",
       "...              ...                                                ...   \n",
       "6507  data scientist  [experience, with, big, data, technologies, sp...   \n",
       "6508          senior  [experience, with, big, data, technologies, sp...   \n",
       "6509          senior  [experience, working, closely, with, data, eng...   \n",
       "6510        director  [data, science, data, scientist, director, hea...   \n",
       "6511          senior  [through, the, our, clients, pivotal, world-vi...   \n",
       "6512          senior  [a, recently, funded, san, francisco, based, m...   \n",
       "6513        contract  [a, cutting-edge, software, solutions, company...   \n",
       "6514             nlp  [you, will, be, working, on, a, small, team, o...   \n",
       "6515          senior  [senior, data, scientist, your, role, as, seni...   \n",
       "6516  data scientist  [experience, with, big, data, technologies, sp...   \n",
       "6517          senior  [experience, with, big, data, technologies, sp...   \n",
       "6518          senior  [experience, working, closely, with, data, eng...   \n",
       "6519        director  [data, science, data, scientist, director, hea...   \n",
       "6520          senior  [through, the, our, clients, pivotal, world-vi...   \n",
       "6521          senior  [a, recently, funded, san, francisco, based, m...   \n",
       "6522        contract  [a, cutting-edge, software, solutions, company...   \n",
       "6523             nlp  [you, will, be, working, on, a, small, team, o...   \n",
       "6524          senior  [senior, data, scientist, your, role, as, seni...   \n",
       "6525  data scientist  [experience, with, big, data, technologies, sp...   \n",
       "6526          senior  [experience, with, big, data, technologies, sp...   \n",
       "6527          senior  [experience, working, closely, with, data, eng...   \n",
       "6528        director  [data, science, data, scientist, director, hea...   \n",
       "6529          senior  [through, the, our, clients, pivotal, world-vi...   \n",
       "6530          senior  [a, recently, funded, san, francisco, based, m...   \n",
       "6531        contract  [a, cutting-edge, software, solutions, company...   \n",
       "6532             nlp  [you, will, be, working, on, a, small, team, o...   \n",
       "6533          senior  [senior, data, scientist, your, role, as, seni...   \n",
       "6534  data scientist  [experience, with, big, data, technologies, sp...   \n",
       "6535          senior  [experience, with, big, data, technologies, sp...   \n",
       "6536          senior  [experience, working, closely, with, data, eng...   \n",
       "\n",
       "      salary  daysAgo     split_jobtitle  total_skills  \n",
       "0      65000        3          [manager]             2  \n",
       "1      65000       30           [intern]             2  \n",
       "2      65000       30           [intern]             3  \n",
       "3      65000       30  [data, scientist]             0  \n",
       "4      65000       30          [analyst]             0  \n",
       "5      65000       30  [data, scientist]             1  \n",
       "6      65000        3          [manager]             2  \n",
       "7      65000       30           [intern]             2  \n",
       "8      65000       30           [intern]             3  \n",
       "9      65000       30  [data, scientist]             0  \n",
       "10     65000       30          [analyst]             0  \n",
       "11     65000       30  [data, scientist]             1  \n",
       "12     65000        3          [manager]             2  \n",
       "13     65000       30           [intern]             2  \n",
       "14     65000       30           [intern]             3  \n",
       "15     65000       30  [data, scientist]             0  \n",
       "16     65000       30          [analyst]             0  \n",
       "17     65000       30  [data, scientist]             1  \n",
       "18     65000        3          [manager]             2  \n",
       "19     65000       30           [intern]             2  \n",
       "20     65000       30           [intern]             3  \n",
       "21     65000       30  [data, scientist]             0  \n",
       "22     65000       30          [analyst]             0  \n",
       "23     65000       30  [data, scientist]             1  \n",
       "24     65000        3          [manager]             2  \n",
       "25     65000       30           [intern]             2  \n",
       "26     65000       30           [intern]             3  \n",
       "27     65000       30  [data, scientist]             0  \n",
       "28     65000       30          [analyst]             0  \n",
       "29     65000       30  [data, scientist]             1  \n",
       "...      ...      ...                ...           ...  \n",
       "6507  185000       30  [data, scientist]             1  \n",
       "6508  185000       30           [senior]             2  \n",
       "6509  185000       30           [senior]             3  \n",
       "6510  185000        2         [director]            10  \n",
       "6511  185000        6           [senior]             2  \n",
       "6512  185000       20           [senior]             2  \n",
       "6513  185000       30         [contract]             2  \n",
       "6514  185000       30              [nlp]             2  \n",
       "6515  185000       30           [senior]             3  \n",
       "6516  185000       30  [data, scientist]             1  \n",
       "6517  185000       30           [senior]             2  \n",
       "6518  185000       30           [senior]             3  \n",
       "6519  185000        2         [director]            10  \n",
       "6520  185000        6           [senior]             2  \n",
       "6521  185000       20           [senior]             2  \n",
       "6522  185000       30         [contract]             2  \n",
       "6523  185000       30              [nlp]             2  \n",
       "6524  185000       30           [senior]             3  \n",
       "6525  185000       30  [data, scientist]             1  \n",
       "6526  185000       30           [senior]             2  \n",
       "6527  185000       30           [senior]             3  \n",
       "6528  185000        2         [director]            10  \n",
       "6529  185000        6           [senior]             2  \n",
       "6530  185000       20           [senior]             2  \n",
       "6531  185000       30         [contract]             2  \n",
       "6532  185000       30              [nlp]             2  \n",
       "6533  185000       30           [senior]             3  \n",
       "6534  185000       30  [data, scientist]             1  \n",
       "6535  185000       30           [senior]             2  \n",
       "6536  185000       30           [senior]             3  \n",
       "\n",
       "[6537 rows x 10 columns]"
      ]
     },
     "execution_count": 29,
     "metadata": {},
     "output_type": "execute_result"
    }
   ],
   "source": [
    "indeed"
   ]
  },
  {
   "cell_type": "markdown",
   "metadata": {},
   "source": [
    "# Let's get testing! 🏁"
   ]
  },
  {
   "cell_type": "code",
   "execution_count": 30,
   "metadata": {
    "collapsed": true
   },
   "outputs": [],
   "source": [
    "indeed_copy = indeed.copy()\n",
    "indeed_copy.drop('snippet', axis=1, inplace=True)\n",
    "indeed_copy.drop('date', axis=1, inplace=True)\n",
    "indeed_copy.drop('split_jobtitle', axis=1, inplace=True)"
   ]
  },
  {
   "cell_type": "code",
   "execution_count": 31,
   "metadata": {
    "collapsed": true,
    "scrolled": true
   },
   "outputs": [],
   "source": [
    "dummies = ['indeedApply', 'jobtitle', 'company']\n",
    "dummy_df = pd.get_dummies(indeed_copy[dummies])"
   ]
  },
  {
   "cell_type": "code",
   "execution_count": 32,
   "metadata": {
    "collapsed": true
   },
   "outputs": [],
   "source": [
    "indeed_analysis = pd.concat([indeed_copy, dummy_df], axis=1)\n",
    "indeed_analysis.drop(dummies, axis=1, inplace=True)"
   ]
  },
  {
   "cell_type": "markdown",
   "metadata": {},
   "source": [
    "## Train Test 🚂"
   ]
  },
  {
   "cell_type": "code",
   "execution_count": 33,
   "metadata": {
    "collapsed": true
   },
   "outputs": [],
   "source": [
    "X = indeed_analysis\n",
    "y = indeed_analysis['salary'].ravel()\n",
    "X.drop('salary', axis=1, inplace=True)"
   ]
  },
  {
   "cell_type": "code",
   "execution_count": 34,
   "metadata": {
    "collapsed": true
   },
   "outputs": [],
   "source": [
    "X_train, X_test, y_train, y_test = train_test_split(X, y, test_size=0.5)"
   ]
  },
  {
   "cell_type": "code",
   "execution_count": 35,
   "metadata": {},
   "outputs": [
    {
     "name": "stdout",
     "output_type": "stream",
     "text": [
      "X train shape:  (3268, 123)\n",
      "y train shape:  (3268,)\n",
      "X test shape (3269, 123)\n",
      "y test shape:  (3269,)\n"
     ]
    }
   ],
   "source": [
    "print 'X train shape: ', X_train.shape\n",
    "print 'y train shape: ', y_train.shape\n",
    "print 'X test shape', X_test.shape\n",
    "print 'y test shape: ', y_test.shape"
   ]
  },
  {
   "cell_type": "markdown",
   "metadata": {},
   "source": [
    "## Try a Lasso... 🐴"
   ]
  },
  {
   "cell_type": "code",
   "execution_count": 36,
   "metadata": {
    "collapsed": true
   },
   "outputs": [],
   "source": [
    "def rmse_cv(model):\n",
    "    rmse= np.sqrt(-cross_val_score(model, X_train, y_train, scoring=\"neg_mean_squared_error\", cv=5))\n",
    "    return(rmse)"
   ]
  },
  {
   "cell_type": "code",
   "execution_count": 37,
   "metadata": {},
   "outputs": [
    {
     "name": "stdout",
     "output_type": "stream",
     "text": [
      "('Mean:', 6562.263459914192)\n",
      "('Min: ', 6438.2603125984706)\n"
     ]
    }
   ],
   "source": [
    "model_lasso = LassoCV(n_alphas=100, selection='random', max_iter=15000).fit(X_train, y_train)\n",
    "res = rmse_cv(model_lasso)\n",
    "print(\"Mean:\",res.mean())\n",
    "print(\"Min: \",res.min())"
   ]
  },
  {
   "cell_type": "code",
   "execution_count": 38,
   "metadata": {},
   "outputs": [
    {
     "name": "stdout",
     "output_type": "stream",
     "text": [
      "Lasso picked 1 variables and eliminated the other 122 variables\n"
     ]
    }
   ],
   "source": [
    "lasso_df = indeed_analysis\n",
    "l_coef = pd.Series(model_lasso.coef_, index = lasso_df.columns)\n",
    "print(\"Lasso picked \" + str(sum(l_coef != 0)) + \" variables and eliminated the other \" +  str(sum(l_coef == 0)) + \" variables\")"
   ]
  },
  {
   "cell_type": "code",
   "execution_count": 39,
   "metadata": {},
   "outputs": [
    {
     "data": {
      "text/html": [
       "<iframe id=\"igraph\" scrolling=\"no\" style=\"border:none;\" seamless=\"seamless\" src=\"https://plot.ly/~0Noun/148.embed\" height=\"525px\" width=\"100%\"></iframe>"
      ],
      "text/plain": [
       "<plotly.tools.PlotlyDisplay object>"
      ]
     },
     "execution_count": 39,
     "metadata": {},
     "output_type": "execute_result"
    }
   ],
   "source": [
    "lasso_coef = pd.concat([l_coef.sort_values().head(10),\n",
    "                        l_coef.sort_values().tail(10)])\n",
    "\n",
    "lasso_coef.iplot(kind = \"barh\", title='Coefficients in the Lasso Model')"
   ]
  },
  {
   "cell_type": "code",
   "execution_count": 40,
   "metadata": {},
   "outputs": [
    {
     "data": {
      "text/plain": [
       "company_Lattice Engines                                         0.000000\n",
       "company_Demandbase                                              0.000000\n",
       "company_Dropbox                                                -0.000000\n",
       "company_DuPont                                                  0.000000\n",
       "company_Electronic Arts                                        -0.000000\n",
       "company_Elevate Recruiting Group                                0.000000\n",
       "company_Eventbrite                                             -0.000000\n",
       "company_Fanatics Inc.                                           0.000000\n",
       "company_Feedzai                                                 0.000000\n",
       "company_Pinterest                                               0.000000\n",
       "company_Product Madness                                         0.000000\n",
       "company_Propeller Health                                       -0.000000\n",
       "company_Reddit                                                 -0.000000\n",
       "company_Redfish Technology - High Tech Executive Recruiters     0.000000\n",
       "company_Remind                                                  0.000000\n",
       "company_Rocket Lawyer                                          -0.000000\n",
       "company_Salesforce                                             -0.000000\n",
       "company_Samba TV                                                0.000000\n",
       "company_Credit Karma                                           -0.000000\n",
       "Unnamed: 0                                                     17.455426\n",
       "dtype: float64"
      ]
     },
     "execution_count": 40,
     "metadata": {},
     "output_type": "execute_result"
    }
   ],
   "source": [
    "lasso_coef.sort_values()"
   ]
  },
  {
   "cell_type": "markdown",
   "metadata": {},
   "source": [
    "## Try a Ridge..."
   ]
  },
  {
   "cell_type": "code",
   "execution_count": 41,
   "metadata": {},
   "outputs": [
    {
     "name": "stdout",
     "output_type": "stream",
     "text": [
      "('Mean:', 4909.4121114974005)\n",
      "('Min: ', 4693.5245129340674)\n"
     ]
    }
   ],
   "source": [
    "model_ridge = RidgeCV(alphas=(0.01, 0.1, 1.0, 10, 100)).fit(X_train, y_train)\n",
    "res = rmse_cv(model_ridge)\n",
    "print(\"Mean:\",res.mean())\n",
    "print(\"Min: \",res.min())"
   ]
  },
  {
   "cell_type": "code",
   "execution_count": 42,
   "metadata": {},
   "outputs": [
    {
     "name": "stdout",
     "output_type": "stream",
     "text": [
      "Ridge picked 120 variables and eliminated the other 3 variables\n"
     ]
    }
   ],
   "source": [
    "ridge_df = indeed_analysis\n",
    "r_coef = pd.Series(model_ridge.coef_, index = ridge_df.columns)\n",
    "print(\"Ridge picked \" + str(sum(r_coef != 0)) + \" variables and eliminated the other \" +  str(sum(r_coef == 0)) + \" variables\")"
   ]
  },
  {
   "cell_type": "code",
   "execution_count": 43,
   "metadata": {},
   "outputs": [
    {
     "data": {
      "text/html": [
       "<iframe id=\"igraph\" scrolling=\"no\" style=\"border:none;\" seamless=\"seamless\" src=\"https://plot.ly/~0Noun/150.embed\" height=\"525px\" width=\"100%\"></iframe>"
      ],
      "text/plain": [
       "<plotly.tools.PlotlyDisplay object>"
      ]
     },
     "execution_count": 43,
     "metadata": {},
     "output_type": "execute_result"
    }
   ],
   "source": [
    "ridge_coef = pd.concat([r_coef.sort_values().head(10),\n",
    "                    r_coef.sort_values().tail(10)])\n",
    "\n",
    "ridge_coef.iplot(kind = \"barh\", title='Coefficients in the Ridge Model')"
   ]
  },
  {
   "cell_type": "code",
   "execution_count": 44,
   "metadata": {},
   "outputs": [
    {
     "data": {
      "text/plain": [
       "company_IBM                     -35530.194159\n",
       "company_Ipsos North America     -19350.149786\n",
       "company_Payette Group           -19158.651884\n",
       "company_General Assembly        -17491.153687\n",
       "jobtitle_intern                 -16727.448506\n",
       "company_Zoomdata                -15981.518742\n",
       "company_Abl Schools             -12977.840861\n",
       "company_Smule                   -12891.420316\n",
       "company_Medal                   -12308.883925\n",
       "company_Gametime United, Inc.   -12040.738316\n",
       "company_DuPont                   10971.728268\n",
       "company_art.com                  10976.384660\n",
       "company_Twitter                  11025.111635\n",
       "company_Kite Staffing            12785.803171\n",
       "company_Demandbase               12942.195482\n",
       "jobtitle_manager                 14177.447411\n",
       "company_Workbridge Associates    17264.741714\n",
       "company_Harnham                  17640.226654\n",
       "jobtitle_director                18280.359414\n",
       "company_Jobspring Partners       29381.068137\n",
       "dtype: float64"
      ]
     },
     "execution_count": 44,
     "metadata": {},
     "output_type": "execute_result"
    }
   ],
   "source": [
    "ridge_coef.sort_values()"
   ]
  },
  {
   "cell_type": "markdown",
   "metadata": {},
   "source": [
    "## Try an ElasticNet..."
   ]
  },
  {
   "cell_type": "code",
   "execution_count": 45,
   "metadata": {},
   "outputs": [
    {
     "name": "stdout",
     "output_type": "stream",
     "text": [
      "('Mean:', 5561.5563687957128)\n",
      "('Min: ', 5378.0579306791078)\n"
     ]
    }
   ],
   "source": [
    "model_en = ElasticNetCV(n_alphas=100, alphas=(0.01, 0.1, 1.0, 10, 100, 500), \\\n",
    "                        max_iter=15000, cv=5, n_jobs=-1).fit(X_train, y_train)\n",
    "res = rmse_cv(model_en)\n",
    "print(\"Mean:\",res.mean())\n",
    "print(\"Min: \",res.min())"
   ]
  },
  {
   "cell_type": "code",
   "execution_count": 46,
   "metadata": {},
   "outputs": [
    {
     "name": "stdout",
     "output_type": "stream",
     "text": [
      "ElasticNet picked 120 variables and eliminated the other 3 variables\n"
     ]
    }
   ],
   "source": [
    "en_df = indeed_analysis\n",
    "e_coef = pd.Series(model_en.coef_, index = en_df.columns)\n",
    "print(\"ElasticNet picked \" + str(sum(e_coef != 0)) + \" variables and eliminated the other \" +  str(sum(e_coef == 0)) + \" variables\")"
   ]
  },
  {
   "cell_type": "code",
   "execution_count": 47,
   "metadata": {},
   "outputs": [
    {
     "data": {
      "text/html": [
       "<iframe id=\"igraph\" scrolling=\"no\" style=\"border:none;\" seamless=\"seamless\" src=\"https://plot.ly/~0Noun/152.embed\" height=\"525px\" width=\"100%\"></iframe>"
      ],
      "text/plain": [
       "<plotly.tools.PlotlyDisplay object>"
      ]
     },
     "execution_count": 47,
     "metadata": {},
     "output_type": "execute_result"
    }
   ],
   "source": [
    "eln_coef = pd.concat([e_coef.sort_values().head(10),\n",
    "                     e_coef.sort_values().tail(10)])\n",
    "\n",
    "eln_coef.iplot(kind = \"barh\", title='Coefficients in the ElasticNet Model')"
   ]
  },
  {
   "cell_type": "code",
   "execution_count": 48,
   "metadata": {
    "scrolled": true
   },
   "outputs": [
    {
     "data": {
      "text/plain": [
       "company_IBM                         -6247.843377\n",
       "jobtitle_intern                     -5784.069818\n",
       "company_Payette Group               -5199.806768\n",
       "company_Ipsos North America         -4683.690475\n",
       "company_General Assembly            -4508.426635\n",
       "company_Gametime United, Inc.       -4334.600298\n",
       "company_Lending Club                -3974.393619\n",
       "company_Trulia                      -3884.873640\n",
       "company_LiveRamp                    -3572.903423\n",
       "company_Abl Schools                 -3180.469724\n",
       "jobtitle_director                    2789.973193\n",
       "company_PI Benchmark                 3012.326036\n",
       "company_Twitter                      3433.512689\n",
       "company_Corporate Labs Technology    3716.887474\n",
       "company_Yodlee                       3731.577412\n",
       "company_Counsyl                      3863.097423\n",
       "company_Elevate Recruiting Group     5192.594972\n",
       "company_Jobspring Partners           5416.593083\n",
       "company_Harnham                      5451.324781\n",
       "company_Workbridge Associates        7130.744353\n",
       "dtype: float64"
      ]
     },
     "execution_count": 48,
     "metadata": {},
     "output_type": "execute_result"
    }
   ],
   "source": [
    "eln_coef.sort_values()"
   ]
  },
  {
   "cell_type": "markdown",
   "metadata": {},
   "source": [
    "## 6 items continuously have the most negative coefficient.\n",
    "#### (One of which is General Assembly. 🙊)"
   ]
  },
  {
   "cell_type": "markdown",
   "metadata": {},
   "source": [
    "### LassoCV\n",
    "<b><i>company_IBM                                      -83680.127033</i></b><br>\n",
    "<b><i>company_Ipsos North America                      -61283.945882</i></b><br>\n",
    "<b><i>company_Payette Group                            -55162.924482</i></b><br>\n",
    "<b><i>jobtitle_intern                                  -52931.827562</i></b><br>\n",
    "<b><i>company_General Assembly                         -51289.012674</i></b><br>\n",
    "<b><i>company_Abl Schools                              -37933.885551</i></b><br>\n",
    "company_Wells Fargo                              -37889.699213<br>\n",
    "company_Gametime United, Inc.                    -37171.204553<br>\n",
    "company_Blackstone Technology Group              -35675.025423<br>\n",
    "company_University of California San Francisco   -34951.945051"
   ]
  },
  {
   "cell_type": "markdown",
   "metadata": {},
   "source": [
    "### RidgeCV\n",
    "\n",
    "<b><i>company_IBM                        -95302.293940</i></b><br>\n",
    "company_Pfizer Inc.                -60019.066497<br>\n",
    "company_Zoomdata                   -59851.290745<br>\n",
    "<b><i>company_Payette Group              -56326.740790</i></b><br>\n",
    "<b><i>company_Ipsos North America        -56002.468068</i></b><br>\n",
    "<b><i>jobtitle_intern                    -52122.052715</i></b><br>\n",
    "<b><i>company_General Assembly           -50058.492898</i></b><br>\n",
    "<b><i>company_Abl Schools                -38392.647131</i></b><br>\n",
    "company_Levi Strauss & Co.         -38091.714666<br>\n",
    "jobtitle_contract                  -37356.497330"
   ]
  },
  {
   "cell_type": "markdown",
   "metadata": {},
   "source": [
    "### ElasticNetCV\n",
    "\n",
    "<b><i>company_IBM                                      -42188.536367</i></b><br>\n",
    "<b><i>jobtitle_intern                                  -40680.543325</i></b><br>\n",
    "<b><i>company_Payette Group                            -36127.867658</i></b><br>\n",
    "<b><i>company_Ipsos North America                      -35141.452584</i></b><br>\n",
    "<b><i>company_General Assembly                         -35133.725124</i></b><br>\n",
    "company_Gametime United, Inc.                    -29467.558302<br>\n",
    "<b><i>company_Abl Schools                              -29155.321394</i></b><br>\n",
    "company_University of California San Francisco   -22169.940114<br>\n",
    "company_LiveRamp                                 -21696.303155<br>\n",
    "company_Microsoft                                -21495.080653"
   ]
  },
  {
   "cell_type": "markdown",
   "metadata": {},
   "source": [
    "# 🌫🌫🌫🌫🌫🌫🌫🌫🌫🌫🌫🌫🌫🌫🌫🌫🌫🌫🌫🌫🌫🌫🌫🌫🌫🌫🌫🌫🌫"
   ]
  },
  {
   "cell_type": "markdown",
   "metadata": {},
   "source": [
    "## Setting up for a regression."
   ]
  },
  {
   "cell_type": "code",
   "execution_count": 49,
   "metadata": {
    "collapsed": true
   },
   "outputs": [],
   "source": [
    "indeed_copy = indeed.copy()\n",
    "indeed_copy.drop('snippet', axis=1, inplace=True)\n",
    "indeed_copy.drop('date', axis=1, inplace=True)\n",
    "indeed_copy.drop('split_jobtitle', axis=1, inplace=True)"
   ]
  },
  {
   "cell_type": "code",
   "execution_count": 50,
   "metadata": {
    "collapsed": true,
    "scrolled": true
   },
   "outputs": [],
   "source": [
    "dummies = ['indeedApply', 'jobtitle', 'company']\n",
    "dummy_df = pd.get_dummies(indeed_copy[dummies])"
   ]
  },
  {
   "cell_type": "code",
   "execution_count": 51,
   "metadata": {
    "collapsed": true
   },
   "outputs": [],
   "source": [
    "indeed_analysis = pd.concat([indeed_copy, dummy_df], axis=1)\n",
    "indeed_analysis.drop(dummies, axis=1, inplace=True)"
   ]
  },
  {
   "cell_type": "markdown",
   "metadata": {},
   "source": [
    "### I'll drop the poor performers denoted by LassoCV."
   ]
  },
  {
   "cell_type": "code",
   "execution_count": 52,
   "metadata": {
    "collapsed": true
   },
   "outputs": [],
   "source": [
    "poor_performers = [u'jobtitle_nlp', u'company_6sense', u'company_Activision',\n",
    "       u'company_Adadyn', u'company_BOLD', u'company_Big Fish',\n",
    "       u'company_Blend Labs', u'company_Chariot', u'company_CircleUp',\n",
    "       u'company_Counsyl', u'company_Dropbox', u'company_Genedata',\n",
    "       u'company_Glassdoor', u'company_Intelliswift Software, Inc.',\n",
    "       u'company_LendUp', u'company_Lending Club', u'company_Near',\n",
    "       u'company_Nomis Solutions', u'company_Nuna', u'company_Oracle',\n",
    "       u'company_PI Benchmark', u'company_Pfizer Inc.', u'company_Pinterest',\n",
    "       u'company_Product Madness', u'company_Reddit', u'company_Rocket Lawyer',\n",
    "       u'company_Salesforce', u'company_Samba TV', u'company_Showpad',\n",
    "       u'company_Shutterfly', u'company_Stride Search', u'company_Supercell',\n",
    "       u'company_TellApart', u'company_Thumbtack', u'company_Ticketfly',\n",
    "       u'company_TrueAccord', u'company_Ultimate Software',\n",
    "       u'company_Walmart eCommerce', u'company_WePay', u'company_Yodlee',\n",
    "       u'company_YuMe', u'company_Zoomdata', u'company_art.com',\n",
    "       u'company_ironSource']\n",
    "\n",
    "indeed_analysis.drop(poor_performers, axis=1, inplace=True)"
   ]
  },
  {
   "cell_type": "markdown",
   "metadata": {},
   "source": [
    "## Train Test 🚋"
   ]
  },
  {
   "cell_type": "code",
   "execution_count": 53,
   "metadata": {
    "collapsed": true
   },
   "outputs": [],
   "source": [
    "X = indeed_analysis\n",
    "y = indeed_analysis['salary'].ravel()\n",
    "X.drop('salary', axis=1, inplace=True)"
   ]
  },
  {
   "cell_type": "code",
   "execution_count": 54,
   "metadata": {
    "collapsed": true
   },
   "outputs": [],
   "source": [
    "X_train, X_test, y_train, y_test = train_test_split(X, y, test_size=0.5)"
   ]
  },
  {
   "cell_type": "code",
   "execution_count": 55,
   "metadata": {},
   "outputs": [
    {
     "name": "stdout",
     "output_type": "stream",
     "text": [
      "X train shape:  (3268, 79)\n",
      "y train shape:  (3268,)\n",
      "X test shape (3269, 79)\n",
      "y test shape:  (3269,)\n"
     ]
    }
   ],
   "source": [
    "print 'X train shape: ', X_train.shape\n",
    "print 'y train shape: ', y_train.shape\n",
    "print 'X test shape', X_test.shape\n",
    "print 'y test shape: ', y_test.shape"
   ]
  },
  {
   "cell_type": "markdown",
   "metadata": {},
   "source": [
    "## And now... Regression. 🕵🏻"
   ]
  },
  {
   "cell_type": "code",
   "execution_count": 56,
   "metadata": {
    "collapsed": true
   },
   "outputs": [],
   "source": [
    "from sklearn.metrics import r2_score"
   ]
  },
  {
   "cell_type": "code",
   "execution_count": 84,
   "metadata": {},
   "outputs": [
    {
     "name": "stdout",
     "output_type": "stream",
     "text": [
      "5-Fold CV Mean Average: 98.12%\n",
      "Standard Deviation: 0.25%\n",
      "R^2 score: 98.13%\n"
     ]
    }
   ],
   "source": [
    "lr = LinearRegression(n_jobs=-1)\n",
    "\n",
    "lr.fit(X_train, y_train)\n",
    "\n",
    "pred_salary = pd.DataFrame()\n",
    "pred_salary['Predicted Salary'] = lr.predict(X_test)\n",
    "scores = cross_val_score(lr, X_test, y_test, cv=5)\n",
    "\n",
    "salary_score = '5-Fold CV Mean Average: {percent:.2%}'.format(percent=scores.mean())\n",
    "salary_std = 'Standard Deviation: {percent:.2%}'.format(percent=scores.std() * 2)\n",
    "salary_r2 = 'R^2 score: {percent:.2%}'.format(percent=r2_score(y_test, lr.predict(X_test)))\n",
    "\n",
    "print salary_score\n",
    "print salary_std\n",
    "print salary_r2"
   ]
  },
  {
   "cell_type": "code",
   "execution_count": 77,
   "metadata": {
    "collapsed": true
   },
   "outputs": [],
   "source": [
    "true_salary = pd.DataFrame(y_test.astype(float)).sort_index()\n",
    "true_salary.columns = ['True Salary']\n",
    "true_salary.reset_index(inplace=True, drop=True)"
   ]
  },
  {
   "cell_type": "code",
   "execution_count": 78,
   "metadata": {},
   "outputs": [],
   "source": [
    "predicted_salary = pd.concat([pred_salary, true_salary], axis=1)\n",
    "predicted_salary['Difference'] = predicted_salary['True Salary'] - predicted_salary['Predicted Salary']\n",
    "predicted_salary.sort_values('True Salary', inplace=True)\n",
    "predicted_salary.reset_index(drop=True, inplace=True)"
   ]
  },
  {
   "cell_type": "code",
   "execution_count": 79,
   "metadata": {},
   "outputs": [
    {
     "data": {
      "text/html": [
       "<div>\n",
       "<style>\n",
       "    .dataframe thead tr:only-child th {\n",
       "        text-align: right;\n",
       "    }\n",
       "\n",
       "    .dataframe thead th {\n",
       "        text-align: left;\n",
       "    }\n",
       "\n",
       "    .dataframe tbody tr th {\n",
       "        vertical-align: top;\n",
       "    }\n",
       "</style>\n",
       "<table border=\"1\" class=\"dataframe\">\n",
       "  <thead>\n",
       "    <tr style=\"text-align: right;\">\n",
       "      <th></th>\n",
       "      <th>0</th>\n",
       "      <th>1</th>\n",
       "      <th>2</th>\n",
       "      <th>3</th>\n",
       "      <th>4</th>\n",
       "      <th>5</th>\n",
       "      <th>6</th>\n",
       "      <th>7</th>\n",
       "      <th>8</th>\n",
       "      <th>9</th>\n",
       "      <th>...</th>\n",
       "      <th>3259</th>\n",
       "      <th>3260</th>\n",
       "      <th>3261</th>\n",
       "      <th>3262</th>\n",
       "      <th>3263</th>\n",
       "      <th>3264</th>\n",
       "      <th>3265</th>\n",
       "      <th>3266</th>\n",
       "      <th>3267</th>\n",
       "      <th>3268</th>\n",
       "    </tr>\n",
       "  </thead>\n",
       "  <tbody>\n",
       "    <tr>\n",
       "      <th>Predicted Salary</th>\n",
       "      <td>68501.120297</td>\n",
       "      <td>66595.498877</td>\n",
       "      <td>64877.583206</td>\n",
       "      <td>63766.353827</td>\n",
       "      <td>67770.700095</td>\n",
       "      <td>68260.36727</td>\n",
       "      <td>68656.562243</td>\n",
       "      <td>70468.330788</td>\n",
       "      <td>67619.719383</td>\n",
       "      <td>66546.248383</td>\n",
       "      <td>...</td>\n",
       "      <td>186386.115153</td>\n",
       "      <td>175192.039716</td>\n",
       "      <td>185577.051628</td>\n",
       "      <td>189564.112689</td>\n",
       "      <td>189561.447374</td>\n",
       "      <td>180566.538233</td>\n",
       "      <td>178387.118029</td>\n",
       "      <td>185744.768602</td>\n",
       "      <td>188661.954827</td>\n",
       "      <td>185154.442804</td>\n",
       "    </tr>\n",
       "    <tr>\n",
       "      <th>True Salary</th>\n",
       "      <td>65000.000000</td>\n",
       "      <td>65000.000000</td>\n",
       "      <td>65000.000000</td>\n",
       "      <td>65000.000000</td>\n",
       "      <td>65000.000000</td>\n",
       "      <td>65000.00000</td>\n",
       "      <td>65000.000000</td>\n",
       "      <td>65000.000000</td>\n",
       "      <td>65000.000000</td>\n",
       "      <td>65000.000000</td>\n",
       "      <td>...</td>\n",
       "      <td>185000.000000</td>\n",
       "      <td>185000.000000</td>\n",
       "      <td>185000.000000</td>\n",
       "      <td>185000.000000</td>\n",
       "      <td>185000.000000</td>\n",
       "      <td>185000.000000</td>\n",
       "      <td>185000.000000</td>\n",
       "      <td>185000.000000</td>\n",
       "      <td>185000.000000</td>\n",
       "      <td>185000.000000</td>\n",
       "    </tr>\n",
       "    <tr>\n",
       "      <th>Difference</th>\n",
       "      <td>-3501.120297</td>\n",
       "      <td>-1595.498877</td>\n",
       "      <td>122.416794</td>\n",
       "      <td>1233.646173</td>\n",
       "      <td>-2770.700095</td>\n",
       "      <td>-3260.36727</td>\n",
       "      <td>-3656.562243</td>\n",
       "      <td>-5468.330788</td>\n",
       "      <td>-2619.719383</td>\n",
       "      <td>-1546.248383</td>\n",
       "      <td>...</td>\n",
       "      <td>-1386.115153</td>\n",
       "      <td>9807.960284</td>\n",
       "      <td>-577.051628</td>\n",
       "      <td>-4564.112689</td>\n",
       "      <td>-4561.447374</td>\n",
       "      <td>4433.461767</td>\n",
       "      <td>6612.881971</td>\n",
       "      <td>-744.768602</td>\n",
       "      <td>-3661.954827</td>\n",
       "      <td>-154.442804</td>\n",
       "    </tr>\n",
       "  </tbody>\n",
       "</table>\n",
       "<p>3 rows × 3269 columns</p>\n",
       "</div>"
      ],
      "text/plain": [
       "                          0             1             2             3     \\\n",
       "Predicted Salary  68501.120297  66595.498877  64877.583206  63766.353827   \n",
       "True Salary       65000.000000  65000.000000  65000.000000  65000.000000   \n",
       "Difference        -3501.120297  -1595.498877    122.416794   1233.646173   \n",
       "\n",
       "                          4            5             6             7     \\\n",
       "Predicted Salary  67770.700095  68260.36727  68656.562243  70468.330788   \n",
       "True Salary       65000.000000  65000.00000  65000.000000  65000.000000   \n",
       "Difference        -2770.700095  -3260.36727  -3656.562243  -5468.330788   \n",
       "\n",
       "                          8             9         ...                 3259  \\\n",
       "Predicted Salary  67619.719383  66546.248383      ...        186386.115153   \n",
       "True Salary       65000.000000  65000.000000      ...        185000.000000   \n",
       "Difference        -2619.719383  -1546.248383      ...         -1386.115153   \n",
       "\n",
       "                           3260           3261           3262           3263  \\\n",
       "Predicted Salary  175192.039716  185577.051628  189564.112689  189561.447374   \n",
       "True Salary       185000.000000  185000.000000  185000.000000  185000.000000   \n",
       "Difference          9807.960284    -577.051628   -4564.112689   -4561.447374   \n",
       "\n",
       "                           3264           3265           3266           3267  \\\n",
       "Predicted Salary  180566.538233  178387.118029  185744.768602  188661.954827   \n",
       "True Salary       185000.000000  185000.000000  185000.000000  185000.000000   \n",
       "Difference          4433.461767    6612.881971    -744.768602   -3661.954827   \n",
       "\n",
       "                           3268  \n",
       "Predicted Salary  185154.442804  \n",
       "True Salary       185000.000000  \n",
       "Difference          -154.442804  \n",
       "\n",
       "[3 rows x 3269 columns]"
      ]
     },
     "execution_count": 79,
     "metadata": {},
     "output_type": "execute_result"
    }
   ],
   "source": [
    "predicted_salary.T"
   ]
  },
  {
   "cell_type": "code",
   "execution_count": 80,
   "metadata": {},
   "outputs": [
    {
     "data": {
      "text/plain": [
       "35.535095903215534"
      ]
     },
     "execution_count": 80,
     "metadata": {},
     "output_type": "execute_result"
    }
   ],
   "source": [
    "predicted_salary['Difference'].mean()"
   ]
  },
  {
   "cell_type": "code",
   "execution_count": 81,
   "metadata": {
    "scrolled": false
   },
   "outputs": [
    {
     "data": {
      "text/html": [
       "<iframe id=\"igraph\" scrolling=\"no\" style=\"border:none;\" seamless=\"seamless\" src=\"https://plot.ly/~0Noun/246.embed\" height=\"525px\" width=\"100%\"></iframe>"
      ],
      "text/plain": [
       "<plotly.tools.PlotlyDisplay object>"
      ]
     },
     "execution_count": 81,
     "metadata": {},
     "output_type": "execute_result"
    }
   ],
   "source": [
    "predicted_salary.iplot(kind='spread', title='Linear Regression with Salary as Target', \\\n",
    "                       opacity=20, xTitle=salary_score, yTitle=salary_std)"
   ]
  },
  {
   "cell_type": "markdown",
   "metadata": {},
   "source": [
    "## Let's check out a couple other regressors."
   ]
  },
  {
   "cell_type": "markdown",
   "metadata": {},
   "source": [
    "## Set it up again!"
   ]
  },
  {
   "cell_type": "code",
   "execution_count": 93,
   "metadata": {},
   "outputs": [],
   "source": [
    "indeed_copy = indeed.copy()"
   ]
  },
  {
   "cell_type": "code",
   "execution_count": 94,
   "metadata": {
    "collapsed": true
   },
   "outputs": [],
   "source": [
    "indeed_copy.drop('snippet', axis=1, inplace=True)\n",
    "indeed_copy.drop('date', axis=1, inplace=True)\n",
    "indeed_copy.drop('split_jobtitle', axis=1, inplace=True)"
   ]
  },
  {
   "cell_type": "code",
   "execution_count": 95,
   "metadata": {
    "collapsed": true,
    "scrolled": true
   },
   "outputs": [],
   "source": [
    "dummies = ['indeedApply', 'jobtitle', 'company']\n",
    "dummy_df = pd.get_dummies(indeed_copy[dummies])"
   ]
  },
  {
   "cell_type": "code",
   "execution_count": 96,
   "metadata": {
    "collapsed": true
   },
   "outputs": [],
   "source": [
    "indeed_analysis = pd.concat([indeed_copy, dummy_df], axis=1)\n",
    "indeed_analysis.drop(dummies, axis=1, inplace=True)"
   ]
  },
  {
   "cell_type": "code",
   "execution_count": 97,
   "metadata": {
    "collapsed": true
   },
   "outputs": [],
   "source": [
    "poor_performers = [u'jobtitle_nlp', u'company_6sense', u'company_Activision',\n",
    "       u'company_Adadyn', u'company_BOLD', u'company_Big Fish',\n",
    "       u'company_Blend Labs', u'company_Chariot', u'company_CircleUp',\n",
    "       u'company_Counsyl', u'company_Dropbox', u'company_Genedata',\n",
    "       u'company_Glassdoor', u'company_Intelliswift Software, Inc.',\n",
    "       u'company_LendUp', u'company_Lending Club', u'company_Near',\n",
    "       u'company_Nomis Solutions', u'company_Nuna', u'company_Oracle',\n",
    "       u'company_PI Benchmark', u'company_Pfizer Inc.', u'company_Pinterest',\n",
    "       u'company_Product Madness', u'company_Reddit', u'company_Rocket Lawyer',\n",
    "       u'company_Salesforce', u'company_Samba TV', u'company_Showpad',\n",
    "       u'company_Shutterfly', u'company_Stride Search', u'company_Supercell',\n",
    "       u'company_TellApart', u'company_Thumbtack', u'company_Ticketfly',\n",
    "       u'company_TrueAccord', u'company_Ultimate Software',\n",
    "       u'company_Walmart eCommerce', u'company_WePay', u'company_Yodlee',\n",
    "       u'company_YuMe', u'company_Zoomdata', u'company_art.com',\n",
    "       u'company_ironSource']\n",
    "\n",
    "indeed_analysis.drop(poor_performers, axis=1, inplace=True)"
   ]
  },
  {
   "cell_type": "markdown",
   "metadata": {},
   "source": [
    "## Train Test 🚋"
   ]
  },
  {
   "cell_type": "code",
   "execution_count": 98,
   "metadata": {
    "collapsed": true
   },
   "outputs": [],
   "source": [
    "X = indeed_analysis\n",
    "y = indeed_analysis['salary'].ravel()\n",
    "X.drop('salary', axis=1, inplace=True)"
   ]
  },
  {
   "cell_type": "code",
   "execution_count": 99,
   "metadata": {
    "collapsed": true
   },
   "outputs": [],
   "source": [
    "X_train, X_test, y_train, y_test = train_test_split(X, y, test_size=0.5)"
   ]
  },
  {
   "cell_type": "code",
   "execution_count": 100,
   "metadata": {},
   "outputs": [
    {
     "name": "stdout",
     "output_type": "stream",
     "text": [
      "X train shape:  (3268, 79)\n",
      "y train shape:  (3268,)\n",
      "X test shape (3269, 79)\n",
      "y test shape:  (3269,)\n"
     ]
    }
   ],
   "source": [
    "print 'X train shape: ', X_train.shape\n",
    "print 'y train shape: ', y_train.shape\n",
    "print 'X test shape', X_test.shape\n",
    "print 'y test shape: ', y_test.shape"
   ]
  },
  {
   "cell_type": "markdown",
   "metadata": {},
   "source": [
    "## And now... Regression(s).\n",
    "# 🎉🎉🎉🎉🎉🎉🎉🎉🎉🎉🎉🎉🎉🎉🎉🎉🎉🎉🎉🎉🎉🎉🎉🎉🎉🎉🎉🎉🎉🎉🎉🎉🎉🎉🎉"
   ]
  },
  {
   "cell_type": "code",
   "execution_count": 123,
   "metadata": {},
   "outputs": [
    {
     "name": "stdout",
     "output_type": "stream",
     "text": [
      "5-Fold CV Mean Average: 98.16%\n",
      "Standard Deviation: 0.31%\n",
      "R^2 score: 98.16%\n"
     ]
    }
   ],
   "source": [
    "lr = LinearRegression(n_jobs=-1)\n",
    "\n",
    "lr.fit(X_train, y_train)\n",
    "\n",
    "pred_lr_salary = pd.DataFrame()\n",
    "pred_lr_salary['Predicted Salary'] = lr.predict(X_test)\n",
    "scores = cross_val_score(lr, X_test, y_test, cv=5)\n",
    "\n",
    "lr_salary_score = '5-Fold CV Mean Average: {percent:.2%}'.format(percent=scores.mean())\n",
    "lr_salary_std = 'Standard Deviation: {percent:.2%}'.format(percent=scores.std() * 2)\n",
    "lr_salary_r2 = 'R^2 score: {percent:.2%}'.format(percent=r2_score(y_test, lr.predict(X_test)))\n",
    "\n",
    "print lr_salary_score\n",
    "print lr_salary_std\n",
    "print lr_salary_r2"
   ]
  },
  {
   "cell_type": "code",
   "execution_count": 126,
   "metadata": {},
   "outputs": [
    {
     "name": "stdout",
     "output_type": "stream",
     "text": [
      "5-Fold CV Mean Average: 99.97%\n",
      "Standard Deviation: 0.07%\n",
      "R^2 score: 99.95%\n"
     ]
    }
   ],
   "source": [
    "rfr = RandomForestRegressor(n_estimators=50)\n",
    "    \n",
    "rfr.fit(X_train, y_train)\n",
    "\n",
    "pred_rfr_salary = pd.DataFrame()\n",
    "pred_rfr_salary['Predicted Salary'] = rfr.predict(X_test)\n",
    "scores = cross_val_score(rfr, X_test, y_test, cv=5)\n",
    "\n",
    "rfr_salary_score = '5-Fold CV Mean Average: {percent:.2%}'.format(percent=scores.mean())\n",
    "rfr_salary_std = 'Standard Deviation: {percent:.2%}'.format(percent=scores.std() * 2)\n",
    "rfr_salary_r2 = 'R^2 score: {percent:.2%}'.format(percent=r2_score(y_test, rfr.predict(X_test)))\n",
    "\n",
    "print rfr_salary_score\n",
    "print rfr_salary_std\n",
    "print rfr_salary_r2"
   ]
  },
  {
   "cell_type": "code",
   "execution_count": 127,
   "metadata": {},
   "outputs": [
    {
     "name": "stdout",
     "output_type": "stream",
     "text": [
      "5-Fold CV Mean Average: 99.94%\n",
      "Standard Deviation: 0.07%\n",
      "R^2 score: 99.96%\n"
     ]
    }
   ],
   "source": [
    "knn = KNeighborsRegressor(5)\n",
    "\n",
    "knn.fit(X_train, y_train)\n",
    "\n",
    "pred_knn_salary = pd.DataFrame()\n",
    "pred_knn_salary['Predicted Salary'] = knn.predict(X_test)\n",
    "scores = cross_val_score(knn, X_test, y_test, cv=5)\n",
    "\n",
    "knn_salary_score = '5-Fold CV Mean Average: {percent:.2%}'.format(percent=scores.mean())\n",
    "knn_salary_std = 'Standard Deviation: {percent:.2%}'.format(percent=scores.std() * 2)\n",
    "knn_salary_r2 = 'R^2 score: {percent:.2%}'.format(percent=r2_score(y_test, knn.predict(X_test)))\n",
    "\n",
    "print knn_salary_score\n",
    "print knn_salary_std\n",
    "print knn_salary_r2"
   ]
  },
  {
   "cell_type": "code",
   "execution_count": 128,
   "metadata": {
    "collapsed": true
   },
   "outputs": [],
   "source": [
    "true_salary = pd.DataFrame(y_test.astype(float)).sort_index()\n",
    "true_salary.columns = ['True Salary']\n",
    "true_salary.reset_index(inplace=True, drop=True)"
   ]
  },
  {
   "cell_type": "code",
   "execution_count": 129,
   "metadata": {},
   "outputs": [],
   "source": [
    "predicted_lr_salary = pd.concat([pred_lr_salary, true_salary], axis=1)\n",
    "predicted_lr_salary['Difference'] = predicted_lr_salary['True Salary'] - predicted_lr_salary['Predicted Salary']\n",
    "predicted_lr_salary.sort_values('True Salary', inplace=True)\n",
    "predicted_lr_salary.reset_index(drop=True, inplace=True)"
   ]
  },
  {
   "cell_type": "code",
   "execution_count": 130,
   "metadata": {
    "collapsed": true
   },
   "outputs": [],
   "source": [
    "predicted_rfr_salary = pd.concat([pred_rfr_salary, true_salary], axis=1)\n",
    "predicted_rfr_salary['Difference'] = predicted_rfr_salary['True Salary'] - predicted_rfr_salary['Predicted Salary']\n",
    "predicted_rfr_salary.sort_values('True Salary', inplace=True)\n",
    "predicted_rfr_salary.reset_index(drop=True, inplace=True)"
   ]
  },
  {
   "cell_type": "code",
   "execution_count": 131,
   "metadata": {
    "collapsed": true
   },
   "outputs": [],
   "source": [
    "predicted_knn_salary = pd.concat([pred_knn_salary, true_salary], axis=1)\n",
    "predicted_knn_salary['Difference'] = predicted_knn_salary['True Salary'] - predicted_knn_salary['Predicted Salary']\n",
    "predicted_knn_salary.sort_values('True Salary', inplace=True)\n",
    "predicted_knn_salary.reset_index(drop=True, inplace=True)"
   ]
  },
  {
   "cell_type": "code",
   "execution_count": 132,
   "metadata": {},
   "outputs": [
    {
     "data": {
      "text/html": [
       "<div>\n",
       "<style>\n",
       "    .dataframe thead tr:only-child th {\n",
       "        text-align: right;\n",
       "    }\n",
       "\n",
       "    .dataframe thead th {\n",
       "        text-align: left;\n",
       "    }\n",
       "\n",
       "    .dataframe tbody tr th {\n",
       "        vertical-align: top;\n",
       "    }\n",
       "</style>\n",
       "<table border=\"1\" class=\"dataframe\">\n",
       "  <thead>\n",
       "    <tr style=\"text-align: right;\">\n",
       "      <th></th>\n",
       "      <th>0</th>\n",
       "      <th>1</th>\n",
       "      <th>2</th>\n",
       "      <th>3</th>\n",
       "      <th>4</th>\n",
       "      <th>5</th>\n",
       "      <th>6</th>\n",
       "      <th>7</th>\n",
       "      <th>8</th>\n",
       "      <th>9</th>\n",
       "      <th>...</th>\n",
       "      <th>3259</th>\n",
       "      <th>3260</th>\n",
       "      <th>3261</th>\n",
       "      <th>3262</th>\n",
       "      <th>3263</th>\n",
       "      <th>3264</th>\n",
       "      <th>3265</th>\n",
       "      <th>3266</th>\n",
       "      <th>3267</th>\n",
       "      <th>3268</th>\n",
       "    </tr>\n",
       "  </thead>\n",
       "  <tbody>\n",
       "    <tr>\n",
       "      <th>Predicted Salary</th>\n",
       "      <td>61221.577689</td>\n",
       "      <td>64517.328238</td>\n",
       "      <td>62459.826968</td>\n",
       "      <td>67277.479616</td>\n",
       "      <td>66546.03217</td>\n",
       "      <td>66075.328509</td>\n",
       "      <td>65180.059337</td>\n",
       "      <td>61415.524812</td>\n",
       "      <td>65185.203656</td>\n",
       "      <td>67235.32182</td>\n",
       "      <td>...</td>\n",
       "      <td>185257.376571</td>\n",
       "      <td>182403.774906</td>\n",
       "      <td>183954.676619</td>\n",
       "      <td>185712.384323</td>\n",
       "      <td>184601.431155</td>\n",
       "      <td>177207.852299</td>\n",
       "      <td>180937.007514</td>\n",
       "      <td>184195.661084</td>\n",
       "      <td>183392.607875</td>\n",
       "      <td>181831.96381</td>\n",
       "    </tr>\n",
       "    <tr>\n",
       "      <th>True Salary</th>\n",
       "      <td>65000.000000</td>\n",
       "      <td>65000.000000</td>\n",
       "      <td>65000.000000</td>\n",
       "      <td>65000.000000</td>\n",
       "      <td>65000.00000</td>\n",
       "      <td>65000.000000</td>\n",
       "      <td>65000.000000</td>\n",
       "      <td>65000.000000</td>\n",
       "      <td>65000.000000</td>\n",
       "      <td>65000.00000</td>\n",
       "      <td>...</td>\n",
       "      <td>185000.000000</td>\n",
       "      <td>185000.000000</td>\n",
       "      <td>185000.000000</td>\n",
       "      <td>185000.000000</td>\n",
       "      <td>185000.000000</td>\n",
       "      <td>185000.000000</td>\n",
       "      <td>185000.000000</td>\n",
       "      <td>185000.000000</td>\n",
       "      <td>185000.000000</td>\n",
       "      <td>185000.00000</td>\n",
       "    </tr>\n",
       "    <tr>\n",
       "      <th>Difference</th>\n",
       "      <td>3778.422311</td>\n",
       "      <td>482.671762</td>\n",
       "      <td>2540.173032</td>\n",
       "      <td>-2277.479616</td>\n",
       "      <td>-1546.03217</td>\n",
       "      <td>-1075.328509</td>\n",
       "      <td>-180.059337</td>\n",
       "      <td>3584.475188</td>\n",
       "      <td>-185.203656</td>\n",
       "      <td>-2235.32182</td>\n",
       "      <td>...</td>\n",
       "      <td>-257.376571</td>\n",
       "      <td>2596.225094</td>\n",
       "      <td>1045.323381</td>\n",
       "      <td>-712.384323</td>\n",
       "      <td>398.568845</td>\n",
       "      <td>7792.147701</td>\n",
       "      <td>4062.992486</td>\n",
       "      <td>804.338916</td>\n",
       "      <td>1607.392125</td>\n",
       "      <td>3168.03619</td>\n",
       "    </tr>\n",
       "  </tbody>\n",
       "</table>\n",
       "<p>3 rows × 3269 columns</p>\n",
       "</div>"
      ],
      "text/plain": [
       "                          0             1             2             3     \\\n",
       "Predicted Salary  61221.577689  64517.328238  62459.826968  67277.479616   \n",
       "True Salary       65000.000000  65000.000000  65000.000000  65000.000000   \n",
       "Difference         3778.422311    482.671762   2540.173032  -2277.479616   \n",
       "\n",
       "                         4             5             6             7     \\\n",
       "Predicted Salary  66546.03217  66075.328509  65180.059337  61415.524812   \n",
       "True Salary       65000.00000  65000.000000  65000.000000  65000.000000   \n",
       "Difference        -1546.03217  -1075.328509   -180.059337   3584.475188   \n",
       "\n",
       "                          8            9         ...                3259  \\\n",
       "Predicted Salary  65185.203656  67235.32182      ...       185257.376571   \n",
       "True Salary       65000.000000  65000.00000      ...       185000.000000   \n",
       "Difference         -185.203656  -2235.32182      ...         -257.376571   \n",
       "\n",
       "                           3260           3261           3262           3263  \\\n",
       "Predicted Salary  182403.774906  183954.676619  185712.384323  184601.431155   \n",
       "True Salary       185000.000000  185000.000000  185000.000000  185000.000000   \n",
       "Difference          2596.225094    1045.323381    -712.384323     398.568845   \n",
       "\n",
       "                           3264           3265           3266           3267  \\\n",
       "Predicted Salary  177207.852299  180937.007514  184195.661084  183392.607875   \n",
       "True Salary       185000.000000  185000.000000  185000.000000  185000.000000   \n",
       "Difference          7792.147701    4062.992486     804.338916    1607.392125   \n",
       "\n",
       "                          3268  \n",
       "Predicted Salary  181831.96381  \n",
       "True Salary       185000.00000  \n",
       "Difference          3168.03619  \n",
       "\n",
       "[3 rows x 3269 columns]"
      ]
     },
     "execution_count": 132,
     "metadata": {},
     "output_type": "execute_result"
    }
   ],
   "source": [
    "predicted_lr_salary.T"
   ]
  },
  {
   "cell_type": "code",
   "execution_count": 133,
   "metadata": {},
   "outputs": [
    {
     "data": {
      "text/html": [
       "<div>\n",
       "<style>\n",
       "    .dataframe thead tr:only-child th {\n",
       "        text-align: right;\n",
       "    }\n",
       "\n",
       "    .dataframe thead th {\n",
       "        text-align: left;\n",
       "    }\n",
       "\n",
       "    .dataframe tbody tr th {\n",
       "        vertical-align: top;\n",
       "    }\n",
       "</style>\n",
       "<table border=\"1\" class=\"dataframe\">\n",
       "  <thead>\n",
       "    <tr style=\"text-align: right;\">\n",
       "      <th></th>\n",
       "      <th>0</th>\n",
       "      <th>1</th>\n",
       "      <th>2</th>\n",
       "      <th>3</th>\n",
       "      <th>4</th>\n",
       "      <th>5</th>\n",
       "      <th>6</th>\n",
       "      <th>7</th>\n",
       "      <th>8</th>\n",
       "      <th>9</th>\n",
       "      <th>...</th>\n",
       "      <th>3259</th>\n",
       "      <th>3260</th>\n",
       "      <th>3261</th>\n",
       "      <th>3262</th>\n",
       "      <th>3263</th>\n",
       "      <th>3264</th>\n",
       "      <th>3265</th>\n",
       "      <th>3266</th>\n",
       "      <th>3267</th>\n",
       "      <th>3268</th>\n",
       "    </tr>\n",
       "  </thead>\n",
       "  <tbody>\n",
       "    <tr>\n",
       "      <th>Predicted Salary</th>\n",
       "      <td>65000.0</td>\n",
       "      <td>65000.0</td>\n",
       "      <td>65000.0</td>\n",
       "      <td>65000.0</td>\n",
       "      <td>65000.0</td>\n",
       "      <td>65000.0</td>\n",
       "      <td>65000.0</td>\n",
       "      <td>65000.0</td>\n",
       "      <td>65000.0</td>\n",
       "      <td>65000.0</td>\n",
       "      <td>...</td>\n",
       "      <td>185000.0</td>\n",
       "      <td>185000.0</td>\n",
       "      <td>185000.0</td>\n",
       "      <td>185000.0</td>\n",
       "      <td>185000.0</td>\n",
       "      <td>185000.0</td>\n",
       "      <td>185000.0</td>\n",
       "      <td>185000.0</td>\n",
       "      <td>185000.0</td>\n",
       "      <td>185000.0</td>\n",
       "    </tr>\n",
       "    <tr>\n",
       "      <th>True Salary</th>\n",
       "      <td>65000.0</td>\n",
       "      <td>65000.0</td>\n",
       "      <td>65000.0</td>\n",
       "      <td>65000.0</td>\n",
       "      <td>65000.0</td>\n",
       "      <td>65000.0</td>\n",
       "      <td>65000.0</td>\n",
       "      <td>65000.0</td>\n",
       "      <td>65000.0</td>\n",
       "      <td>65000.0</td>\n",
       "      <td>...</td>\n",
       "      <td>185000.0</td>\n",
       "      <td>185000.0</td>\n",
       "      <td>185000.0</td>\n",
       "      <td>185000.0</td>\n",
       "      <td>185000.0</td>\n",
       "      <td>185000.0</td>\n",
       "      <td>185000.0</td>\n",
       "      <td>185000.0</td>\n",
       "      <td>185000.0</td>\n",
       "      <td>185000.0</td>\n",
       "    </tr>\n",
       "    <tr>\n",
       "      <th>Difference</th>\n",
       "      <td>0.0</td>\n",
       "      <td>0.0</td>\n",
       "      <td>0.0</td>\n",
       "      <td>0.0</td>\n",
       "      <td>0.0</td>\n",
       "      <td>0.0</td>\n",
       "      <td>0.0</td>\n",
       "      <td>0.0</td>\n",
       "      <td>0.0</td>\n",
       "      <td>0.0</td>\n",
       "      <td>...</td>\n",
       "      <td>0.0</td>\n",
       "      <td>0.0</td>\n",
       "      <td>0.0</td>\n",
       "      <td>0.0</td>\n",
       "      <td>0.0</td>\n",
       "      <td>0.0</td>\n",
       "      <td>0.0</td>\n",
       "      <td>0.0</td>\n",
       "      <td>0.0</td>\n",
       "      <td>0.0</td>\n",
       "    </tr>\n",
       "  </tbody>\n",
       "</table>\n",
       "<p>3 rows × 3269 columns</p>\n",
       "</div>"
      ],
      "text/plain": [
       "                     0        1        2        3        4        5     \\\n",
       "Predicted Salary  65000.0  65000.0  65000.0  65000.0  65000.0  65000.0   \n",
       "True Salary       65000.0  65000.0  65000.0  65000.0  65000.0  65000.0   \n",
       "Difference            0.0      0.0      0.0      0.0      0.0      0.0   \n",
       "\n",
       "                     6        7        8        9       ...         3259  \\\n",
       "Predicted Salary  65000.0  65000.0  65000.0  65000.0    ...     185000.0   \n",
       "True Salary       65000.0  65000.0  65000.0  65000.0    ...     185000.0   \n",
       "Difference            0.0      0.0      0.0      0.0    ...          0.0   \n",
       "\n",
       "                      3260      3261      3262      3263      3264      3265  \\\n",
       "Predicted Salary  185000.0  185000.0  185000.0  185000.0  185000.0  185000.0   \n",
       "True Salary       185000.0  185000.0  185000.0  185000.0  185000.0  185000.0   \n",
       "Difference             0.0       0.0       0.0       0.0       0.0       0.0   \n",
       "\n",
       "                      3266      3267      3268  \n",
       "Predicted Salary  185000.0  185000.0  185000.0  \n",
       "True Salary       185000.0  185000.0  185000.0  \n",
       "Difference             0.0       0.0       0.0  \n",
       "\n",
       "[3 rows x 3269 columns]"
      ]
     },
     "execution_count": 133,
     "metadata": {},
     "output_type": "execute_result"
    }
   ],
   "source": [
    "predicted_rfr_salary.T"
   ]
  },
  {
   "cell_type": "code",
   "execution_count": 134,
   "metadata": {},
   "outputs": [
    {
     "data": {
      "text/html": [
       "<div>\n",
       "<style>\n",
       "    .dataframe thead tr:only-child th {\n",
       "        text-align: right;\n",
       "    }\n",
       "\n",
       "    .dataframe thead th {\n",
       "        text-align: left;\n",
       "    }\n",
       "\n",
       "    .dataframe tbody tr th {\n",
       "        vertical-align: top;\n",
       "    }\n",
       "</style>\n",
       "<table border=\"1\" class=\"dataframe\">\n",
       "  <thead>\n",
       "    <tr style=\"text-align: right;\">\n",
       "      <th></th>\n",
       "      <th>0</th>\n",
       "      <th>1</th>\n",
       "      <th>2</th>\n",
       "      <th>3</th>\n",
       "      <th>4</th>\n",
       "      <th>5</th>\n",
       "      <th>6</th>\n",
       "      <th>7</th>\n",
       "      <th>8</th>\n",
       "      <th>9</th>\n",
       "      <th>...</th>\n",
       "      <th>3259</th>\n",
       "      <th>3260</th>\n",
       "      <th>3261</th>\n",
       "      <th>3262</th>\n",
       "      <th>3263</th>\n",
       "      <th>3264</th>\n",
       "      <th>3265</th>\n",
       "      <th>3266</th>\n",
       "      <th>3267</th>\n",
       "      <th>3268</th>\n",
       "    </tr>\n",
       "  </thead>\n",
       "  <tbody>\n",
       "    <tr>\n",
       "      <th>Predicted Salary</th>\n",
       "      <td>65000.0</td>\n",
       "      <td>65000.0</td>\n",
       "      <td>65000.0</td>\n",
       "      <td>65000.0</td>\n",
       "      <td>65000.0</td>\n",
       "      <td>65000.0</td>\n",
       "      <td>65000.0</td>\n",
       "      <td>65000.0</td>\n",
       "      <td>65000.0</td>\n",
       "      <td>65000.0</td>\n",
       "      <td>...</td>\n",
       "      <td>185000.0</td>\n",
       "      <td>185000.0</td>\n",
       "      <td>185000.0</td>\n",
       "      <td>185000.0</td>\n",
       "      <td>185000.0</td>\n",
       "      <td>185000.0</td>\n",
       "      <td>185000.0</td>\n",
       "      <td>185000.0</td>\n",
       "      <td>185000.0</td>\n",
       "      <td>185000.0</td>\n",
       "    </tr>\n",
       "    <tr>\n",
       "      <th>True Salary</th>\n",
       "      <td>65000.0</td>\n",
       "      <td>65000.0</td>\n",
       "      <td>65000.0</td>\n",
       "      <td>65000.0</td>\n",
       "      <td>65000.0</td>\n",
       "      <td>65000.0</td>\n",
       "      <td>65000.0</td>\n",
       "      <td>65000.0</td>\n",
       "      <td>65000.0</td>\n",
       "      <td>65000.0</td>\n",
       "      <td>...</td>\n",
       "      <td>185000.0</td>\n",
       "      <td>185000.0</td>\n",
       "      <td>185000.0</td>\n",
       "      <td>185000.0</td>\n",
       "      <td>185000.0</td>\n",
       "      <td>185000.0</td>\n",
       "      <td>185000.0</td>\n",
       "      <td>185000.0</td>\n",
       "      <td>185000.0</td>\n",
       "      <td>185000.0</td>\n",
       "    </tr>\n",
       "    <tr>\n",
       "      <th>Difference</th>\n",
       "      <td>0.0</td>\n",
       "      <td>0.0</td>\n",
       "      <td>0.0</td>\n",
       "      <td>0.0</td>\n",
       "      <td>0.0</td>\n",
       "      <td>0.0</td>\n",
       "      <td>0.0</td>\n",
       "      <td>0.0</td>\n",
       "      <td>0.0</td>\n",
       "      <td>0.0</td>\n",
       "      <td>...</td>\n",
       "      <td>0.0</td>\n",
       "      <td>0.0</td>\n",
       "      <td>0.0</td>\n",
       "      <td>0.0</td>\n",
       "      <td>0.0</td>\n",
       "      <td>0.0</td>\n",
       "      <td>0.0</td>\n",
       "      <td>0.0</td>\n",
       "      <td>0.0</td>\n",
       "      <td>0.0</td>\n",
       "    </tr>\n",
       "  </tbody>\n",
       "</table>\n",
       "<p>3 rows × 3269 columns</p>\n",
       "</div>"
      ],
      "text/plain": [
       "                     0        1        2        3        4        5     \\\n",
       "Predicted Salary  65000.0  65000.0  65000.0  65000.0  65000.0  65000.0   \n",
       "True Salary       65000.0  65000.0  65000.0  65000.0  65000.0  65000.0   \n",
       "Difference            0.0      0.0      0.0      0.0      0.0      0.0   \n",
       "\n",
       "                     6        7        8        9       ...         3259  \\\n",
       "Predicted Salary  65000.0  65000.0  65000.0  65000.0    ...     185000.0   \n",
       "True Salary       65000.0  65000.0  65000.0  65000.0    ...     185000.0   \n",
       "Difference            0.0      0.0      0.0      0.0    ...          0.0   \n",
       "\n",
       "                      3260      3261      3262      3263      3264      3265  \\\n",
       "Predicted Salary  185000.0  185000.0  185000.0  185000.0  185000.0  185000.0   \n",
       "True Salary       185000.0  185000.0  185000.0  185000.0  185000.0  185000.0   \n",
       "Difference             0.0       0.0       0.0       0.0       0.0       0.0   \n",
       "\n",
       "                      3266      3267      3268  \n",
       "Predicted Salary  185000.0  185000.0  185000.0  \n",
       "True Salary       185000.0  185000.0  185000.0  \n",
       "Difference             0.0       0.0       0.0  \n",
       "\n",
       "[3 rows x 3269 columns]"
      ]
     },
     "execution_count": 134,
     "metadata": {},
     "output_type": "execute_result"
    }
   ],
   "source": [
    "predicted_knn_salary.T"
   ]
  },
  {
   "cell_type": "code",
   "execution_count": 140,
   "metadata": {
    "scrolled": false
   },
   "outputs": [
    {
     "data": {
      "text/html": [
       "<iframe id=\"igraph\" scrolling=\"no\" style=\"border:none;\" seamless=\"seamless\" src=\"https://plot.ly/~0Noun/246.embed\" height=\"525px\" width=\"100%\"></iframe>"
      ],
      "text/plain": [
       "<plotly.tools.PlotlyDisplay object>"
      ]
     },
     "execution_count": 140,
     "metadata": {},
     "output_type": "execute_result"
    }
   ],
   "source": [
    "predicted_lr_salary.iplot(kind='spread', title='Linear Regression with Salary as Target', \\\n",
    "                          xTitle=lr_salary_score, yTitle=lr_salary_std, mean=True)"
   ]
  },
  {
   "cell_type": "code",
   "execution_count": 136,
   "metadata": {},
   "outputs": [
    {
     "data": {
      "text/html": [
       "<iframe id=\"igraph\" scrolling=\"no\" style=\"border:none;\" seamless=\"seamless\" src=\"https://plot.ly/~0Noun/258.embed\" height=\"525px\" width=\"100%\"></iframe>"
      ],
      "text/plain": [
       "<plotly.tools.PlotlyDisplay object>"
      ]
     },
     "execution_count": 136,
     "metadata": {},
     "output_type": "execute_result"
    }
   ],
   "source": [
    "predicted_rfr_salary.iplot(kind='spread', title='Random Forest Regression with Salary as Target', \\\n",
    "                           xTitle=rfr_salary_score, yTitle=rfr_salary_std, mean=True)"
   ]
  },
  {
   "cell_type": "code",
   "execution_count": 137,
   "metadata": {},
   "outputs": [
    {
     "data": {
      "text/html": [
       "<iframe id=\"igraph\" scrolling=\"no\" style=\"border:none;\" seamless=\"seamless\" src=\"https://plot.ly/~0Noun/260.embed\" height=\"525px\" width=\"100%\"></iframe>"
      ],
      "text/plain": [
       "<plotly.tools.PlotlyDisplay object>"
      ]
     },
     "execution_count": 137,
     "metadata": {},
     "output_type": "execute_result"
    }
   ],
   "source": [
    "predicted_knn_salary.iplot(kind='spread', title='K-Nearest Neighbors Regression with Salary as Target', \\\n",
    "                           xTitle=knn_salary_score, yTitle=knn_salary_std, mean=True)"
   ]
  },
  {
   "cell_type": "markdown",
   "metadata": {},
   "source": [
    "### <b>In comparison, the Linear Regression looks pretty good!</b> 😸\n",
    "### <b>So, this confirms the viability for using the Indeed API to project data scientist salaries in San Francisco.</b>"
   ]
  }
 ],
 "metadata": {
  "anaconda-cloud": {},
  "kernelspec": {
   "display_name": "Python [default]",
   "language": "python",
   "name": "python2"
  },
  "language_info": {
   "codemirror_mode": {
    "name": "ipython",
    "version": 2
   },
   "file_extension": ".py",
   "mimetype": "text/x-python",
   "name": "python",
   "nbconvert_exporter": "python",
   "pygments_lexer": "ipython2",
   "version": "2.7.13"
  }
 },
 "nbformat": 4,
 "nbformat_minor": 2
}
