{
 "cells": [
  {
   "cell_type": "markdown",
   "metadata": {
    "collapsed": true
   },
   "source": [
    "# Project 4: Web Scraping Job Postings"
   ]
  },
  {
   "cell_type": "markdown",
   "metadata": {},
   "source": [
    "Forecasting salary ranges for data science job postings.\n",
    "# 👨🏻‍💻👩🏻‍💻👨🏼‍💻👩🏼‍💻👨🏽‍💻👩🏽‍💻👨🏾‍💻👩🏾‍💻👨🏿‍💻👩🏿‍💻👨🏻‍💻👩🏻‍💻👨🏼‍💻👩🏼‍💻👨🏽‍💻👩🏽‍💻👨🏾‍💻👩🏾‍💻👨🏿‍💻👩🏿‍💻"
   ]
  },
  {
   "cell_type": "code",
   "execution_count": 1,
   "metadata": {
    "collapsed": true
   },
   "outputs": [],
   "source": [
    "import pprint\n",
    "import requests\n",
    "import json\n",
    "import pandas as pd\n",
    "import urllib2\n",
    "import time\n",
    "import numpy as np\n",
    "from collections import Counter\n",
    "from sklearn.feature_extraction.text import CountVectorizer\n",
    "from sklearn.model_selection import train_test_split, cross_val_score\n",
    "from sklearn.linear_model import LassoCV, RidgeCV, ElasticNetCV, LinearRegression\n",
    "import matplotlib\n",
    "import plotly.plotly as py\n",
    "import cufflinks as cf\n",
    "\n",
    "# Using the Indeed API to collect data\n",
    "from indeed import IndeedClient\n",
    "\n",
    "# Shushing the compiler\n",
    "import warnings\n",
    "warnings.simplefilter(action='ignore', category=FutureWarning)\n",
    "pd.set_option('chained_assignment',None)"
   ]
  },
  {
   "cell_type": "code",
   "execution_count": 2,
   "metadata": {
    "collapsed": true
   },
   "outputs": [],
   "source": [
    "# The API requires passing the client's IP.\n",
    "# So, I'll create a function to collect that.\n",
    "\n",
    "def get_ip():\n",
    "    ext_ip = urllib2.urlopen('http://whatismyip.org').read()\n",
    "    return ext_ip"
   ]
  },
  {
   "cell_type": "code",
   "execution_count": 3,
   "metadata": {
    "collapsed": true
   },
   "outputs": [],
   "source": [
    "# Setting my Indeed Developer API Key as a variable\n",
    "\n",
    "client = IndeedClient(publisher = 1295525004807710)"
   ]
  },
  {
   "cell_type": "code",
   "execution_count": 4,
   "metadata": {
    "collapsed": true
   },
   "outputs": [],
   "source": [
    "# The parameter structure for the API request:\n",
    "\n",
    "params = {\n",
    "        'q': \"data+scientist\",\n",
    "        'l': \"any\",                                                      \n",
    "        'start': 0,                                               \n",
    "        'end': 5000,\n",
    "        'limit': 5000,\n",
    "        'userip': get_ip,\n",
    "        'useragent': \"Mozilla/5.0 (Macintosh; Intel Mac OS X 10_8_2)\",\n",
    "        'sort': 'date',\n",
    "        'fromage': 'any',\n",
    "        'co': 'any'\n",
    "}"
   ]
  },
  {
   "cell_type": "code",
   "execution_count": 5,
   "metadata": {},
   "outputs": [],
   "source": [
    "indeed = pd.DataFrame()\n",
    "search_response = client.search(**params)\n",
    "indeed = indeed.append(search_response['results'], ignore_index=True) "
   ]
  },
  {
   "cell_type": "code",
   "execution_count": 6,
   "metadata": {},
   "outputs": [
    {
     "data": {
      "text/plain": [
       "(25, 19)"
      ]
     },
     "execution_count": 6,
     "metadata": {},
     "output_type": "execute_result"
    }
   ],
   "source": [
    "indeed = pd.DataFrame(search_response['results'])\n",
    "indeed.shape"
   ]
  },
  {
   "cell_type": "markdown",
   "metadata": {
    "collapsed": true
   },
   "source": [
    "### Uh oh! An API limiting condition!! 😩<br>\n",
    "The API will only pass 25 listings at a time.<br>\n",
    "Even though we passed a limit at 5000 and an end at 5000, the API stops at 25.\n",
    "\n",
    "So, we have to create a range with steps of 24:<br>\n",
    "<ol>\n",
    "    <li>Collect the reponse from Indeed</li>\n",
    "    <li>Append the response to the DataFrame</li>\n",
    "    <li>Increment the parameters passed to the Indeed servers so that we can bypass their API restriction of 25 records</li>\n",
    "</ol>\n",
    "# 🎉🎉🎉🎉🎉🎉🎉🎉🎉🎉🎉🎉🎉🎉🎉🎉🎉🎉🎉🎉🎉🎉🎉🎉🎉🎉🎉🎉"
   ]
  },
  {
   "cell_type": "markdown",
   "metadata": {},
   "source": [
    "ALSO! I did some prodding of the parameters and the formatting of the advanced search feature on Indeed's website.<br> Although undocumented, it is possible to pass salary ranges into our search parameters.<br> Indeed advises these numbers are approximations:"
   ]
  },
  {
   "cell_type": "markdown",
   "metadata": {},
   "source": [
    "<i>How much does a Data Scientist in the United States make?<br>\n",
    "\n",
    "The average Data Scientist salary in the United States is approximately $130,164.\n",
    "Salary information comes from 36,404 data points collected directly from employees, users, and past and present job advertisements on Indeed in the past 12 months.\n",
    "Please note that all salary figures are approximations based upon third party submissions to Indeed.</i>"
   ]
  },
  {
   "cell_type": "code",
   "execution_count": 20,
   "metadata": {},
   "outputs": [
    {
     "ename": "IndexError",
     "evalue": "list index out of range",
     "output_type": "error",
     "traceback": [
      "\u001b[0;31m---------------------------------------------------------------------------\u001b[0m",
      "\u001b[0;31mIndexError\u001b[0m                                Traceback (most recent call last)",
      "\u001b[0;32m<ipython-input-20-b54bb4ace98f>\u001b[0m in \u001b[0;36m<module>\u001b[0;34m()\u001b[0m\n\u001b[1;32m     16\u001b[0m              }\n\u001b[1;32m     17\u001b[0m     \u001b[0msearch_response\u001b[0m \u001b[0;34m=\u001b[0m \u001b[0mclient\u001b[0m\u001b[0;34m.\u001b[0m\u001b[0msearch\u001b[0m\u001b[0;34m(\u001b[0m\u001b[0;34m**\u001b[0m\u001b[0mparams\u001b[0m\u001b[0;34m)\u001b[0m\u001b[0;34m\u001b[0m\u001b[0m\n\u001b[0;32m---> 18\u001b[0;31m     \u001b[0mindeed275k\u001b[0m \u001b[0;34m=\u001b[0m \u001b[0mindeed275k\u001b[0m\u001b[0;34m.\u001b[0m\u001b[0mappend\u001b[0m\u001b[0;34m(\u001b[0m\u001b[0msearch_response\u001b[0m\u001b[0;34m[\u001b[0m\u001b[0;34m'results'\u001b[0m\u001b[0;34m]\u001b[0m\u001b[0;34m,\u001b[0m \u001b[0mignore_index\u001b[0m\u001b[0;34m=\u001b[0m\u001b[0mTrue\u001b[0m\u001b[0;34m)\u001b[0m\u001b[0;34m\u001b[0m\u001b[0m\n\u001b[0m\u001b[1;32m     19\u001b[0m \u001b[0;34m\u001b[0m\u001b[0m\n\u001b[1;32m     20\u001b[0m \u001b[0mindeed275k\u001b[0m\u001b[0;34m.\u001b[0m\u001b[0mshape\u001b[0m\u001b[0;34m\u001b[0m\u001b[0m\n",
      "\u001b[0;32m/Users/noun/anaconda/lib/python2.7/site-packages/pandas/core/frame.pyc\u001b[0m in \u001b[0;36mappend\u001b[0;34m(self, other, ignore_index, verify_integrity)\u001b[0m\n\u001b[1;32m   4632\u001b[0m             \u001b[0;32mif\u001b[0m \u001b[0;32mnot\u001b[0m \u001b[0mself\u001b[0m\u001b[0;34m.\u001b[0m\u001b[0mcolumns\u001b[0m\u001b[0;34m.\u001b[0m\u001b[0mequals\u001b[0m\u001b[0;34m(\u001b[0m\u001b[0mcombined_columns\u001b[0m\u001b[0;34m)\u001b[0m\u001b[0;34m:\u001b[0m\u001b[0;34m\u001b[0m\u001b[0m\n\u001b[1;32m   4633\u001b[0m                 \u001b[0mself\u001b[0m \u001b[0;34m=\u001b[0m \u001b[0mself\u001b[0m\u001b[0;34m.\u001b[0m\u001b[0mreindex\u001b[0m\u001b[0;34m(\u001b[0m\u001b[0mcolumns\u001b[0m\u001b[0;34m=\u001b[0m\u001b[0mcombined_columns\u001b[0m\u001b[0;34m)\u001b[0m\u001b[0;34m\u001b[0m\u001b[0m\n\u001b[0;32m-> 4634\u001b[0;31m         \u001b[0;32melif\u001b[0m \u001b[0misinstance\u001b[0m\u001b[0;34m(\u001b[0m\u001b[0mother\u001b[0m\u001b[0;34m,\u001b[0m \u001b[0mlist\u001b[0m\u001b[0;34m)\u001b[0m \u001b[0;32mand\u001b[0m \u001b[0;32mnot\u001b[0m \u001b[0misinstance\u001b[0m\u001b[0;34m(\u001b[0m\u001b[0mother\u001b[0m\u001b[0;34m[\u001b[0m\u001b[0;36m0\u001b[0m\u001b[0;34m]\u001b[0m\u001b[0;34m,\u001b[0m \u001b[0mDataFrame\u001b[0m\u001b[0;34m)\u001b[0m\u001b[0;34m:\u001b[0m\u001b[0;34m\u001b[0m\u001b[0m\n\u001b[0m\u001b[1;32m   4635\u001b[0m             \u001b[0mother\u001b[0m \u001b[0;34m=\u001b[0m \u001b[0mDataFrame\u001b[0m\u001b[0;34m(\u001b[0m\u001b[0mother\u001b[0m\u001b[0;34m)\u001b[0m\u001b[0;34m\u001b[0m\u001b[0m\n\u001b[1;32m   4636\u001b[0m             \u001b[0;32mif\u001b[0m \u001b[0;34m(\u001b[0m\u001b[0mself\u001b[0m\u001b[0;34m.\u001b[0m\u001b[0mcolumns\u001b[0m\u001b[0;34m.\u001b[0m\u001b[0mget_indexer\u001b[0m\u001b[0;34m(\u001b[0m\u001b[0mother\u001b[0m\u001b[0;34m.\u001b[0m\u001b[0mcolumns\u001b[0m\u001b[0;34m)\u001b[0m \u001b[0;34m>=\u001b[0m \u001b[0;36m0\u001b[0m\u001b[0;34m)\u001b[0m\u001b[0;34m.\u001b[0m\u001b[0mall\u001b[0m\u001b[0;34m(\u001b[0m\u001b[0;34m)\u001b[0m\u001b[0;34m:\u001b[0m\u001b[0;34m\u001b[0m\u001b[0m\n",
      "\u001b[0;31mIndexError\u001b[0m: list index out of range"
     ]
    }
   ],
   "source": [
    "indeed275k = pd.DataFrame()\n",
    "\n",
    "for i in np.arange(0, 2000, 24):                                                                                                                                                                                            \n",
    "    params = {                                                                \n",
    "                'q': \"data+scientist\",\n",
    "                'salary': '$265k-275k',\n",
    "                'l': \"san francisco\",                                                      \n",
    "                'start': 0 + i,                                               \n",
    "                'end': 24 + i,\n",
    "                'limit': 25,\n",
    "                'userip': get_ip,\n",
    "                'useragent': \"Mozilla/5.0 (Macintosh; Intel Mac OS X 10_8_2)\",\n",
    "                'sort': 'date',\n",
    "                'fromage': 'any',\n",
    "                'co': 'any'\n",
    "             }\n",
    "    search_response = client.search(**params)\n",
    "    indeed275k = indeed275k.append(search_response['results'], ignore_index=True)   \n",
    "                                                                                  \n",
    "indeed275k.shape"
   ]
  },
  {
   "cell_type": "markdown",
   "metadata": {},
   "source": [
    "#### Looks like we hit a wall for salaries above $265,000."
   ]
  },
  {
   "cell_type": "markdown",
   "metadata": {},
   "source": [
    "Let's run this API call a few times and create multiple DataFrames for the different salary ranges."
   ]
  },
  {
   "cell_type": "code",
   "execution_count": 21,
   "metadata": {},
   "outputs": [
    {
     "name": "stdout",
     "output_type": "stream",
     "text": [
      "Indeed $0k - $65k:  (644, 19)\n",
      "Indeed $65k - $85k:  (1370, 19)\n",
      "Indeed $85k - $105k:  (728, 19)\n",
      "Indeed $105k - $125k:  (1768, 19)\n",
      "Indeed $125k - $145k:  (826, 19)\n",
      "Indeed $145k - $165k:  (1097, 19)\n",
      "Indeed $165k - $185k:  (720, 19)\n",
      "Indeed $185k - $205k:  (167, 19)\n",
      "Indeed $205k - $225k:  (84, 19)\n",
      "Indeed $225k - $245k:  (84, 19)\n",
      "Indeed $245k - $265k:  (84, 19)\n"
     ]
    }
   ],
   "source": [
    "# DataFrame Shapes\n",
    "print 'Indeed $0k - $65k: ', indeed65k.shape\n",
    "print 'Indeed $65k - $85k: ', indeed85k.shape\n",
    "print 'Indeed $85k - $105k: ', indeed105k.shape\n",
    "print 'Indeed $105k - $125k: ', indeed125k.shape\n",
    "print 'Indeed $125k - $145k: ', indeed145k.shape\n",
    "print 'Indeed $145k - $165k: ', indeed165k.shape\n",
    "print 'Indeed $165k - $185k: ', indeed185k.shape\n",
    "print 'Indeed $185k - $205k: ', indeed205k.shape\n",
    "print 'Indeed $205k - $225k: ', indeed225k.shape\n",
    "print 'Indeed $225k - $245k: ', indeed245k.shape\n",
    "print 'Indeed $245k - $265k: ', indeed265k.shape"
   ]
  },
  {
   "cell_type": "markdown",
   "metadata": {},
   "source": [
    "## Let's take a look at some of these DataFrames. 🔍"
   ]
  },
  {
   "cell_type": "code",
   "execution_count": 22,
   "metadata": {},
   "outputs": [
    {
     "data": {
      "text/plain": [
       "Workbridge Associates       393\n",
       "Harnham                     163\n",
       "Elevate Recruiting Group     83\n",
       "Jobspring Partners           81\n",
       "Name: company, dtype: int64"
      ]
     },
     "execution_count": 22,
     "metadata": {},
     "output_type": "execute_result"
    }
   ],
   "source": [
    "indeed185k.company.value_counts()"
   ]
  },
  {
   "cell_type": "code",
   "execution_count": 23,
   "metadata": {},
   "outputs": [
    {
     "data": {
      "text/plain": [
       "Workbridge Associates    167\n",
       "Name: company, dtype: int64"
      ]
     },
     "execution_count": 23,
     "metadata": {},
     "output_type": "execute_result"
    }
   ],
   "source": [
    "indeed205k.company.value_counts()"
   ]
  },
  {
   "cell_type": "code",
   "execution_count": 24,
   "metadata": {},
   "outputs": [
    {
     "data": {
      "text/plain": [
       "Harnham    84\n",
       "Name: company, dtype: int64"
      ]
     },
     "execution_count": 24,
     "metadata": {},
     "output_type": "execute_result"
    }
   ],
   "source": [
    "indeed225k.company.value_counts()"
   ]
  },
  {
   "cell_type": "code",
   "execution_count": 25,
   "metadata": {},
   "outputs": [
    {
     "data": {
      "text/plain": [
       "Averity    84\n",
       "Name: company, dtype: int64"
      ]
     },
     "execution_count": 25,
     "metadata": {},
     "output_type": "execute_result"
    }
   ],
   "source": [
    "indeed245k.company.value_counts()"
   ]
  },
  {
   "cell_type": "code",
   "execution_count": 26,
   "metadata": {},
   "outputs": [
    {
     "data": {
      "text/plain": [
       "Workbridge Associates    84\n",
       "Name: company, dtype: int64"
      ]
     },
     "execution_count": 26,
     "metadata": {},
     "output_type": "execute_result"
    }
   ],
   "source": [
    "indeed265k.company.value_counts()"
   ]
  },
  {
   "cell_type": "markdown",
   "metadata": {},
   "source": [
    "### There doesn't seem to be much value in any of the $205k+ DataFrames."
   ]
  },
  {
   "cell_type": "markdown",
   "metadata": {},
   "source": [
    "#### Having these salary ranges allows me to create salary targets within each DataFrame.\n",
    "# 💲🤑💲🤑💲🤑💲🤑💲🤑💲🤑💲🤑💲🤑💲🤑💲🤑💲🤑💲🤑💲🤑💲"
   ]
  },
  {
   "cell_type": "code",
   "execution_count": 27,
   "metadata": {
    "collapsed": true
   },
   "outputs": [],
   "source": [
    "indeed65k['salary'] = 65000\n",
    "indeed85k['salary'] = 85000\n",
    "indeed105k['salary'] = 105000\n",
    "indeed125k['salary'] = 125000\n",
    "indeed145k['salary'] = 145000\n",
    "indeed165k['salary'] = 165000\n",
    "indeed185k['salary'] = 185000"
   ]
  },
  {
   "cell_type": "markdown",
   "metadata": {},
   "source": [
    "Let's put these all together into one DataFrame for cleaning and analysis."
   ]
  },
  {
   "cell_type": "code",
   "execution_count": 28,
   "metadata": {
    "collapsed": true
   },
   "outputs": [],
   "source": [
    "yes_indeedy = [indeed85k, indeed105k, indeed125k, indeed145k, indeed165k, \\\n",
    "               indeed185k]\n",
    "\n",
    "indeed = indeed65k.append(yes_indeedy)"
   ]
  },
  {
   "cell_type": "code",
   "execution_count": 29,
   "metadata": {},
   "outputs": [
    {
     "data": {
      "text/plain": [
       "(7153, 20)"
      ]
     },
     "execution_count": 29,
     "metadata": {},
     "output_type": "execute_result"
    }
   ],
   "source": [
    "indeed.shape"
   ]
  },
  {
   "cell_type": "markdown",
   "metadata": {},
   "source": [
    "Let's check for duplicate job listings and take those out."
   ]
  },
  {
   "cell_type": "code",
   "execution_count": 30,
   "metadata": {
    "scrolled": false
   },
   "outputs": [
    {
     "data": {
      "text/plain": [
       "city                     124\n",
       "company                  124\n",
       "country                  124\n",
       "date                     124\n",
       "expired                  124\n",
       "formattedLocation        124\n",
       "formattedLocationFull    124\n",
       "formattedRelativeTime    124\n",
       "indeedApply              124\n",
       "jobkey                   124\n",
       "jobtitle                 124\n",
       "language                 124\n",
       "onmousedown              124\n",
       "snippet                  124\n",
       "source                   124\n",
       "sponsored                124\n",
       "state                    124\n",
       "stations                 124\n",
       "url                      124\n",
       "salary                   124\n",
       "dtype: int64"
      ]
     },
     "execution_count": 30,
     "metadata": {},
     "output_type": "execute_result"
    }
   ],
   "source": [
    "indeed[indeed.duplicated('jobkey', keep=False) == False].count()"
   ]
  },
  {
   "cell_type": "markdown",
   "metadata": {},
   "source": [
    "Rut-roh! Looks like there are several duplicates!<br>\n",
    "Let's nuke 'em!\n",
    "# 💥💥💥💥💥💥💥💥💥💥💥💥💥💥💥💥💥💥💥💥💥💥💥💥💥💥💥"
   ]
  },
  {
   "cell_type": "code",
   "execution_count": 31,
   "metadata": {
    "collapsed": true
   },
   "outputs": [],
   "source": [
    "indeed = indeed[indeed.duplicated('jobkey', keep=False) == True]\n",
    "indeed.reset_index(drop=True, inplace=True)"
   ]
  },
  {
   "cell_type": "markdown",
   "metadata": {},
   "source": [
    "I'm turning this DataFrame into a .CSV file to make a checkpoint of my work."
   ]
  },
  {
   "cell_type": "code",
   "execution_count": 32,
   "metadata": {
    "collapsed": true
   },
   "outputs": [],
   "source": [
    "indeed.to_csv('indeed_collection.csv', sep=',', encoding='utf-8')"
   ]
  },
  {
   "cell_type": "code",
   "execution_count": 33,
   "metadata": {},
   "outputs": [
    {
     "data": {
      "text/plain": [
       "(7029, 20)"
      ]
     },
     "execution_count": 33,
     "metadata": {},
     "output_type": "execute_result"
    }
   ],
   "source": [
    "indeed.shape"
   ]
  },
  {
   "cell_type": "markdown",
   "metadata": {},
   "source": [
    "Around 7000 rows isn't very meaty, and my intial impulse is to widen the location net.<br> We have to consider that the Bay Area likely pays at a disproportionate rate compared to other regions.<br> So, for the time being, we'll work from here."
   ]
  },
  {
   "cell_type": "markdown",
   "metadata": {},
   "source": [
    "How tidy is the rest of the DataFrame?"
   ]
  },
  {
   "cell_type": "code",
   "execution_count": 34,
   "metadata": {},
   "outputs": [
    {
     "data": {
      "text/plain": [
       "city                     object\n",
       "company                  object\n",
       "country                  object\n",
       "date                     object\n",
       "expired                    bool\n",
       "formattedLocation        object\n",
       "formattedLocationFull    object\n",
       "formattedRelativeTime    object\n",
       "indeedApply                bool\n",
       "jobkey                   object\n",
       "jobtitle                 object\n",
       "language                 object\n",
       "onmousedown              object\n",
       "snippet                  object\n",
       "source                   object\n",
       "sponsored                  bool\n",
       "state                    object\n",
       "stations                 object\n",
       "url                      object\n",
       "salary                    int64\n",
       "dtype: object"
      ]
     },
     "execution_count": 34,
     "metadata": {},
     "output_type": "execute_result"
    }
   ],
   "source": [
    "indeed.dtypes"
   ]
  },
  {
   "cell_type": "code",
   "execution_count": 35,
   "metadata": {},
   "outputs": [
    {
     "data": {
      "text/html": [
       "<div>\n",
       "<style>\n",
       "    .dataframe thead tr:only-child th {\n",
       "        text-align: right;\n",
       "    }\n",
       "\n",
       "    .dataframe thead th {\n",
       "        text-align: left;\n",
       "    }\n",
       "\n",
       "    .dataframe tbody tr th {\n",
       "        vertical-align: top;\n",
       "    }\n",
       "</style>\n",
       "<table border=\"1\" class=\"dataframe\">\n",
       "  <thead>\n",
       "    <tr style=\"text-align: right;\">\n",
       "      <th></th>\n",
       "      <th>city</th>\n",
       "      <th>company</th>\n",
       "      <th>country</th>\n",
       "      <th>date</th>\n",
       "      <th>expired</th>\n",
       "      <th>formattedLocation</th>\n",
       "      <th>formattedLocationFull</th>\n",
       "      <th>formattedRelativeTime</th>\n",
       "      <th>indeedApply</th>\n",
       "      <th>jobkey</th>\n",
       "      <th>jobtitle</th>\n",
       "      <th>language</th>\n",
       "      <th>onmousedown</th>\n",
       "      <th>snippet</th>\n",
       "      <th>source</th>\n",
       "      <th>sponsored</th>\n",
       "      <th>state</th>\n",
       "      <th>stations</th>\n",
       "      <th>url</th>\n",
       "      <th>salary</th>\n",
       "    </tr>\n",
       "  </thead>\n",
       "  <tbody>\n",
       "    <tr>\n",
       "      <th>0</th>\n",
       "      <td>San Francisco</td>\n",
       "      <td>IBM</td>\n",
       "      <td>US</td>\n",
       "      <td>Mon, 15 May 2017 21:28:22 GMT</td>\n",
       "      <td>False</td>\n",
       "      <td>San Francisco, CA</td>\n",
       "      <td>San Francisco, CA</td>\n",
       "      <td>3 days ago</td>\n",
       "      <td>False</td>\n",
       "      <td>c33fae3f8ce6ba8c</td>\n",
       "      <td>Data Science Community Manager</td>\n",
       "      <td>en</td>\n",
       "      <td>indeed_clk(this,'3870');</td>\n",
       "      <td>&lt;b&gt;Data&lt;/b&gt; &lt;b&gt;Scientist&lt;/b&gt; Community Manager...</td>\n",
       "      <td>IBM</td>\n",
       "      <td>False</td>\n",
       "      <td>CA</td>\n",
       "      <td></td>\n",
       "      <td>http://www.indeed.com/viewjob?jk=c33fae3f8ce6b...</td>\n",
       "      <td>65000</td>\n",
       "    </tr>\n",
       "  </tbody>\n",
       "</table>\n",
       "</div>"
      ],
      "text/plain": [
       "            city company country                           date  expired  \\\n",
       "0  San Francisco     IBM      US  Mon, 15 May 2017 21:28:22 GMT    False   \n",
       "\n",
       "   formattedLocation formattedLocationFull formattedRelativeTime  indeedApply  \\\n",
       "0  San Francisco, CA     San Francisco, CA            3 days ago        False   \n",
       "\n",
       "             jobkey                        jobtitle language  \\\n",
       "0  c33fae3f8ce6ba8c  Data Science Community Manager       en   \n",
       "\n",
       "                onmousedown  \\\n",
       "0  indeed_clk(this,'3870');   \n",
       "\n",
       "                                             snippet source  sponsored state  \\\n",
       "0  <b>Data</b> <b>Scientist</b> Community Manager...    IBM      False    CA   \n",
       "\n",
       "  stations                                                url  salary  \n",
       "0           http://www.indeed.com/viewjob?jk=c33fae3f8ce6b...   65000  "
      ]
     },
     "execution_count": 35,
     "metadata": {},
     "output_type": "execute_result"
    }
   ],
   "source": [
    "indeed.head(1)"
   ]
  },
  {
   "cell_type": "markdown",
   "metadata": {},
   "source": [
    "#### Looks like we have a few wonky columns to drop.\n",
    "We will drop the <i>Country</i>, <i>State</i>, <i>Stations</i>, <i>Sponsored</i>, <i>Language</i>, and <i>Expired</i> columns, because they are uniform.<br>\n",
    "We also don't have a need for the individual job listing <i>URL</i>s or the <i>On Mouse Down</i> actions column.<br> The <i>Company</i> and <i>Source</i> features have matching data, so we only need one.<br>The <i>Formatted Location</i> and <i>Formatted Location Full</i> columns also tell us little, so they can go.<br>Also, we no longer need the <i>JobKey</i> feature, because we have so far used it to remove any duplicates.\n",
    "<br><br> There may be salary differences within the Bay Area, but we don't have a need for this combined detail considering that there is a <i>City</i> column provided."
   ]
  },
  {
   "cell_type": "code",
   "execution_count": 36,
   "metadata": {
    "collapsed": true
   },
   "outputs": [],
   "source": [
    "indeed.drop(['city', 'country', 'state', 'stations', 'sponsored', 'language', 'expired', \\\n",
    "             'formattedLocation', 'source', 'formattedLocationFull', 'url', 'onmousedown', \\\n",
    "             'jobkey'],\n",
    "             axis=1, inplace=True)\n",
    "\n",
    "indeed.reset_index(drop=True, inplace=True)"
   ]
  },
  {
   "cell_type": "markdown",
   "metadata": {},
   "source": [
    "Let's convert the date column to DateTime."
   ]
  },
  {
   "cell_type": "code",
   "execution_count": 37,
   "metadata": {
    "collapsed": true
   },
   "outputs": [],
   "source": [
    "indeed['date'] = pd.to_datetime(indeed['date'], infer_datetime_format=True)"
   ]
  },
  {
   "cell_type": "markdown",
   "metadata": {},
   "source": [
    "Let's see if we can do something with the <i>Formatted Relative Time</i> column."
   ]
  },
  {
   "cell_type": "code",
   "execution_count": 38,
   "metadata": {},
   "outputs": [
    {
     "data": {
      "text/plain": [
       "30+ days ago    5672\n",
       "2 days ago       175\n",
       "20 days ago      161\n",
       "21 days ago      159\n",
       "7 days ago        98\n",
       "15 days ago       95\n",
       "8 days ago        93\n",
       "6 days ago        90\n",
       "3 days ago        84\n",
       "9 days ago        83\n",
       "17 days ago       80\n",
       "22 days ago       79\n",
       "28 days ago       52\n",
       "26 days ago       42\n",
       "23 days ago       21\n",
       "16 days ago       15\n",
       "12 days ago       13\n",
       "5 days ago        11\n",
       "1 day ago          2\n",
       "29 days ago        2\n",
       "19 days ago        2\n",
       "Name: formattedRelativeTime, dtype: int64"
      ]
     },
     "execution_count": 38,
     "metadata": {},
     "output_type": "execute_result"
    }
   ],
   "source": [
    "indeed.formattedRelativeTime.value_counts()"
   ]
  },
  {
   "cell_type": "code",
   "execution_count": 39,
   "metadata": {},
   "outputs": [
    {
     "data": {
      "text/plain": [
       "company                          object\n",
       "date                     datetime64[ns]\n",
       "formattedRelativeTime            object\n",
       "indeedApply                        bool\n",
       "jobtitle                         object\n",
       "snippet                          object\n",
       "salary                            int64\n",
       "dtype: object"
      ]
     },
     "execution_count": 39,
     "metadata": {},
     "output_type": "execute_result"
    }
   ],
   "source": [
    "indeed.dtypes"
   ]
  },
  {
   "cell_type": "markdown",
   "metadata": {},
   "source": [
    "### Woof. That's no fun. 🤢\n",
    "I'll need to convert the 'hours ago' listings to 1 day, and then I'll have to extract the integers from the 'day ago' strings.<br> Then, I'll drop the <i>Formatted Relative Time</i> column."
   ]
  },
  {
   "cell_type": "code",
   "execution_count": 40,
   "metadata": {
    "collapsed": true,
    "scrolled": true
   },
   "outputs": [],
   "source": [
    "indeed['daysAgo'] = indeed['formattedRelativeTime'].str.extract('(\\d+)').astype(int)\n",
    "indeed['daysAgo'][indeed['formattedRelativeTime'].str.contains('hours')] = 1\n",
    "indeed.drop('formattedRelativeTime', axis=1, inplace=True)"
   ]
  },
  {
   "cell_type": "code",
   "execution_count": 41,
   "metadata": {},
   "outputs": [
    {
     "data": {
      "text/html": [
       "<div>\n",
       "<style>\n",
       "    .dataframe thead tr:only-child th {\n",
       "        text-align: right;\n",
       "    }\n",
       "\n",
       "    .dataframe thead th {\n",
       "        text-align: left;\n",
       "    }\n",
       "\n",
       "    .dataframe tbody tr th {\n",
       "        vertical-align: top;\n",
       "    }\n",
       "</style>\n",
       "<table border=\"1\" class=\"dataframe\">\n",
       "  <thead>\n",
       "    <tr style=\"text-align: right;\">\n",
       "      <th></th>\n",
       "      <th>company</th>\n",
       "      <th>date</th>\n",
       "      <th>indeedApply</th>\n",
       "      <th>jobtitle</th>\n",
       "      <th>snippet</th>\n",
       "      <th>salary</th>\n",
       "      <th>daysAgo</th>\n",
       "    </tr>\n",
       "  </thead>\n",
       "  <tbody>\n",
       "    <tr>\n",
       "      <th>0</th>\n",
       "      <td>IBM</td>\n",
       "      <td>2017-05-15 21:28:22</td>\n",
       "      <td>False</td>\n",
       "      <td>Data Science Community Manager</td>\n",
       "      <td>&lt;b&gt;Data&lt;/b&gt; &lt;b&gt;Scientist&lt;/b&gt; Community Manager...</td>\n",
       "      <td>65000</td>\n",
       "      <td>3</td>\n",
       "    </tr>\n",
       "    <tr>\n",
       "      <th>1</th>\n",
       "      <td>LiveRamp</td>\n",
       "      <td>2017-04-27 18:03:49</td>\n",
       "      <td>True</td>\n",
       "      <td>Senior Technical Recruiter</td>\n",
       "      <td>Successful track record and high level of expe...</td>\n",
       "      <td>65000</td>\n",
       "      <td>21</td>\n",
       "    </tr>\n",
       "    <tr>\n",
       "      <th>2</th>\n",
       "      <td>Upstart</td>\n",
       "      <td>2017-03-21 05:52:04</td>\n",
       "      <td>False</td>\n",
       "      <td>Data Scientist (Internship)</td>\n",
       "      <td>We're looking for someone to join our &lt;b&gt;data&lt;...</td>\n",
       "      <td>65000</td>\n",
       "      <td>30</td>\n",
       "    </tr>\n",
       "  </tbody>\n",
       "</table>\n",
       "</div>"
      ],
      "text/plain": [
       "    company                date  indeedApply                        jobtitle  \\\n",
       "0       IBM 2017-05-15 21:28:22        False  Data Science Community Manager   \n",
       "1  LiveRamp 2017-04-27 18:03:49         True      Senior Technical Recruiter   \n",
       "2   Upstart 2017-03-21 05:52:04        False     Data Scientist (Internship)   \n",
       "\n",
       "                                             snippet  salary  daysAgo  \n",
       "0  <b>Data</b> <b>Scientist</b> Community Manager...   65000        3  \n",
       "1  Successful track record and high level of expe...   65000       21  \n",
       "2  We're looking for someone to join our <b>data<...   65000       30  "
      ]
     },
     "execution_count": 41,
     "metadata": {},
     "output_type": "execute_result"
    }
   ],
   "source": [
    "indeed.head(3)"
   ]
  },
  {
   "cell_type": "markdown",
   "metadata": {},
   "source": [
    "### Are they really all data scientist jobs?"
   ]
  },
  {
   "cell_type": "code",
   "execution_count": 42,
   "metadata": {
    "scrolled": true
   },
   "outputs": [
    {
     "data": {
      "text/plain": [
       "array([u'Data Science Community Manager', u'Senior Technical Recruiter',\n",
       "       u'Data Scientist (Internship)',\n",
       "       u'Data Scientist Intern - Summer 2017', u'Data Scientist',\n",
       "       u'Market Research Analyst - Analyst Development Program',\n",
       "       u'Client Support Specialist', u'Analytic Consultant 1',\n",
       "       u'SAFETY AND INSURANCE DATA SCIENTIST',\n",
       "       u'Statistician/Predictive Modeler/Data Scientist',\n",
       "       u'Lead Data Science Instructor', u'BioMedical Data Scientist',\n",
       "       u'Database Analsyt', u'Statistically Significant Data Scientist',\n",
       "       u'Data Scientist - Economics & Legal', u'Data Scientist, CDHI',\n",
       "       u'Connect - Director, Advertising, Media & Technology Research',\n",
       "       u'Data Scientist - Yammer',\n",
       "       u'Data Scientist Internship (Summer 2017)',\n",
       "       u'Firmware Data Scientist', u'Data Scientist - Uber for Business',\n",
       "       u'Data Scientist - Power Engineering Analytics',\n",
       "       u'Clinical Data Scientist (Manager)', u'Data Scientist II',\n",
       "       u'Sr. Data Scientist (Operations Research Scientist)',\n",
       "       u'Senior Data Scientist', u'DATA SCIENTIST',\n",
       "       u'Data Scientist, ATG Finance', u'Sr. Data Scientist',\n",
       "       u'Data Scientist, Product Operations Advanced Analytics',\n",
       "       u'gU Faculty, Principal Data Scientist',\n",
       "       u'Data Scientist, Natural Language Processing',\n",
       "       u'Quantitative Developer / Data Scientist',\n",
       "       u'CRM Data Scientist Intern (W Shen)', u'Lead Data Scientist',\n",
       "       u'Lead Instructor, Principal Data Scientist', u'Data Analyst',\n",
       "       u'Business / Sales Development Representative',\n",
       "       u'Policy Data Scientist',\n",
       "       u'Hiring! Data Scientist in San francisco, CA #datascientist #python #machinelearning #apply now:',\n",
       "       u'Hiring! Data Scientist in SF Bay Area #datascientist #machinelearning #python #applynow:',\n",
       "       u'Connect - Senior Research Analyst',\n",
       "       u'Solutions Data Scientist - Fast Growth Tech',\n",
       "       u'Data Scientist - Mgr', u'Senior Data Engineer',\n",
       "       u'Staff Data Scientist',\n",
       "       u'Python/R Engineer (Data Science) Contract', u'Data scientist',\n",
       "       u'Machine Learning Engineer - Ads Prediction',\n",
       "       u'Senior/Principal Data Scientist',\n",
       "       u'Data Scientist (Python/R) Contract',\n",
       "       u'Regional Sales Director - SF/Bay', u'Associate Data Scientist',\n",
       "       u'Principal Data Scientist', u'Computational Biologist',\n",
       "       u'Mass Spectrometry Data Scientist', u'Bioinformatics Scientist',\n",
       "       u'Growth Data Scientist', u'Data Scientist (All Levels)',\n",
       "       u'Hiring!Data Scientist in San Francisco, CA #datasciencejobs #applynow:',\n",
       "       u'\\u200bData Engineer',\n",
       "       u'UX Content Designer, Small Business Design',\n",
       "       u'Data Scientist - Community Operations',\n",
       "       u'Data Scientist, Senior Associate',\n",
       "       u'Software Engineer - Relevance',\n",
       "       u'Senior Manager- Data Science (Digital)',\n",
       "       u'Senior Data Scientist- Mobile Solutions',\n",
       "       u'Manager, Machine Learning Modeler / Data Scientist',\n",
       "       u'Data Scientist: Mapping Technologies',\n",
       "       u'Machine Learning Data Scientist \\u2013 Algorithm Development',\n",
       "       u'Principal Engineer', u'Data Scientist, Analytics',\n",
       "       u'Data Scientist, Platform Analytics',\n",
       "       u'Data Scientist, Predictive Analytics, Medical Diag, Recent Grad',\n",
       "       u'Sr Data Scientist',\n",
       "       u'All Levels Data Scientist & Data Engineer Opportunity',\n",
       "       u'Senior Data Scientist, Search and Local',\n",
       "       u'Predictive Analytics Manager', u'Risk Data Scientist',\n",
       "       u'Data Scientist- Digital', u'Data Scientist - Mobile Startup',\n",
       "       u'Senior Data Scientist - Virtual and Augmented Reality',\n",
       "       u'Senior Data Scientist - AdTech', u'Director of Data Science',\n",
       "       u'Lead Data Scientist, Card Machine Learning',\n",
       "       u'Software Engineer - Structured Streaming',\n",
       "       u'Senior Data Scientist, NLP', u'Data Scientist (Machine Learning)',\n",
       "       u'Data Scientist (Natural Language Processing)',\n",
       "       u'Senior Data Scientist (Personalization)',\n",
       "       u'Data Scientist, Product',\n",
       "       u'Senior Data Scientist: Modeling/Forecasting',\n",
       "       u'Senior Data Scientist - Relevance Platform',\n",
       "       u'Data Scientist - Senior Consultant',\n",
       "       u'Senior Product Manager - Data Products',\n",
       "       u'DATA SCIENTIST-OPTIMIZATION/AI',\n",
       "       u'Data Scientist Manager, eCommerce', u'Director, Data Science',\n",
       "       u'Chief Data Scientist',\n",
       "       u'Vice President of Data Science & Machine Learning',\n",
       "       u'Senior Data Scientist - Security Experience is Huge',\n",
       "       u'Principal Data Scientist (Personalization)',\n",
       "       u'Data Scientist (Contract)', u'Mid-Level NLP Data Scientist',\n",
       "       u'Data Scientist (Python)', u'Senior Data Scientist (Python)',\n",
       "       u'Senior Research Engineer (Machine Learning)'], dtype=object)"
      ]
     },
     "execution_count": 42,
     "metadata": {},
     "output_type": "execute_result"
    }
   ],
   "source": [
    "indeed.jobtitle.unique()"
   ]
  },
  {
   "cell_type": "markdown",
   "metadata": {},
   "source": [
    "#### We don't need no stinkin' Technical Recruiters or UX Content Designers muddying up our stats!\n",
    "<i>(No offense to Technical Recruiters or UX Content Designers.)</i> 😅"
   ]
  },
  {
   "cell_type": "code",
   "execution_count": 43,
   "metadata": {
    "collapsed": true
   },
   "outputs": [],
   "source": [
    "ignore_these = ['UX', 'Recruiter', 'Sales', 'Bioinformatics', 'Connect', 'Biologist', \\\n",
    "                'Client']\n",
    "\n",
    "indeed = indeed[~indeed['jobtitle'].str.contains('|'.join(ignore_these))]\n",
    "\n",
    "indeed.reset_index(drop=True, inplace=True)"
   ]
  },
  {
   "cell_type": "markdown",
   "metadata": {},
   "source": [
    "## Let's clean up and cosolidate these job types. 🛀🏼"
   ]
  },
  {
   "cell_type": "code",
   "execution_count": 44,
   "metadata": {
    "collapsed": true
   },
   "outputs": [],
   "source": [
    "indeed.jobtitle = indeed.jobtitle.str.lower()\n",
    "indeed.jobtitle = indeed.jobtitle.map(lambda x: 'manager' if 'mgr' in x else x)\n",
    "indeed.jobtitle = indeed.jobtitle.map(lambda x: 'senior' if 'sr' in x else x)\n",
    "indeed.jobtitle = indeed.jobtitle.map(lambda x: 'senior' if 'senior' in x else x)\n",
    "indeed.jobtitle = indeed.jobtitle.map(lambda x: 'head' if 'head' in x else x)\n",
    "indeed.jobtitle = indeed.jobtitle.map(lambda x: 'manager' if 'manager' in x else x)\n",
    "indeed.jobtitle = indeed.jobtitle.map(lambda x: 'senior' if 'principle' in x else x)\n",
    "indeed.jobtitle = indeed.jobtitle.map(lambda x: 'senior' if 'principal' in x else x)\n",
    "indeed.jobtitle = indeed.jobtitle.map(lambda x: 'senior' if 'ii' in x else x)\n",
    "indeed.jobtitle = indeed.jobtitle.map(lambda x: 'engineer' if 'engineer' in x else x)\n",
    "indeed.jobtitle = indeed.jobtitle.map(lambda x: 'senior' if 'lead' in x else x)\n",
    "indeed.jobtitle = indeed.jobtitle.map(lambda x: 'nlp' if 'nlp' in x else x)\n",
    "indeed.jobtitle = indeed.jobtitle.map(lambda x: 'intern' if 'internship' in x else x)\n",
    "indeed.jobtitle = indeed.jobtitle.map(lambda x: 'intern' if 'intern' in x else x)\n",
    "indeed.jobtitle = indeed.jobtitle.map(lambda x: 'contract' if 'contract' in x else x)\n",
    "indeed.jobtitle = indeed.jobtitle.map(lambda x: 'analyst' if 'analyst' in x else x)\n",
    "indeed.jobtitle = indeed.jobtitle.map(lambda x: 'analyst' if 'analytic' in x else x)\n",
    "indeed.jobtitle = indeed.jobtitle.map(lambda x: 'nlp' if 'natural' in x else x)\n",
    "indeed.jobtitle = indeed.jobtitle.map(lambda x: 'analyst' if 'analsyt' in x else x)\n",
    "indeed.jobtitle = indeed.jobtitle.map(lambda x: 'data scientist' if 'data scientist' in x else x)\n",
    "indeed.jobtitle = indeed.jobtitle.map(lambda x: 'director' if 'director' in x else x)\n",
    "indeed.jobtitle = indeed.jobtitle.map(lambda x: 'director' if 'vice' in x else x)"
   ]
  },
  {
   "cell_type": "code",
   "execution_count": 45,
   "metadata": {},
   "outputs": [
    {
     "data": {
      "text/plain": [
       "array(['manager', 'intern', 'data scientist', 'analyst', 'senior',\n",
       "       'engineer', 'nlp', 'contract', 'director'], dtype=object)"
      ]
     },
     "execution_count": 45,
     "metadata": {},
     "output_type": "execute_result"
    }
   ],
   "source": [
    "indeed.jobtitle.unique()"
   ]
  },
  {
   "cell_type": "markdown",
   "metadata": {},
   "source": [
    "## Lookin' good!\n",
    "Now, we can dig into the job descriptions in the <i>Snippet</i> column."
   ]
  },
  {
   "cell_type": "markdown",
   "metadata": {},
   "source": [
    "#### First step: getting a good idea of the special words in the job snippets."
   ]
  },
  {
   "cell_type": "markdown",
   "metadata": {},
   "source": [
    "Cleaning up the <i>Snippets</i> and <i>JobTitle</i> features."
   ]
  },
  {
   "cell_type": "code",
   "execution_count": 46,
   "metadata": {
    "collapsed": true
   },
   "outputs": [],
   "source": [
    "indeed['snippet'] = indeed['snippet'].str.replace('<b>', '')\n",
    "indeed['snippet'] = indeed['snippet'].str.replace('</b>', '')\n",
    "indeed['snippet'] = indeed['snippet'].str.replace('.', '')\n",
    "indeed['snippet'] = indeed['snippet'].str.replace(',', '')\n",
    "indeed['snippet'] = indeed['snippet'].str.lower()"
   ]
  },
  {
   "cell_type": "code",
   "execution_count": 47,
   "metadata": {
    "collapsed": true
   },
   "outputs": [],
   "source": [
    "snippets = indeed.snippet.to_string()"
   ]
  },
  {
   "cell_type": "code",
   "execution_count": 48,
   "metadata": {},
   "outputs": [
    {
     "data": {
      "text/plain": [
       "<6481x809 sparse matrix of type '<type 'numpy.int64'>'\n",
       "\twith 85726 stored elements in Compressed Sparse Row format>"
      ]
     },
     "execution_count": 48,
     "metadata": {},
     "output_type": "execute_result"
    }
   ],
   "source": [
    "vect = CountVectorizer(stop_words='english')\n",
    "vect.fit_transform(indeed.snippet)"
   ]
  },
  {
   "cell_type": "code",
   "execution_count": 49,
   "metadata": {
    "collapsed": true
   },
   "outputs": [],
   "source": [
    "vocab_dict = vect.vocabulary_\n",
    "vocab = [[k,v] for k,v in vocab_dict.items()]"
   ]
  },
  {
   "cell_type": "code",
   "execution_count": 50,
   "metadata": {},
   "outputs": [
    {
     "name": "stdout",
     "output_type": "stream",
     "text": [
      "                 word  count\n",
      "671              yume    808\n",
      "391            yodlee    807\n",
      "434             years    806\n",
      "759              year    805\n",
      "218           writing    804\n",
      "28            wrangle    803\n",
      "700             world    802\n",
      "110           working    801\n",
      "767              work    800\n",
      "749              wish    799\n",
      "619               web    798\n",
      "695           weaving    797\n",
      "732               way    796\n",
      "780         warehouse    795\n",
      "519             wants    794\n",
      "148              want    793\n",
      "554                vp    792\n",
      "741            volume    791\n",
      "21        visualizing    790\n",
      "591    visualizations    789\n",
      "475     visualization    788\n",
      "374         visionary    787\n",
      "102           visible    786\n",
      "774           virtual    785\n",
      "448              view    784\n",
      "632        vertically    783\n",
      "158            verify    782\n",
      "470           various    781\n",
      "771           variety    780\n",
      "542             value    779\n",
      "588          validate    778\n",
      "204           utilize    777\n",
      "613             using    776\n",
      "788             users    775\n",
      "586              user    774\n",
      "579              used    773\n",
      "109               use    772\n",
      "628             usage    771\n",
      "525           upstart    770\n",
      "187      unstructured    769\n",
      "549        unlabelled    768\n",
      "643            unique    767\n",
      "43         unexpected    766\n",
      "71      understanding    765\n",
      "805        understand    764\n",
      "196          ultimate    763\n",
      "757              uber    762\n",
      "186             types    761\n",
      "662           twitter    760\n",
      "15                 tv    759\n",
      "274           turning    758\n",
      "243             truth    757\n",
      "648          trillion    756\n",
      "88              trial    755\n",
      "515            triage    754\n",
      "650        translates    753\n",
      "733         translate    752\n",
      "174      transforming    751\n",
      "629    transformation    750\n",
      "357     transactional    749\n",
      "104           trained    748\n",
      "124             train    747\n",
      "520          toolsets    746\n",
      "106             tools    745\n",
      "326              tool    744\n",
      "17                 tn    743\n",
      "291             times    742\n",
      "30             timely    741\n",
      "319              time    740\n",
      "303              tier    739\n",
      "419         thousands    738\n",
      "353        thoughtful    737\n",
      "728           textual    736\n",
      "461    textaudiovideo    735\n",
      "452           testing    734\n",
      "13              terms    733\n",
      "444          terabyte    732\n",
      "471              tens    731\n",
      "27            telling    730\n",
      "559        technology    729\n",
      "507      technologist    728\n",
      "742      technologies    727\n",
      "460        techniques    726\n",
      "83          technical    725\n",
      "256             teams    724\n",
      "39               team    723\n",
      "280             teach    722\n",
      "601         targeting    721\n",
      "82             talent    720\n",
      "223           systems    719\n",
      "770        supportive    718\n",
      "66         supporting    717\n",
      "726           support    716\n",
      "94            studies    715\n",
      "802          students    714\n",
      "320        structures    713\n",
      "336        structured    712\n",
      "77             strong    711\n",
      "492           streams    710\n",
      "664         streaming    709\n",
      "301         strategic    708\n",
      "345      storytelling    707\n",
      "603            stores    706\n",
      "773           storage    705\n",
      "795            stocks    704\n",
      "160       stewardship    703\n",
      "282          steering    702\n",
      "722        statistics    701\n",
      "690      statistician    700\n",
      "208       statistical    699\n",
      "469             state    698\n",
      "453           startup    697\n",
      "730             start    696\n",
      "64              staff    695\n",
      "590             stack    694\n",
      "190                sr    693\n",
      "793               sql    692\n",
      "203      spreadsheets    691\n",
      "526          spotfire    690\n",
      "617             speed    689\n",
      "755      spectrometry    688\n",
      "779           spatial    687\n",
      "485             spark    686\n",
      "151          spanning    685\n",
      "610           sources    684\n",
      "624            source    683\n",
      "178    sophistication    682\n",
      "740     sophisticated    681\n",
      "217           solving    680\n",
      "306           solvers    679\n",
      "240            solver    678\n",
      "596             solve    677\n",
      "405         solutions    676\n",
      "35           solution    675\n",
      "538             solid    674\n",
      "709          software    673\n",
      "91             social    672\n",
      "40              small    671\n",
      "34             skills    670\n",
      "615             skill    669\n",
      "191               sit    668\n",
      "762            single    667\n",
      "504            simply    666\n",
      "379       significant    665\n",
      "47               sign    664\n",
      "708           showpad    663\n",
      "707             shiny    662\n",
      "436           shaping    661\n",
      "198                sf    660\n",
      "597              sets    659\n",
      "381          services    658\n",
      "287           service    657\n",
      "68           sentient    656\n",
      "269            sensor    655\n",
      "149             sense    654\n",
      "395            senior    653\n",
      "65              seeks    652\n",
      "229           seeking    651\n",
      "352              seek    650\n",
      "655          security    649\n",
      "524           sectors    648\n",
      "400            sector    647\n",
      "527            search    646\n",
      "713           scripts    645\n",
      "140         scripting    644\n",
      "477            screen    643\n",
      "115             scope    642\n",
      "62         scientists    641\n",
      "206         scientist    640\n",
      "687        scientific    639\n",
      "362          sciences    638\n",
      "132           science    637\n",
      "672             scale    636\n",
      "351               sas    635\n",
      "344               san    634\n",
      "1               sales    633\n",
      "335             roles    632\n",
      "778              role    631\n",
      "604            rocket    630\n",
      "377             rigor    629\n",
      "717             right    628\n",
      "416              rich    627\n",
      "284     revolutionary    626\n",
      "466            review    625\n",
      "299           revenue    624\n",
      "24            results    623\n",
      "358       responsible    622\n",
      "513    responsibility    621\n",
      "164  responsibilities    620\n",
      "578         responses    619\n",
      "488           resides    618\n",
      "264          research    617\n",
      "98          requiring    616\n",
      "182      requirements    615\n",
      "800          required    614\n",
      "330      representing    613\n",
      "454         reporting    612\n",
      "433            report    611\n",
      "63           relocate    610\n",
      "540          reliable    609\n",
      "497          relevant    608\n",
      "530         relevance    607\n",
      "432        relational    606\n",
      "472         relatable    605\n",
      "614        regardless    604\n",
      "385        refreshing    603\n",
      "772           redwood    602\n",
      "649           reduces    601\n",
      "338           recruit    600\n",
      "736        recommends    599\n",
      "446   recommendations    598\n",
      "473          recently    597\n",
      "775           reality    596\n",
      "630              real    595\n",
      "557             ready    594\n",
      "212           rapidly    593\n",
      "421           ranking    592\n",
      "72             ranges    591\n",
      "156              quot    590\n",
      "318            quirks    589\n",
      "612         questions    588\n",
      "727          question    587\n",
      "234          querying    586\n",
      "9               query    585\n",
      "183           queries    584\n",
      "399          quantity    583\n",
      "332      quantitative    582\n",
      "262           quality    581\n",
      "230            python    580\n",
      "25            puzzles    579\n",
      "157           provide    578\n",
      "142       proprietary    577\n",
      "640         propeller    576\n",
      "644          projects    575\n",
      "290       programming    574\n",
      "19            program    573\n",
      "168           profile    572\n",
      "331     professionals    571\n",
      "394      professional    570\n",
      "89           products    569\n",
      "221        production    568\n",
      "170           product    567\n",
      "691        processing    566\n",
      "437         processes    565\n",
      "145           process    564\n",
      "791          problems    563\n",
      "754           problem    562\n",
      "478             prior    561\n",
      "409         principal    560\n",
      "718         primarily    559\n",
      "139        presenting    558\n",
      "724           prepare    557\n",
      "426         preferred    556\n",
      "54        preferences    555\n",
      "449        predictive    554\n",
      "480        prediction    553\n",
      "58          practices    552\n",
      "704         practical    551\n",
      "510           powered    550\n",
      "776             power    549\n",
      "364         potential    548\n",
      "380          position    547\n",
      "224            policy    546\n",
      "166              plus    545\n",
      "370              play    544\n",
      "748         platforms    543\n",
      "220          platform    542\n",
      "404          planning    541\n",
      "378              plan    540\n",
      "365           pivotal    539\n",
      "323         pipelines    538\n",
      "680           pioneer    537\n",
      "654           pinners    536\n",
      "315            pinner    535\n",
      "215          personal    534\n",
      "245            person    533\n",
      "639       performance    532\n",
      "566           perform    531\n",
      "661            people    530\n",
      "32                pbs    529\n",
      "594          patterns    528\n",
      "339          patients    527\n",
      "572           patient    526\n",
      "656        passionate    525\n",
      "682           passion    524\n",
      "97         partnering    523\n",
      "558           partner    522\n",
      "676   parallelization    521\n",
      "439         pagerduty    520\n",
      "807             paced    519\n",
      "408             owler    518\n",
      "175           overall    517\n",
      "361          oriented    516\n",
      "598      organization    515\n",
      "494      organisation    514\n",
      "389             order    513\n",
      "118        optimizing    512\n",
      "698          optimize    511\n",
      "545      optimization    510\n",
      "589       opportunity    509\n",
      "200        operations    508\n",
      "414       operational    507\n",
      "564              open    506\n",
      "367            online    505\n",
      "268           offline    504\n",
      "514            offers    503\n",
      "211     observational    502\n",
      "138           nurture    501\n",
      "10               nuna    500\n",
      "273         numerical    499\n",
      "553               non    498\n",
      "786              node    497\n",
      "401               nlp    496\n",
      "368               new    495\n",
      "176             needs    494\n",
      "555              need    493\n",
      "188           natural    492\n",
      "298        narratives    491\n",
      "372          multiple    490\n",
      "536             multi    489\n",
      "296            moving    488\n",
      "226         motivated    487\n",
      "711          motivate    486\n",
      "213           monitor    485\n",
      "789            models    484\n",
      "528         modelling    483\n",
      "506          modeling    482\n",
      "600           modeler    481\n",
      "386            mobile    480\n",
      "583                ml    479\n",
      "427           mission    478\n",
      "322            mining    477\n",
      "26             minded    476\n",
      "111               mid    475\n",
      "660           methods    474\n",
      "797     methodologies    473\n",
      "8               messy    472\n",
      "90             mentor    471\n",
      "801          memcache    470\n",
      "278           members    469\n",
      "570            member    468\n",
      "440            meetme    467\n",
      "567             media    466\n",
      "383             medal    465\n",
      "422             means    464\n",
      "792           meaning    463\n",
      "173          maturing    462\n",
      "781       mathematics    461\n",
      "238     mathematician    460\n",
      "658      mathematical    459\n",
      "534             mateo    458\n",
      "651           mastery    457\n",
      "237           masters    456\n",
      "295           massive    455\n",
      "720              mass    454\n",
      "622          marrying    453\n",
      "689         marketing    452\n",
      "107            market    451\n",
      "252         mapreduce    450\n",
      "51       manipulating    449\n",
      "712          managers    448\n",
      "5             manager    447\n",
      "313        management    446\n",
      "100            manage    445\n",
      "137            making    444\n",
      "568              make    443\n",
      "277         maintains    442\n",
      "194          maintain    441\n",
      "162           machine    440\n",
      "95               love    439\n",
      "464              lots    438\n",
      "324               lot    437\n",
      "11            looking    436\n",
      "163           located    435\n",
      "216                ll    434\n",
      "531             lives    433\n",
      "508          liveramp    432\n",
      "397         liquidity    431\n",
      "189            liquid    430\n",
      "275            linear    429\n",
      "312              line    428\n",
      "647              like    427\n",
      "521              life    426\n",
      "69         leveraging    425\n",
      "314          leverage    424\n",
      "33              level    423\n",
      "99            lending    422\n",
      "505          learning    421\n",
      "316           leading    420\n",
      "684            leader    419\n",
      "674              lead    418\n",
      "50             lawyer    417\n",
      "592           largely    416\n",
      "37              large    415\n",
      "607            laptop    414\n",
      "288          language    413\n",
      "134           labeled    412\n",
      "255              kpmg    411\n",
      "150              kpis    410\n",
      "412         knowledge    409\n",
      "637              know    408\n",
      "483               key    407\n",
      "803             karma    406\n",
      "743            junior    405\n",
      "130              join    404\n",
      "482               job    403\n",
      "783               jmp    402\n",
      "285              java    401\n",
      "55          iterating    400\n",
      "114                ip    399\n",
      "376         involving    398\n",
      "84           involved    397\n",
      "266     investigation    396\n",
      "442       investigate    395\n",
      "799            invest    394\n",
      "199      interpreting    393\n",
      "625          internal    392\n",
      "665            intern    391\n",
      "493       interactive    390\n",
      "167       intelligent    389\n",
      "451      intelligence    388\n",
      "270        integrated    387\n",
      "417         integrate    386\n",
      "714          integral    385\n",
      "258         insurance    384\n",
      "634       instructors    383\n",
      "127          insights    382\n",
      "321        insightful    381\n",
      "202           insight    380\n",
      "209        innovative    379\n",
      "502       innovations    378\n",
      "327          innovate    377\n",
      "457    infrastructure    376\n",
      "152       information    375\n",
      "701          industry    374\n",
      "334        industrial    373\n",
      "652       individuals    372\n",
      "636         increases    371\n",
      "265          increase    370\n",
      "398        incomplete    369\n",
      "207         including    368\n",
      "22            include    367\n",
      "181         improving    366\n",
      "491          improves    365\n",
      "304      improvements    364\n",
      "487           improve    363\n",
      "93          implement    362\n",
      "410            impact    361\n",
      "533         immersive    360\n",
      "611          identify    359\n",
      "241        identified    358\n",
      "609             ideas    357\n",
      "363             ideal    356\n",
      "192        hypotheses    355\n",
      "325               hub    354\n",
      "739                hq    353\n",
      "131              hour    352\n",
      "36               hive    351\n",
      "205            hiring    350\n",
      "744              hire    349\n",
      "101            highly    348\n",
      "147              high    347\n",
      "20              helps    346\n",
      "201              help    345\n",
      "197        healthcare    344\n",
      "267            health    343\n",
      "735              head    342\n",
      "806            having    341\n",
      "406           harnham    340\n",
      "233             hands    339\n",
      "281              hand    338\n",
      "608              half    337\n",
      "599            hadoop    336\n",
      "548             guide    335\n",
      "418          guardant    334\n",
      "666            growth    333\n",
      "136           growing    332\n",
      "185              grow    331\n",
      "484             group    330\n",
      "587    groundbreaking    329\n",
      "169              grok    328\n",
      "80              great    327\n",
      "16              graph    326\n",
      "616          graduate    325\n",
      "659            google    324\n",
      "155              goal    323\n",
      "2              global    322\n",
      "752         glassdoor    321\n",
      "38         geospatial    320\n",
      "435               geo    319\n",
      "458           genomic    318\n",
      "673          genetics    317\n",
      "249        generation    316\n",
      "703         generated    315\n",
      "529               gap    314\n",
      "552            funded    313\n",
      "769         functions    312\n",
      "618      functionally    311\n",
      "734          function    310\n",
      "239             fully    309\n",
      "710           freeing    308\n",
      "745             fraud    307\n",
      "787         francisco    306\n",
      "547           formats    305\n",
      "645            formal    304\n",
      "737              form    303\n",
      "496       forecasting    302\n",
      "329          focusing    301\n",
      "3               focus    300\n",
      "766            fitbit    299\n",
      "214               fit    298\n",
      "509           fintech    297\n",
      "44           findings    296\n",
      "247         financial    295\n",
      "227           finance    294\n",
      "593          fighting    293\n",
      "621             field    292\n",
      "300              feel    291\n",
      "14            feedzai    290\n",
      "48        feasibility    289\n",
      "430           fastest    288\n",
      "305              fast    287\n",
      "576          fanatics    286\n",
      "468       familiarity    285\n",
      "180           faculty    284\n",
      "341        extracting    283\n",
      "257           extract    282\n",
      "171          explores    281\n",
      "73            explore    280\n",
      "354       exploratory    279\n",
      "751       exploration    278\n",
      "556           experts    277\n",
      "764         expertise    276\n",
      "463            expert    275\n",
      "443       experiments    274\n",
      "495      experimental    273\n",
      "371       experienced    272\n",
      "87         experience    271\n",
      "694         expansion    270\n",
      "4            existing    269\n",
      "697          exciting    268\n",
      "543           excited    267\n",
      "159       exceptional    266\n",
      "125         excellent    265\n",
      "606             excel    264\n",
      "546        evaluating    263\n",
      "633          evaluate    262\n",
      "677         establish    261\n",
      "657         essential    260\n",
      "108       environment    259\n",
      "544   entrepreneurial    258\n",
      "31             entire    257\n",
      "393        enterprise    256\n",
      "705            ensure    255\n",
      "551         enriching    254\n",
      "41            enhance    253\n",
      "550         engineers    252\n",
      "541       engineering    251\n",
      "310          engineer    250\n",
      "317        engagement    249\n",
      "81             engage    248\n",
      "250            energy    247\n",
      "154               end    246\n",
      "490          enabling    245\n",
      "522            enable    244\n",
      "721           embrace    243\n",
      "747          embedded    242\n",
      "263        eloquently    241\n",
      "308        electronic    240\n",
      "706           efforts    239\n",
      "356         efficient    238\n",
      "153       educational    237\n",
      "562         education    236\n",
      "67          editorial    235\n",
      "476              edge    234\n",
      "85          economics    233\n",
      "309         ecommerce    232\n",
      "261           driving    231\n",
      "582            drives    230\n",
      "585            driven    229\n",
      "388             drive    228\n",
      "438             draws    227\n",
      "122          downtown    226\n",
      "92            domains    225\n",
      "246            domain    224\n",
      "761             doesn    223\n",
      "763           diverse    222\n",
      "413       distributed    221\n",
      "123       discovering    220\n",
      "328          discover    219\n",
      "584          director    218\n",
      "251         directing    217\n",
      "46             direct    216\n",
      "12     dimensionality    215\n",
      "503       dimensional    214\n",
      "573           digital    213\n",
      "561         different    212\n",
      "750           devices    211\n",
      "236          develops    210\n",
      "577       development    209\n",
      "537        developing    208\n",
      "210         developer    207\n",
      "563           develop    206\n",
      "248         determine    205\n",
      "455         detection    204\n",
      "225           designs    203\n",
      "424         designing    202\n",
      "49             design    201\n",
      "172       description    200\n",
      "459         deploying    199\n",
      "373            deploy    198\n",
      "355         depending    197\n",
      "486        delivering    196\n",
      "74       deliverables    195\n",
      "479           deliver    194\n",
      "715         delighted    193\n",
      "428            define    192\n",
      "532              deep    191\n",
      "141         dedicated    190\n",
      "56          decisions    189\n",
      "678          decision    188\n",
      "126           debtors    187\n",
      "429          datasets    186\n",
      "790         databases    185\n",
      "337          database    184\n",
      "184              data    183\n",
      "231        dashboards    182\n",
      "45                 d3    181\n",
      "232           cutting    180\n",
      "631         customers    179\n",
      "128          customer    178\n",
      "729            custom    177\n",
      "467         currently    176\n",
      "669           curious    175\n",
      "569             cross    174\n",
      "681          critical    173\n",
      "294  creditworthiness    172\n",
      "565            credit    171\n",
      "272          creating    170\n",
      "292           creates    169\n",
      "289           created    168\n",
      "512            create    167\n",
      "685              core    166\n",
      "293      conversation    165\n",
      "719       contributor    164\n",
      "489          contract    163\n",
      "753      continuously    162\n",
      "683           content    161\n",
      "112          contains    160\n",
      "784        contacting    159\n",
      "396          consumer    158\n",
      "498           consume    157\n",
      "539        consultant    156\n",
      "423       connections    155\n",
      "253           connect    154\n",
      "135          concepts    153\n",
      "7         computation    152\n",
      "235         comprised    151\n",
      "360        complexity    150\n",
      "571           complex    149\n",
      "222        compelling    148\n",
      "120           company    147\n",
      "501         community    146\n",
      "692       communicate    145\n",
      "445            common    144\n",
      "70         commercial    143\n",
      "760           command    142\n",
      "349       comfortable    141\n",
      "254         combining    140\n",
      "693          combines    139\n",
      "626           combine    138\n",
      "228       combination    137\n",
      "177        collection    136\n",
      "517         collected    135\n",
      "675           collect    134\n",
      "23        collaborate    133\n",
      "144        coimbatore    132\n",
      "0                code    131\n",
      "6               coach    130\n",
      "431           closely    129\n",
      "731          clinical    128\n",
      "133           clients    127\n",
      "595            client    126\n",
      "52              click    125\n",
      "387             clear    124\n",
      "161         cleansing    123\n",
      "392             clean    122\n",
      "96     classification    121\n",
      "384             class    120\n",
      "307           clarity    119\n",
      "311              city    118\n",
      "668          choosing    117\n",
      "193             chief    116\n",
      "768             check    115\n",
      "402           chariot    114\n",
      "18             charge    113\n",
      "302          channels    112\n",
      "79             change    111\n",
      "523          champion    110\n",
      "143       challenging    109\n",
      "699           central    108\n",
      "260          category    107\n",
      "244            carlos    106\n",
      "283              card    105\n",
      "560           capture    104\n",
      "462          capacity    103\n",
      "242        capability    102\n",
      "623      capabilities    101\n",
      "620         candidate    100\n",
      "499            cancer     99\n",
      "500                ca     98\n",
      "688          business     97\n",
      "796          building     96\n",
      "366             build     95\n",
      "605          brisbane     94\n",
      "119            brings     93\n",
      "29           bringing     92\n",
      "403             bring     91\n",
      "343            bridge     90\n",
      "794            brands     89\n",
      "738             brand     88\n",
      "60            bonuses     87\n",
      "580             bonus     86\n",
      "642               bit     85\n",
      "425            biopsy     84\n",
      "518        biomedical     83\n",
      "574               big     82\n",
      "219            better     81\n",
      "679              best     80\n",
      "286          benefits     79\n",
      "342         behaviors     78\n",
      "804        behavioral     77\n",
      "765          behavior     76\n",
      "441               bay     75\n",
      "702             basis     74\n",
      "516             basic     73\n",
      "411             based     72\n",
      "638        background     71\n",
      "279            backed     70\n",
      "78                b2b     69\n",
      "407      availability     68\n",
      "113          automate     67\n",
      "808         augmented     66\n",
      "61          attitudes     65\n",
      "276         associate     64\n",
      "581            assist     63\n",
      "116        assessment     62\n",
      "382          assessed     61\n",
      "602        assembling     60\n",
      "121            artcom     59\n",
      "450               art     58\n",
      "348          argument     57\n",
      "725              area     56\n",
      "271      architecture     55\n",
      "716       appropriate     54\n",
      "746          applying     53\n",
      "105             apply     52\n",
      "535           applied     51\n",
      "179      applications     50\n",
      "777       application     49\n",
      "165            answer     48\n",
      "103         analyzing     47\n",
      "465           analyze     46\n",
      "456         analytics     45\n",
      "447        analytical     44\n",
      "415          analytic     43\n",
      "375           analyst     42\n",
      "350          analysis     41\n",
      "696          analyses     40\n",
      "641               amp     39\n",
      "347         alongside     38\n",
      "86             allows     37\n",
      "663             alive     36\n",
      "195        algorithms     35\n",
      "686       algorithmic     34\n",
      "798         algorithm     33\n",
      "758                ai     32\n",
      "635       aggregation     31\n",
      "42           advocate     30\n",
      "575            advise     29\n",
      "627          advanced     28\n",
      "117            adtech     27\n",
      "481             adept     26\n",
      "75            address     25\n",
      "723        additional     24\n",
      "511          addition     23\n",
      "670            adadyn     22\n",
      "346           actuary     21\n",
      "76             active     20\n",
      "390        actionable     19\n",
      "340       acquisition     18\n",
      "420           achieve     17\n",
      "369          accuracy     16\n",
      "129           account     15\n",
      "59             access     14\n",
      "359              able     13\n",
      "57                abl     12\n",
      "474           ability     11\n",
      "259                85     10\n",
      "756            6sense      9\n",
      "646                60      8\n",
      "53               500m      7\n",
      "653             40000      6\n",
      "146             21955      5\n",
      "782              180k      4\n",
      "333                15      3\n",
      "667               110      2\n",
      "297              1000      1\n",
      "785                10      0\n"
     ]
    }
   ],
   "source": [
    "indeed_vocab = pd.DataFrame(vocab)\n",
    "indeed_vocab.columns = ['word', 'count']\n",
    "print indeed_vocab.sort_values('count', ascending=False).to_string()"
   ]
  },
  {
   "cell_type": "markdown",
   "metadata": {},
   "source": [
    "#### Splitting up the the values of the Snippet feature for comparison."
   ]
  },
  {
   "cell_type": "code",
   "execution_count": 51,
   "metadata": {
    "collapsed": true
   },
   "outputs": [],
   "source": [
    "indeed['snippet'] = indeed['snippet'].str.split()\n",
    "indeed['split_jobtitle'] = indeed['jobtitle'].str.split()"
   ]
  },
  {
   "cell_type": "markdown",
   "metadata": {},
   "source": [
    "#### I used the vocabulary to compile three lists of values based on areas of expertise. <br>\n",
    "This I turn into a set for comparison with the JobTitle and Snippet features."
   ]
  },
  {
   "cell_type": "code",
   "execution_count": 52,
   "metadata": {
    "collapsed": true
   },
   "outputs": [],
   "source": [
    "computering_skills = ['scala', 'python', 'r', 'hadoop', 'sql', 'nosql', 'mongodb', 'tableau', \\\n",
    "                      'spark', 'go', 'julia', 'd3', 'javascript', 'html', 'css', 'zoomdata', \\\n",
    "                      'insight', 've', 'spotfire', 'sas', 'pagerduty', 'owler', 'meetme', \\\n",
    "                      'mattermark', 'liveramp', 'java', 'hive', 'harnham', 'excel', \\\n",
    "                      'adadyn', 'yume', 'yodlee']\n",
    "\n",
    "technical_skills = ['statistics', 'machine learning', 'algorithm', 'algorithms', \\\n",
    "                    'deep learning', 'ai', 'visualize', 'visualization', 'visualizations', \\\n",
    "                    'writing', 'wrangle', 'wrangling', 'triage', 'train', 'training', \\\n",
    "                    'testing', 'teach', 'teaching', 'security', 'parallelization', \\\n",
    "                    'nlp', 'model', 'modeling', 'modelling', 'ml', 'mining', \\\n",
    "                    'mentor', 'mathematician', 'mathematics', 'mathematical', \\\n",
    "                    'marketing', 'forecasting', 'algorithmic', 'aggregation', \\\n",
    "                    'storytelling']\n",
    "\n",
    "experience_skills = ['manager', 'intern', 'data scientist', 'analyst', 'masters', 'phd'\\\n",
    "                     'senior', 'nlp', 'engineer', 'contract', 'head', 'director']\n",
    "\n",
    "combined_skills = set(computering_skills + technical_skills + experience_skills)"
   ]
  },
  {
   "cell_type": "markdown",
   "metadata": {},
   "source": [
    "## Creating a cumulative number for all skills."
   ]
  },
  {
   "cell_type": "code",
   "execution_count": 53,
   "metadata": {
    "collapsed": true
   },
   "outputs": [],
   "source": [
    "indeed['skill_count'] = 0\n",
    "indeed['title_count'] = 0\n",
    "\n",
    "for idx in indeed.index:\n",
    "    intersect = list(set(indeed['snippet'][idx]).intersection(combined_skills))\n",
    "    indeed['skill_count'][idx] = len(intersect)\n",
    "    \n",
    "for idx in indeed.index:\n",
    "    intersect = list(set(indeed['jobtitle'][idx]).intersection(combined_skills))\n",
    "    indeed['title_count'][idx] = len(intersect)\n",
    "    \n",
    "indeed['total_skills'] = indeed['skill_count'] + indeed['title_count']\n",
    "indeed.drop('skill_count', axis=1, inplace=True)\n",
    "indeed.drop('title_count', axis=1, inplace=True)"
   ]
  },
  {
   "cell_type": "markdown",
   "metadata": {},
   "source": [
    "# Let's get testing! 🏁"
   ]
  },
  {
   "cell_type": "code",
   "execution_count": 54,
   "metadata": {
    "collapsed": true
   },
   "outputs": [],
   "source": [
    "indeed_copy = indeed.copy()\n",
    "indeed_copy.drop('snippet', axis=1, inplace=True)\n",
    "indeed_copy.drop('date', axis=1, inplace=True)\n",
    "indeed_copy.drop('split_jobtitle', axis=1, inplace=True)"
   ]
  },
  {
   "cell_type": "code",
   "execution_count": 55,
   "metadata": {
    "collapsed": true,
    "scrolled": true
   },
   "outputs": [],
   "source": [
    "dummies = ['indeedApply', 'jobtitle', 'company']\n",
    "dummy_df = pd.get_dummies(indeed_copy[dummies])"
   ]
  },
  {
   "cell_type": "code",
   "execution_count": 56,
   "metadata": {
    "collapsed": true
   },
   "outputs": [],
   "source": [
    "indeed_analysis = pd.concat([indeed_copy, dummy_df], axis=1)\n",
    "indeed_analysis.drop(dummies, axis=1, inplace=True)"
   ]
  },
  {
   "cell_type": "markdown",
   "metadata": {},
   "source": [
    "## Train Test 🚂"
   ]
  },
  {
   "cell_type": "code",
   "execution_count": 57,
   "metadata": {
    "collapsed": true
   },
   "outputs": [],
   "source": [
    "X = indeed_analysis\n",
    "y = indeed_analysis['salary'].ravel()\n",
    "X.drop('salary', axis=1, inplace=True)"
   ]
  },
  {
   "cell_type": "code",
   "execution_count": 58,
   "metadata": {
    "collapsed": true
   },
   "outputs": [],
   "source": [
    "X_train, X_test, y_train, y_test = train_test_split(X, y, test_size=0.5)"
   ]
  },
  {
   "cell_type": "code",
   "execution_count": 59,
   "metadata": {},
   "outputs": [
    {
     "name": "stdout",
     "output_type": "stream",
     "text": [
      "X train shape:  (3240, 121)\n",
      "y train shape:  (3240,)\n",
      "X test shape (3241, 121)\n",
      "y test shape:  (3241,)\n"
     ]
    }
   ],
   "source": [
    "print 'X train shape: ', X_train.shape\n",
    "print 'y train shape: ', y_train.shape\n",
    "print 'X test shape', X_test.shape\n",
    "print 'y test shape: ', y_test.shape"
   ]
  },
  {
   "cell_type": "markdown",
   "metadata": {},
   "source": [
    "## Try a Lasso... 🐴"
   ]
  },
  {
   "cell_type": "code",
   "execution_count": 60,
   "metadata": {
    "collapsed": true
   },
   "outputs": [],
   "source": [
    "def rmse_cv(model):\n",
    "    rmse= np.sqrt(-cross_val_score(model, X_train, y_train, scoring=\"neg_mean_squared_error\", cv=5))\n",
    "    return(rmse)"
   ]
  },
  {
   "cell_type": "code",
   "execution_count": 61,
   "metadata": {},
   "outputs": [
    {
     "name": "stdout",
     "output_type": "stream",
     "text": [
      "('Mean:', 10634.733386966163)\n",
      "('Min: ', 9726.9270032708991)\n"
     ]
    }
   ],
   "source": [
    "model_lasso = LassoCV(n_alphas=100, selection='random', max_iter=15000).fit(X_train, y_train)\n",
    "res = rmse_cv(model_lasso)\n",
    "print(\"Mean:\",res.mean())\n",
    "print(\"Min: \",res.min())"
   ]
  },
  {
   "cell_type": "code",
   "execution_count": 64,
   "metadata": {},
   "outputs": [
    {
     "name": "stdout",
     "output_type": "stream",
     "text": [
      "Lasso picked 77 variables and eliminated the other 44 variables\n"
     ]
    }
   ],
   "source": [
    "lasso_df = indeed_analysis\n",
    "l_coef = pd.Series(model_lasso.coef_, index = lasso_df.columns)\n",
    "print(\"Lasso picked \" + str(sum(l_coef != 0)) + \" variables and eliminated the other \" +  str(sum(l_coef == 0)) + \" variables\")"
   ]
  },
  {
   "cell_type": "code",
   "execution_count": 65,
   "metadata": {},
   "outputs": [
    {
     "data": {
      "text/html": [
       "<iframe id=\"igraph\" scrolling=\"no\" style=\"border:none;\" seamless=\"seamless\" src=\"https://plot.ly/~0Noun/148.embed\" height=\"525px\" width=\"100%\"></iframe>"
      ],
      "text/plain": [
       "<plotly.tools.PlotlyDisplay object>"
      ]
     },
     "execution_count": 65,
     "metadata": {},
     "output_type": "execute_result"
    }
   ],
   "source": [
    "lasso_coef = pd.concat([l_coef.sort_values().head(10),\n",
    "                        l_coef.sort_values().tail(10)])\n",
    "\n",
    "lasso_coef.iplot(kind = \"barh\", title='Coefficients in the Lasso Model')"
   ]
  },
  {
   "cell_type": "code",
   "execution_count": 66,
   "metadata": {},
   "outputs": [
    {
     "data": {
      "text/plain": [
       "company_IBM                                      -84183.537506\n",
       "company_Ipsos North America                      -63303.722599\n",
       "company_Payette Group                            -56577.815255\n",
       "jobtitle_intern                                  -54897.910472\n",
       "company_General Assembly                         -50730.458804\n",
       "company_Abl Schools                              -39307.250798\n",
       "company_Wells Fargo                              -38046.068271\n",
       "company_Blackstone Technology Group              -36301.403827\n",
       "company_University of California San Francisco   -35751.044355\n",
       "company_Gametime United, Inc.                    -35199.322448\n",
       "company_PagerDuty                                 24925.774934\n",
       "company_Corporate Labs Technology                 26569.287240\n",
       "company_Twitter                                   27390.890191\n",
       "company_Elevate Recruiting Group                  33688.120104\n",
       "company_DuPont                                    37991.296685\n",
       "jobtitle_director                                 38140.063747\n",
       "company_Workbridge Associates                     42627.167257\n",
       "company_Kite Staffing                             42876.424879\n",
       "company_Harnham                                   46867.274546\n",
       "company_Jobspring Partners                        69413.168824\n",
       "dtype: float64"
      ]
     },
     "execution_count": 66,
     "metadata": {},
     "output_type": "execute_result"
    }
   ],
   "source": [
    "lasso_coef.sort_values()"
   ]
  },
  {
   "cell_type": "markdown",
   "metadata": {},
   "source": [
    "## Try a Ridge..."
   ]
  },
  {
   "cell_type": "code",
   "execution_count": 67,
   "metadata": {},
   "outputs": [
    {
     "name": "stdout",
     "output_type": "stream",
     "text": [
      "('Mean:', 9491.0208750977163)\n",
      "('Min: ', 8627.3985344530574)\n"
     ]
    }
   ],
   "source": [
    "model_ridge = RidgeCV(alphas=(0.01, 0.1, 1.0, 10, 100)).fit(X_train, y_train)\n",
    "res = rmse_cv(model_ridge)\n",
    "print(\"Mean:\",res.mean())\n",
    "print(\"Min: \",res.min())"
   ]
  },
  {
   "cell_type": "code",
   "execution_count": 68,
   "metadata": {},
   "outputs": [
    {
     "name": "stdout",
     "output_type": "stream",
     "text": [
      "Ridge picked 119 variables and eliminated the other 2 variables\n"
     ]
    }
   ],
   "source": [
    "ridge_df = indeed_analysis\n",
    "r_coef = pd.Series(model_ridge.coef_, index = ridge_df.columns)\n",
    "print(\"Ridge picked \" + str(sum(r_coef != 0)) + \" variables and eliminated the other \" +  str(sum(r_coef == 0)) + \" variables\")"
   ]
  },
  {
   "cell_type": "code",
   "execution_count": 69,
   "metadata": {},
   "outputs": [
    {
     "data": {
      "text/html": [
       "<iframe id=\"igraph\" scrolling=\"no\" style=\"border:none;\" seamless=\"seamless\" src=\"https://plot.ly/~0Noun/150.embed\" height=\"525px\" width=\"100%\"></iframe>"
      ],
      "text/plain": [
       "<plotly.tools.PlotlyDisplay object>"
      ]
     },
     "execution_count": 69,
     "metadata": {},
     "output_type": "execute_result"
    }
   ],
   "source": [
    "ridge_coef = pd.concat([r_coef.sort_values().head(10),\n",
    "                    r_coef.sort_values().tail(10)])\n",
    "\n",
    "ridge_coef.iplot(kind = \"barh\", title='Coefficients in the Ridge Model')"
   ]
  },
  {
   "cell_type": "code",
   "execution_count": 70,
   "metadata": {},
   "outputs": [
    {
     "data": {
      "text/plain": [
       "company_IBM                                      -95523.041089\n",
       "company_Pfizer Inc.                              -62511.718747\n",
       "company_Payette Group                            -57001.293971\n",
       "company_Ipsos North America                      -56470.710336\n",
       "jobtitle_intern                                  -54456.716341\n",
       "company_General Assembly                         -48786.201064\n",
       "company_Abl Schools                              -38663.456268\n",
       "company_Levi Strauss & Co.                       -38396.658410\n",
       "company_University of California San Francisco   -37019.083855\n",
       "jobtitle_contract                                -36610.592860\n",
       "company_Twitter                                   33939.102415\n",
       "company_Elevate Recruiting Group                  40174.561595\n",
       "jobtitle_manager                                  40572.500011\n",
       "company_DuPont                                    42765.123678\n",
       "company_Workbridge Associates                     47238.990842\n",
       "company_art.com                                   48244.422790\n",
       "company_Kite Staffing                             48630.328458\n",
       "company_Harnham                                   48857.568202\n",
       "jobtitle_director                                 59762.564696\n",
       "company_Jobspring Partners                        94078.317992\n",
       "dtype: float64"
      ]
     },
     "execution_count": 70,
     "metadata": {},
     "output_type": "execute_result"
    }
   ],
   "source": [
    "ridge_coef.sort_values()"
   ]
  },
  {
   "cell_type": "markdown",
   "metadata": {},
   "source": [
    "## Try an ElasticNet..."
   ]
  },
  {
   "cell_type": "code",
   "execution_count": 71,
   "metadata": {},
   "outputs": [
    {
     "name": "stdout",
     "output_type": "stream",
     "text": [
      "('Mean:', 13475.544710648252)\n",
      "('Min: ', 12415.825627686161)\n"
     ]
    }
   ],
   "source": [
    "model_en = ElasticNetCV(n_alphas=100, alphas=(0.01, 0.1, 1.0, 10, 100, 500), \\\n",
    "                        max_iter=15000, cv=5, n_jobs=-1).fit(X_train, y_train)\n",
    "res = rmse_cv(model_en)\n",
    "print(\"Mean:\",res.mean())\n",
    "print(\"Min: \",res.min())"
   ]
  },
  {
   "cell_type": "code",
   "execution_count": 72,
   "metadata": {},
   "outputs": [
    {
     "name": "stdout",
     "output_type": "stream",
     "text": [
      "ElasticNet picked 119 variables and eliminated the other 2 variables\n"
     ]
    }
   ],
   "source": [
    "en_df = indeed_analysis\n",
    "e_coef = pd.Series(model_en.coef_, index = en_df.columns)\n",
    "print(\"ElasticNet picked \" + str(sum(e_coef != 0)) + \" variables and eliminated the other \" +  str(sum(e_coef == 0)) + \" variables\")"
   ]
  },
  {
   "cell_type": "code",
   "execution_count": 73,
   "metadata": {},
   "outputs": [
    {
     "data": {
      "text/html": [
       "<iframe id=\"igraph\" scrolling=\"no\" style=\"border:none;\" seamless=\"seamless\" src=\"https://plot.ly/~0Noun/152.embed\" height=\"525px\" width=\"100%\"></iframe>"
      ],
      "text/plain": [
       "<plotly.tools.PlotlyDisplay object>"
      ]
     },
     "execution_count": 73,
     "metadata": {},
     "output_type": "execute_result"
    }
   ],
   "source": [
    "eln_coef = pd.concat([e_coef.sort_values().head(10),\n",
    "                     e_coef.sort_values().tail(10)])\n",
    "\n",
    "eln_coef.iplot(kind = \"barh\", title='Coefficients in the ElasticNet Model')"
   ]
  },
  {
   "cell_type": "code",
   "execution_count": 74,
   "metadata": {},
   "outputs": [
    {
     "data": {
      "text/plain": [
       "jobtitle_intern                                  -43644.182612\n",
       "company_IBM                                      -40920.589957\n",
       "company_Payette Group                            -39841.566554\n",
       "company_General Assembly                         -34961.889628\n",
       "company_Ipsos North America                      -34308.806273\n",
       "company_Abl Schools                              -29622.983282\n",
       "company_Gametime United, Inc.                    -27811.570554\n",
       "company_University of California San Francisco   -23152.790386\n",
       "company_Medal                                    -22099.845443\n",
       "company_inVentiv Health Clinical                 -21976.829696\n",
       "company_Credit Karma                              19609.235476\n",
       "company_Corporate Labs Technology                 21039.821676\n",
       "company_Twitter                                   22103.095332\n",
       "jobtitle_director                                 31922.707706\n",
       "company_Elevate Recruiting Group                  32217.217456\n",
       "company_DuPont                                    32608.330601\n",
       "company_Kite Staffing                             34083.748513\n",
       "company_Jobspring Partners                        36573.897522\n",
       "company_Harnham                                   37797.373768\n",
       "company_Workbridge Associates                     39590.357125\n",
       "dtype: float64"
      ]
     },
     "execution_count": 74,
     "metadata": {},
     "output_type": "execute_result"
    }
   ],
   "source": [
    "eln_coef.sort_values()"
   ]
  },
  {
   "cell_type": "markdown",
   "metadata": {},
   "source": [
    "## Five items consistently rank lowest:\n",
    "\n",
    "#### LassoCV:\n",
    "<i>company_IBM                                      -89337.939938</i><br>\n",
    "<i>company_Ipsos North America                      -62833.218868</i><br>\n",
    "<i>company_Payette Group                            -56550.574495</i><br>\n",
    "<i>company_General Assembly                         -53124.101956</i><br>\n",
    "<i>jobtitle_intern                                  -51035.956142</i><br>\n",
    "company_Wells Fargo                              -43636.332313<br>\n",
    "company_Blackstone Technology Group              -38270.816321<br>\n",
    "company_Gametime United, Inc.                    -37484.111854<br>\n",
    "company_Medal                                    -36689.889638<br>\n",
    "company_Smule                                    -36673.128248<br><br>\n",
    "\n",
    "#### RidgeCV:\n",
    "<i>company_IBM                                      -98493.634337</i><br>\n",
    "<i>company_Payette Group                            -57724.671529</i><br>\n",
    "<i>company_Ipsos North America                      -57042.876115</i><br>\n",
    "<i>company_General Assembly                         -50163.581091</i><br>\n",
    "<i>jobtitle_intern                                  -47837.768974</i><br>\n",
    "company_University of California San Francisco   -37762.147808<br>\n",
    "company_Medal                                    -37574.076939<br>\n",
    "company_Smule                                    -37443.054554<br>\n",
    "jobtitle_contract                                -37001.216705<br>\n",
    "company_Abl Schools                              -36995.153859<br><br>\n",
    "\n",
    "#### ElasticNetCV:\n",
    "<i>company_IBM                                      -41233.522386</i><br>\n",
    "<i>company_General Assembly                         -39940.058085</i><br>\n",
    "<i>jobtitle_intern                                  -39117.140263</i><br>\n",
    "<i>company_Payette Group                            -37952.037798</i><br>\n",
    "<i>company_Ipsos North America                      -32631.289045</i><br>\n",
    "company_Gametime United, Inc.                    -28559.314432<br>\n",
    "company_LiveRamp                                 -22883.754084<br>\n",
    "company_University of California San Francisco   -22760.442842<br>\n",
    "company_inVentiv Health Clinical                 -22578.561263<br>\n",
    "company_Microsoft                                -22250.575857<br>"
   ]
  },
  {
   "cell_type": "markdown",
   "metadata": {},
   "source": [
    "### Manager, Scientist, Analyst and Intern tank in all areas.\n",
    "# 🌫🌫🌫🌫🌫🌫🌫🌫🌫🌫🌫🌫🌫🌫🌫🌫🌫🌫🌫🌫🌫🌫🌫🌫🌫🌫🌫🌫🌫"
   ]
  },
  {
   "cell_type": "markdown",
   "metadata": {},
   "source": [
    "## Setting up for a regression."
   ]
  },
  {
   "cell_type": "code",
   "execution_count": 75,
   "metadata": {
    "collapsed": true
   },
   "outputs": [],
   "source": [
    "indeed_copy = indeed.copy()\n",
    "indeed_copy.drop('snippet', axis=1, inplace=True)\n",
    "indeed_copy.drop('date', axis=1, inplace=True)\n",
    "indeed_copy.drop('split_jobtitle', axis=1, inplace=True)"
   ]
  },
  {
   "cell_type": "code",
   "execution_count": 76,
   "metadata": {
    "collapsed": true,
    "scrolled": true
   },
   "outputs": [],
   "source": [
    "dummies = ['indeedApply', 'jobtitle', 'company']\n",
    "dummy_df = pd.get_dummies(indeed_copy[dummies])"
   ]
  },
  {
   "cell_type": "code",
   "execution_count": 77,
   "metadata": {
    "collapsed": true
   },
   "outputs": [],
   "source": [
    "indeed_analysis = pd.concat([indeed_copy, dummy_df], axis=1)\n",
    "indeed_analysis.drop(dummies, axis=1, inplace=True)"
   ]
  },
  {
   "cell_type": "code",
   "execution_count": 78,
   "metadata": {
    "collapsed": true
   },
   "outputs": [],
   "source": [
    "poor_performers = ['company_IBM', 'company_General Assembly', 'jobtitle_intern', \\\n",
    "                   'company_Payette Group', 'company_Ipsos North America']\n",
    "\n",
    "indeed_analysis.drop(poor_performers, axis=1, inplace=True)"
   ]
  },
  {
   "cell_type": "markdown",
   "metadata": {},
   "source": [
    "## Train Test 🚋"
   ]
  },
  {
   "cell_type": "code",
   "execution_count": 79,
   "metadata": {
    "collapsed": true
   },
   "outputs": [],
   "source": [
    "X = indeed_analysis\n",
    "y = indeed_analysis['salary'].ravel()\n",
    "X.drop('salary', axis=1, inplace=True)"
   ]
  },
  {
   "cell_type": "code",
   "execution_count": 80,
   "metadata": {
    "collapsed": true
   },
   "outputs": [],
   "source": [
    "X_train, X_test, y_train, y_test = train_test_split(X, y, test_size=0.5)"
   ]
  },
  {
   "cell_type": "code",
   "execution_count": 81,
   "metadata": {},
   "outputs": [
    {
     "name": "stdout",
     "output_type": "stream",
     "text": [
      "X train shape:  (3240, 116)\n",
      "y train shape:  (3240,)\n",
      "X test shape (3241, 116)\n",
      "y test shape:  (3241,)\n"
     ]
    }
   ],
   "source": [
    "print 'X train shape: ', X_train.shape\n",
    "print 'y train shape: ', y_train.shape\n",
    "print 'X test shape', X_test.shape\n",
    "print 'y test shape: ', y_test.shape"
   ]
  },
  {
   "cell_type": "markdown",
   "metadata": {},
   "source": [
    "## And now... Regression. 🕵🏻"
   ]
  },
  {
   "cell_type": "code",
   "execution_count": 82,
   "metadata": {},
   "outputs": [
    {
     "name": "stderr",
     "output_type": "stream",
     "text": [
      "/Users/noun/anaconda/lib/python2.7/site-packages/scipy/linalg/basic.py:1018: RuntimeWarning:\n",
      "\n",
      "internal gelsd driver lwork query error, required iwork dimension not returned. This is likely the result of LAPACK bug 0038, fixed in LAPACK 3.2.2 (released July 21, 2010). Falling back to 'gelss' driver.\n",
      "\n"
     ]
    },
    {
     "name": "stdout",
     "output_type": "stream",
     "text": [
      "---\n",
      "5 Fold Cross Validation Scores: Accuracy: 0.93 (+/- 0.03)\n"
     ]
    }
   ],
   "source": [
    "lr = LinearRegression(n_jobs=-1)\n",
    "\n",
    "lr.fit(X_train, y_train)\n",
    "\n",
    "pred_lr_salary = pd.DataFrame()\n",
    "pred_lr_salary['Predicted Salary'] = lr.predict(X_train.sort_index())\n",
    "\n",
    "scores = cross_val_score(lr, X_test, y_test, cv=5)\n",
    "\n",
    "print '---\\n5 Fold Cross Validation Scores:', \\\n",
    "      'Accuracy: %0.2f (+/- %0.2f)' % (scores.mean(), scores.std() * 2)\n",
    "\n",
    "salary_score = '5-Fold CV Mean Average: {percent:.2%}'.format(percent=scores.mean())\n",
    "salary_std = 'Standard Deviation: {percent:.2%}'.format(percent=scores.std() * 2)"
   ]
  },
  {
   "cell_type": "code",
   "execution_count": 83,
   "metadata": {
    "collapsed": true
   },
   "outputs": [],
   "source": [
    "true_salary = pd.DataFrame(y_train.astype(float)).sort_index()\n",
    "true_salary.columns = ['True Salary']\n",
    "true_salary.reset_index(inplace=True, drop=True)"
   ]
  },
  {
   "cell_type": "code",
   "execution_count": 84,
   "metadata": {
    "collapsed": true
   },
   "outputs": [],
   "source": [
    "predicted_salary = pd.concat([pred_lr_salary, true_salary], axis=1)"
   ]
  },
  {
   "cell_type": "code",
   "execution_count": 85,
   "metadata": {
    "collapsed": true
   },
   "outputs": [],
   "source": [
    "predicted_salary['Difference'] = predicted_salary['True Salary'] - predicted_salary['Predicted Salary']"
   ]
  },
  {
   "cell_type": "code",
   "execution_count": 86,
   "metadata": {},
   "outputs": [
    {
     "data": {
      "text/html": [
       "<div>\n",
       "<style>\n",
       "    .dataframe thead tr:only-child th {\n",
       "        text-align: right;\n",
       "    }\n",
       "\n",
       "    .dataframe thead th {\n",
       "        text-align: left;\n",
       "    }\n",
       "\n",
       "    .dataframe tbody tr th {\n",
       "        vertical-align: top;\n",
       "    }\n",
       "</style>\n",
       "<table border=\"1\" class=\"dataframe\">\n",
       "  <thead>\n",
       "    <tr style=\"text-align: right;\">\n",
       "      <th></th>\n",
       "      <th>0</th>\n",
       "      <th>1</th>\n",
       "      <th>2</th>\n",
       "      <th>3</th>\n",
       "      <th>4</th>\n",
       "      <th>5</th>\n",
       "      <th>6</th>\n",
       "      <th>7</th>\n",
       "      <th>8</th>\n",
       "      <th>9</th>\n",
       "      <th>...</th>\n",
       "      <th>3230</th>\n",
       "      <th>3231</th>\n",
       "      <th>3232</th>\n",
       "      <th>3233</th>\n",
       "      <th>3234</th>\n",
       "      <th>3235</th>\n",
       "      <th>3236</th>\n",
       "      <th>3237</th>\n",
       "      <th>3238</th>\n",
       "      <th>3239</th>\n",
       "    </tr>\n",
       "  </thead>\n",
       "  <tbody>\n",
       "    <tr>\n",
       "      <th>Predicted Salary</th>\n",
       "      <td>78939.456595</td>\n",
       "      <td>73259.571205</td>\n",
       "      <td>61535.550375</td>\n",
       "      <td>64490.522114</td>\n",
       "      <td>81100.404872</td>\n",
       "      <td>61535.550375</td>\n",
       "      <td>64490.522114</td>\n",
       "      <td>81100.404872</td>\n",
       "      <td>78939.456595</td>\n",
       "      <td>62675.220403</td>\n",
       "      <td>...</td>\n",
       "      <td>185172.458336</td>\n",
       "      <td>181845.548824</td>\n",
       "      <td>185000.0</td>\n",
       "      <td>185172.458336</td>\n",
       "      <td>181845.548824</td>\n",
       "      <td>165894.283698</td>\n",
       "      <td>1.850000e+05</td>\n",
       "      <td>186043.740804</td>\n",
       "      <td>163562.299397</td>\n",
       "      <td>185172.458336</td>\n",
       "    </tr>\n",
       "    <tr>\n",
       "      <th>True Salary</th>\n",
       "      <td>85000.000000</td>\n",
       "      <td>105000.000000</td>\n",
       "      <td>125000.000000</td>\n",
       "      <td>85000.000000</td>\n",
       "      <td>105000.000000</td>\n",
       "      <td>85000.000000</td>\n",
       "      <td>165000.000000</td>\n",
       "      <td>125000.000000</td>\n",
       "      <td>105000.000000</td>\n",
       "      <td>125000.000000</td>\n",
       "      <td>...</td>\n",
       "      <td>185000.000000</td>\n",
       "      <td>65000.000000</td>\n",
       "      <td>105000.0</td>\n",
       "      <td>165000.000000</td>\n",
       "      <td>145000.000000</td>\n",
       "      <td>165000.000000</td>\n",
       "      <td>1.850000e+05</td>\n",
       "      <td>185000.000000</td>\n",
       "      <td>125000.000000</td>\n",
       "      <td>125000.000000</td>\n",
       "    </tr>\n",
       "    <tr>\n",
       "      <th>Difference</th>\n",
       "      <td>6060.543405</td>\n",
       "      <td>31740.428795</td>\n",
       "      <td>63464.449625</td>\n",
       "      <td>20509.477886</td>\n",
       "      <td>23899.595128</td>\n",
       "      <td>23464.449625</td>\n",
       "      <td>100509.477886</td>\n",
       "      <td>43899.595128</td>\n",
       "      <td>26060.543405</td>\n",
       "      <td>62324.779597</td>\n",
       "      <td>...</td>\n",
       "      <td>-172.458336</td>\n",
       "      <td>-116845.548824</td>\n",
       "      <td>-80000.0</td>\n",
       "      <td>-20172.458336</td>\n",
       "      <td>-36845.548824</td>\n",
       "      <td>-894.283698</td>\n",
       "      <td>-4.074536e-10</td>\n",
       "      <td>-1043.740804</td>\n",
       "      <td>-38562.299397</td>\n",
       "      <td>-60172.458336</td>\n",
       "    </tr>\n",
       "  </tbody>\n",
       "</table>\n",
       "<p>3 rows × 3240 columns</p>\n",
       "</div>"
      ],
      "text/plain": [
       "                          0              1              2             3     \\\n",
       "Predicted Salary  78939.456595   73259.571205   61535.550375  64490.522114   \n",
       "True Salary       85000.000000  105000.000000  125000.000000  85000.000000   \n",
       "Difference         6060.543405   31740.428795   63464.449625  20509.477886   \n",
       "\n",
       "                           4             5              6              7     \\\n",
       "Predicted Salary   81100.404872  61535.550375   64490.522114   81100.404872   \n",
       "True Salary       105000.000000  85000.000000  165000.000000  125000.000000   \n",
       "Difference         23899.595128  23464.449625  100509.477886   43899.595128   \n",
       "\n",
       "                           8              9         ...                 3230  \\\n",
       "Predicted Salary   78939.456595   62675.220403      ...        185172.458336   \n",
       "True Salary       105000.000000  125000.000000      ...        185000.000000   \n",
       "Difference         26060.543405   62324.779597      ...          -172.458336   \n",
       "\n",
       "                           3231      3232           3233           3234  \\\n",
       "Predicted Salary  181845.548824  185000.0  185172.458336  181845.548824   \n",
       "True Salary        65000.000000  105000.0  165000.000000  145000.000000   \n",
       "Difference       -116845.548824  -80000.0  -20172.458336  -36845.548824   \n",
       "\n",
       "                           3235          3236           3237           3238  \\\n",
       "Predicted Salary  165894.283698  1.850000e+05  186043.740804  163562.299397   \n",
       "True Salary       165000.000000  1.850000e+05  185000.000000  125000.000000   \n",
       "Difference          -894.283698 -4.074536e-10   -1043.740804  -38562.299397   \n",
       "\n",
       "                           3239  \n",
       "Predicted Salary  185172.458336  \n",
       "True Salary       125000.000000  \n",
       "Difference        -60172.458336  \n",
       "\n",
       "[3 rows x 3240 columns]"
      ]
     },
     "execution_count": 86,
     "metadata": {},
     "output_type": "execute_result"
    }
   ],
   "source": [
    "predicted_salary.T"
   ]
  },
  {
   "cell_type": "code",
   "execution_count": 87,
   "metadata": {},
   "outputs": [
    {
     "data": {
      "text/plain": [
       "9.327598008108728e-11"
      ]
     },
     "execution_count": 87,
     "metadata": {},
     "output_type": "execute_result"
    }
   ],
   "source": [
    "predicted_salary['Difference'].mean()"
   ]
  },
  {
   "cell_type": "code",
   "execution_count": 88,
   "metadata": {},
   "outputs": [
    {
     "data": {
      "text/html": [
       "<iframe id=\"igraph\" scrolling=\"no\" style=\"border:none;\" seamless=\"seamless\" src=\"https://plot.ly/~0Noun/246.embed\" height=\"525px\" width=\"100%\"></iframe>"
      ],
      "text/plain": [
       "<plotly.tools.PlotlyDisplay object>"
      ]
     },
     "execution_count": 88,
     "metadata": {},
     "output_type": "execute_result"
    }
   ],
   "source": [
    "predicted_salary.iplot(kind='spread', title='Linear Regression with Salary as Target', \\\n",
    "                       xTitle=salary_score, yTitle=salary_std)"
   ]
  }
 ],
 "metadata": {
  "anaconda-cloud": {},
  "kernelspec": {
   "display_name": "Python [default]",
   "language": "python",
   "name": "python2"
  },
  "language_info": {
   "codemirror_mode": {
    "name": "ipython",
    "version": 2
   },
   "file_extension": ".py",
   "mimetype": "text/x-python",
   "name": "python",
   "nbconvert_exporter": "python",
   "pygments_lexer": "ipython2",
   "version": "2.7.13"
  }
 },
 "nbformat": 4,
 "nbformat_minor": 2
}
